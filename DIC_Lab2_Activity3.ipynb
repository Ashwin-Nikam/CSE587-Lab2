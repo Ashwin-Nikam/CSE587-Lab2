{
 "cells": [
  {
   "cell_type": "code",
   "execution_count": 274,
   "metadata": {
    "collapsed": false
   },
   "outputs": [],
   "source": [
    "library(dplyr)\n",
    "library(ggplot2)\n",
    "library(sqldf)"
   ]
  },
  {
   "cell_type": "code",
   "execution_count": 275,
   "metadata": {
    "collapsed": true
   },
   "outputs": [],
   "source": [
    "Data <- read.csv(file=\"June 10-July 12, 2015 - Gaming, Jobs and Broadband - CSV.csv\", header=TRUE, sep=\",\")\n",
    "DFrame = as.data.frame(Data)"
   ]
  },
  {
   "cell_type": "markdown",
   "metadata": {},
   "source": [
    "1. Read the data from the csv file and convert it to a dataframe"
   ]
  },
  {
   "cell_type": "code",
   "execution_count": 276,
   "metadata": {
    "collapsed": false
   },
   "outputs": [
    {
     "data": {
      "text/html": [
       "<table>\n",
       "<thead><tr><th scope=col>psraid</th><th scope=col>sample</th><th scope=col>int_date</th><th scope=col>lang</th><th scope=col>usr</th><th scope=col>cregion</th><th scope=col>state</th><th scope=col>form</th><th scope=col>sex</th><th scope=col>q1</th><th scope=col>⋯</th><th scope=col>ideo</th><th scope=col>hisp</th><th scope=col>birth_hisp</th><th scope=col>race</th><th scope=col>inc</th><th scope=col>ql1a</th><th scope=col>qc1</th><th scope=col>zipcode</th><th scope=col>weight</th><th scope=col>standwt</th></tr></thead>\n",
       "<tbody>\n",
       "\t<tr><td>100006   </td><td>1        </td><td>61015    </td><td>1        </td><td>S        </td><td>3        </td><td>51       </td><td>1        </td><td>2        </td><td>1        </td><td>⋯        </td><td>1        </td><td>2        </td><td>NA       </td><td>1        </td><td>99       </td><td>NA       </td><td>NA       </td><td>20112    </td><td>2.258065 </td><td>0.7209406</td></tr>\n",
       "\t<tr><td>100009   </td><td>1        </td><td>61015    </td><td>1        </td><td>U        </td><td>3        </td><td>24       </td><td>2        </td><td>2        </td><td>2        </td><td>⋯        </td><td>3        </td><td>2        </td><td>NA       </td><td>2        </td><td> 6       </td><td>NA       </td><td>NA       </td><td>21239    </td><td>2.548387 </td><td>0.8136330</td></tr>\n",
       "\t<tr><td>100011   </td><td>1        </td><td>61015    </td><td>1        </td><td>S        </td><td>2        </td><td>39       </td><td>2        </td><td>2        </td><td>1        </td><td>⋯        </td><td>1        </td><td>2        </td><td>NA       </td><td>1        </td><td> 3       </td><td>NA       </td><td>NA       </td><td>44730    </td><td>1.806452 </td><td>0.5767525</td></tr>\n",
       "\t<tr><td>100039   </td><td>1        </td><td>61015    </td><td>1        </td><td>S        </td><td>3        </td><td>37       </td><td>2        </td><td>2        </td><td>1        </td><td>⋯        </td><td>2        </td><td>2        </td><td>NA       </td><td>1        </td><td> 6       </td><td>NA       </td><td>NA       </td><td>27028    </td><td>5.032258 </td><td>1.6066676</td></tr>\n",
       "\t<tr><td>100040   </td><td>1        </td><td>61015    </td><td>1        </td><td>U        </td><td>3        </td><td>21       </td><td>1        </td><td>2        </td><td>1        </td><td>⋯        </td><td>1        </td><td>2        </td><td>NA       </td><td>1        </td><td> 3       </td><td> 2       </td><td>NA       </td><td>40511    </td><td>7.161290 </td><td>2.2864116</td></tr>\n",
       "\t<tr><td>100043   </td><td>1        </td><td>62215    </td><td>1        </td><td>R        </td><td>2        </td><td>20       </td><td>1        </td><td>2        </td><td>1        </td><td>⋯        </td><td>3        </td><td>2        </td><td>NA       </td><td>1        </td><td> 8       </td><td>NA       </td><td>NA       </td><td>67601    </td><td>1.000000 </td><td>0.3192737</td></tr>\n",
       "\t<tr><td>100049   </td><td>1        </td><td>61015    </td><td>1        </td><td>R        </td><td>1        </td><td>42       </td><td>1        </td><td>1        </td><td>1        </td><td>⋯        </td><td>1        </td><td>2        </td><td>NA       </td><td>1        </td><td>99       </td><td>NA       </td><td>NA       </td><td>15748    </td><td>1.387097 </td><td>0.4428635</td></tr>\n",
       "\t<tr><td>100051   </td><td>1        </td><td>61915    </td><td>1        </td><td>R        </td><td>2        </td><td>26       </td><td>1        </td><td>1        </td><td>1        </td><td>⋯        </td><td>2        </td><td>2        </td><td>NA       </td><td>1        </td><td> 7       </td><td>NA       </td><td>NA       </td><td>49690    </td><td>1.645161 </td><td>0.5252567</td></tr>\n",
       "\t<tr><td>100058   </td><td>1        </td><td>61015    </td><td>1        </td><td>R        </td><td>3        </td><td>40       </td><td>2        </td><td>1        </td><td>2        </td><td>⋯        </td><td>5        </td><td>2        </td><td>NA       </td><td>1        </td><td> 6       </td><td>NA       </td><td>NA       </td><td>73655    </td><td>1.000000 </td><td>0.3192737</td></tr>\n",
       "\t<tr><td>100059   </td><td>1        </td><td>61015    </td><td>1        </td><td>U        </td><td>1        </td><td>23       </td><td>1        </td><td>1        </td><td>3        </td><td>⋯        </td><td>4        </td><td>2        </td><td>NA       </td><td>1        </td><td> 3       </td><td>NA       </td><td>NA       </td><td> 4412    </td><td>2.935484 </td><td>0.9372228</td></tr>\n",
       "\t<tr><td>100060   </td><td>1        </td><td>61015    </td><td>1        </td><td>R        </td><td>2        </td><td>20       </td><td>1        </td><td>2        </td><td>1        </td><td>⋯        </td><td>3        </td><td>2        </td><td>NA       </td><td>1        </td><td>99       </td><td>NA       </td><td>NA       </td><td>67642    </td><td>1.000000 </td><td>0.3192737</td></tr>\n",
       "\t<tr><td>100065   </td><td>1        </td><td>61915    </td><td>1        </td><td>R        </td><td>3        </td><td>40       </td><td>1        </td><td>2        </td><td>3        </td><td>⋯        </td><td>3        </td><td>2        </td><td>NA       </td><td>1        </td><td>99       </td><td>NA       </td><td>NA       </td><td>73086    </td><td>2.064516 </td><td>0.6591457</td></tr>\n",
       "\t<tr><td>100067   </td><td>1        </td><td>61015    </td><td>1        </td><td>R        </td><td>2        </td><td>27       </td><td>1        </td><td>1        </td><td>1        </td><td>⋯        </td><td>2        </td><td>2        </td><td>NA       </td><td>1        </td><td> 8       </td><td>NA       </td><td>NA       </td><td>55395    </td><td>2.612903 </td><td>0.8342313</td></tr>\n",
       "\t<tr><td>100079   </td><td>1        </td><td>62315    </td><td>1        </td><td>U        </td><td>3        </td><td>12       </td><td>1        </td><td>2        </td><td>3        </td><td>⋯        </td><td>2        </td><td>2        </td><td>NA       </td><td>1        </td><td> 6       </td><td>NA       </td><td>NA       </td><td>32771    </td><td>1.903226 </td><td>0.6076499</td></tr>\n",
       "\t<tr><td>100080   </td><td>1        </td><td>62015    </td><td>1        </td><td>S        </td><td>3        </td><td>45       </td><td>2        </td><td>2        </td><td>4        </td><td>⋯        </td><td>3        </td><td>2        </td><td>NA       </td><td>1        </td><td>98       </td><td>NA       </td><td>NA       </td><td>29560    </td><td>2.580645 </td><td>0.8239321</td></tr>\n",
       "\t<tr><td>100084   </td><td>1        </td><td>61015    </td><td>1        </td><td>R        </td><td>3        </td><td> 1       </td><td>2        </td><td>2        </td><td>2        </td><td>⋯        </td><td>2        </td><td>2        </td><td>NA       </td><td>1        </td><td> 7       </td><td>NA       </td><td>NA       </td><td>36854    </td><td>4.645161 </td><td>1.4830778</td></tr>\n",
       "\t<tr><td>100091   </td><td>1        </td><td>61915    </td><td>1        </td><td>S        </td><td>3        </td><td>21       </td><td>2        </td><td>1        </td><td>1        </td><td>⋯        </td><td>2        </td><td>2        </td><td>NA       </td><td>1        </td><td> 4       </td><td>NA       </td><td>NA       </td><td>42211    </td><td>1.000000 </td><td>0.3192737</td></tr>\n",
       "\t<tr><td>100096   </td><td>1        </td><td>61015    </td><td>1        </td><td>R        </td><td>3        </td><td> 5       </td><td>2        </td><td>1        </td><td>3        </td><td>⋯        </td><td>4        </td><td>2        </td><td>NA       </td><td>2        </td><td> 4       </td><td>NA       </td><td>NA       </td><td>71852    </td><td>1.774194 </td><td>0.5664533</td></tr>\n",
       "\t<tr><td>100102   </td><td>1        </td><td>61015    </td><td>1        </td><td>U        </td><td>1        </td><td>36       </td><td>2        </td><td>2        </td><td>1        </td><td>⋯        </td><td>4        </td><td>2        </td><td>NA       </td><td>1        </td><td>99       </td><td>NA       </td><td>NA       </td><td>10075    </td><td>1.258065 </td><td>0.4016669</td></tr>\n",
       "\t<tr><td>100118   </td><td>1        </td><td>61015    </td><td>1        </td><td>U        </td><td>3        </td><td> 1       </td><td>2        </td><td>1        </td><td>1        </td><td>⋯        </td><td>3        </td><td>2        </td><td>NA       </td><td>1        </td><td> 7       </td><td>NA       </td><td>NA       </td><td>36532    </td><td>1.161290 </td><td>0.3707695</td></tr>\n",
       "\t<tr><td>100129   </td><td>1        </td><td>62315    </td><td>1        </td><td>R        </td><td>4        </td><td>30       </td><td>1        </td><td>2        </td><td>4        </td><td>⋯        </td><td>3        </td><td>2        </td><td>NA       </td><td>5        </td><td> 2       </td><td> 2       </td><td>NA       </td><td>59043    </td><td>7.161290 </td><td>2.2864116</td></tr>\n",
       "\t<tr><td>100134   </td><td>1        </td><td>61015    </td><td>1        </td><td>S        </td><td>2        </td><td>20       </td><td>1        </td><td>1        </td><td>2        </td><td>⋯        </td><td>3        </td><td>2        </td><td>NA       </td><td>1        </td><td> 6       </td><td>NA       </td><td>NA       </td><td>66051    </td><td>1.645161 </td><td>0.5252567</td></tr>\n",
       "\t<tr><td>100141   </td><td>1        </td><td>61015    </td><td>1        </td><td>R        </td><td>3        </td><td>48       </td><td>2        </td><td>2        </td><td>2        </td><td>⋯        </td><td>4        </td><td>2        </td><td>NA       </td><td>1        </td><td> 1       </td><td> 2       </td><td>NA       </td><td>78954    </td><td>4.096774 </td><td>1.3079922</td></tr>\n",
       "\t<tr><td>100142   </td><td>1        </td><td>61015    </td><td>1        </td><td>S        </td><td>3        </td><td>45       </td><td>2        </td><td>1        </td><td>4        </td><td>⋯        </td><td>1        </td><td>2        </td><td>NA       </td><td>1        </td><td> 6       </td><td>NA       </td><td>NA       </td><td>29706    </td><td>2.967742 </td><td>0.9475219</td></tr>\n",
       "\t<tr><td>100143   </td><td>1        </td><td>61015    </td><td>1        </td><td>U        </td><td>1        </td><td> 9       </td><td>2        </td><td>1        </td><td>1        </td><td>⋯        </td><td>4        </td><td>2        </td><td>NA       </td><td>1        </td><td> 9       </td><td>NA       </td><td>NA       </td><td> 6511    </td><td>1.838710 </td><td>0.5870516</td></tr>\n",
       "\t<tr><td>100151   </td><td>1        </td><td>61015    </td><td>1        </td><td>U        </td><td>3        </td><td>51       </td><td>1        </td><td>2        </td><td>2        </td><td>⋯        </td><td>8        </td><td>1        </td><td> 3       </td><td>2        </td><td> 7       </td><td>NA       </td><td>NA       </td><td>23452    </td><td>2.387097 </td><td>0.7621372</td></tr>\n",
       "\t<tr><td>100152   </td><td>1        </td><td>62415    </td><td>1        </td><td>S        </td><td>4        </td><td>49       </td><td>1        </td><td>2        </td><td>2        </td><td>⋯        </td><td>2        </td><td>2        </td><td>NA       </td><td>1        </td><td> 6       </td><td>NA       </td><td>NA       </td><td>84005    </td><td>3.483871 </td><td>1.1123084</td></tr>\n",
       "\t<tr><td>100156   </td><td>1        </td><td>62115    </td><td>1        </td><td>S        </td><td>2        </td><td>27       </td><td>2        </td><td>2        </td><td>1        </td><td>⋯        </td><td>3        </td><td>2        </td><td>NA       </td><td>1        </td><td> 1       </td><td>NA       </td><td>NA       </td><td>55014    </td><td>1.806452 </td><td>0.5767525</td></tr>\n",
       "\t<tr><td>100161   </td><td>1        </td><td>61015    </td><td>1        </td><td>S        </td><td>3        </td><td>12       </td><td>2        </td><td>2        </td><td>2        </td><td>⋯        </td><td>5        </td><td>2        </td><td>NA       </td><td>1        </td><td> 6       </td><td>NA       </td><td>NA       </td><td>32934    </td><td>1.000000 </td><td>0.3192737</td></tr>\n",
       "\t<tr><td>100163   </td><td>1        </td><td>61015    </td><td>1        </td><td>S        </td><td>2        </td><td>27       </td><td>2        </td><td>2        </td><td>2        </td><td>⋯        </td><td>3        </td><td>2        </td><td>NA       </td><td>1        </td><td> 6       </td><td>NA       </td><td>NA       </td><td>55941    </td><td>1.161290 </td><td>0.3707695</td></tr>\n",
       "\t<tr><td>⋮</td><td>⋮</td><td>⋮</td><td>⋮</td><td>⋮</td><td>⋮</td><td>⋮</td><td>⋮</td><td>⋮</td><td>⋮</td><td>⋱</td><td>⋮</td><td>⋮</td><td>⋮</td><td>⋮</td><td>⋮</td><td>⋮</td><td>⋮</td><td>⋮</td><td>⋮</td><td>⋮</td></tr>\n",
       "\t<tr><td>205355   </td><td>2        </td><td>71115    </td><td>1        </td><td>R        </td><td>3        </td><td>47       </td><td>2        </td><td>2        </td><td>2        </td><td>⋯        </td><td>1        </td><td>2        </td><td>NA       </td><td>1        </td><td> 1       </td><td>NA       </td><td>2        </td><td>37355    </td><td>3.548387 </td><td>1.1329067</td></tr>\n",
       "\t<tr><td>205356   </td><td>2        </td><td>71115    </td><td>1        </td><td>R        </td><td>2        </td><td>18       </td><td>2        </td><td>2        </td><td>1        </td><td>⋯        </td><td>3        </td><td>2        </td><td>NA       </td><td>1        </td><td> 5       </td><td>NA       </td><td>1        </td><td>46962    </td><td>1.290323 </td><td>0.4119661</td></tr>\n",
       "\t<tr><td>205363   </td><td>2        </td><td>71115    </td><td>1        </td><td>U        </td><td>2        </td><td>26       </td><td>2        </td><td>1        </td><td>1        </td><td>⋯        </td><td>4        </td><td>2        </td><td>NA       </td><td>3        </td><td> 4       </td><td>NA       </td><td>2        </td><td>48104    </td><td>3.290323 </td><td>1.0505135</td></tr>\n",
       "\t<tr><td>205368   </td><td>2        </td><td>71115    </td><td>1        </td><td>R        </td><td>4        </td><td> 4       </td><td>2        </td><td>1        </td><td>3        </td><td>⋯        </td><td>3        </td><td>2        </td><td>NA       </td><td>1        </td><td> 4       </td><td>NA       </td><td>1        </td><td>85344    </td><td>2.129032 </td><td>0.6797440</td></tr>\n",
       "\t<tr><td>205371   </td><td>2        </td><td>71115    </td><td>1        </td><td>S        </td><td>2        </td><td>18       </td><td>2        </td><td>2        </td><td>2        </td><td>⋯        </td><td>4        </td><td>2        </td><td>NA       </td><td>1        </td><td> 5       </td><td>NA       </td><td>2        </td><td>46528    </td><td>5.774194 </td><td>1.8435481</td></tr>\n",
       "\t<tr><td>205381   </td><td>2        </td><td>71115    </td><td>1        </td><td>S        </td><td>2        </td><td>29       </td><td>1        </td><td>2        </td><td>1        </td><td>⋯        </td><td>9        </td><td>2        </td><td>NA       </td><td>1        </td><td>99       </td><td>NA       </td><td>1        </td><td>65085    </td><td>1.580645 </td><td>0.5046584</td></tr>\n",
       "\t<tr><td>205390   </td><td>2        </td><td>71115    </td><td>1        </td><td>U        </td><td>3        </td><td>12       </td><td>1        </td><td>2        </td><td>3        </td><td>⋯        </td><td>4        </td><td>2        </td><td>NA       </td><td>2        </td><td> 5       </td><td>NA       </td><td>2        </td><td>33755    </td><td>5.258065 </td><td>1.6787617</td></tr>\n",
       "\t<tr><td>205391   </td><td>2        </td><td>71115    </td><td>1        </td><td>S        </td><td>3        </td><td>13       </td><td>1        </td><td>1        </td><td>1        </td><td>⋯        </td><td>3        </td><td>2        </td><td>NA       </td><td>1        </td><td> 1       </td><td>NA       </td><td>2        </td><td>30044    </td><td>4.612903 </td><td>1.4727787</td></tr>\n",
       "\t<tr><td>205392   </td><td>2        </td><td>71115    </td><td>1        </td><td>S        </td><td>1        </td><td>25       </td><td>1        </td><td>1        </td><td>1        </td><td>⋯        </td><td>3        </td><td>2        </td><td>NA       </td><td>1        </td><td> 9       </td><td>NA       </td><td>1        </td><td> 1907    </td><td>1.548387 </td><td>0.4943593</td></tr>\n",
       "\t<tr><td>205396   </td><td>2        </td><td>71115    </td><td>1        </td><td>U        </td><td>3        </td><td>47       </td><td>2        </td><td>2        </td><td>2        </td><td>⋯        </td><td>5        </td><td>2        </td><td>NA       </td><td>1        </td><td> 1       </td><td>NA       </td><td>2        </td><td>37918    </td><td>7.161290 </td><td>2.2864116</td></tr>\n",
       "\t<tr><td>205398   </td><td>2        </td><td>71115    </td><td>1        </td><td>U        </td><td>2        </td><td>26       </td><td>1        </td><td>1        </td><td>2        </td><td>⋯        </td><td>2        </td><td>2        </td><td>NA       </td><td>2        </td><td> 1       </td><td>NA       </td><td>2        </td><td>49015    </td><td>2.774194 </td><td>0.8857270</td></tr>\n",
       "\t<tr><td>205401   </td><td>2        </td><td>71115    </td><td>1        </td><td>S        </td><td>2        </td><td>26       </td><td>2        </td><td>2        </td><td>2        </td><td>⋯        </td><td>1        </td><td>2        </td><td>NA       </td><td>1        </td><td>99       </td><td>NA       </td><td>2        </td><td>49508    </td><td>3.032258 </td><td>0.9681202</td></tr>\n",
       "\t<tr><td>205410   </td><td>2        </td><td>71115    </td><td>1        </td><td>S        </td><td>3        </td><td> 1       </td><td>2        </td><td>1        </td><td>1        </td><td>⋯        </td><td>2        </td><td>2        </td><td>NA       </td><td>1        </td><td> 3       </td><td>NA       </td><td>2        </td><td>36695    </td><td>6.290323 </td><td>2.0083345</td></tr>\n",
       "\t<tr><td>205422   </td><td>2        </td><td>71115    </td><td>1        </td><td>U        </td><td>4        </td><td>53       </td><td>2        </td><td>2        </td><td>1        </td><td>⋯        </td><td>4        </td><td>2        </td><td>NA       </td><td>1        </td><td> 6       </td><td>NA       </td><td>2        </td><td>98225    </td><td>5.677419 </td><td>1.8126507</td></tr>\n",
       "\t<tr><td>205425   </td><td>2        </td><td>71115    </td><td>1        </td><td>R        </td><td>3        </td><td>48       </td><td>2        </td><td>2        </td><td>3        </td><td>⋯        </td><td>2        </td><td>2        </td><td>NA       </td><td>1        </td><td> 1       </td><td>NA       </td><td>2        </td><td>76458    </td><td>7.161290 </td><td>2.2864116</td></tr>\n",
       "\t<tr><td>205441   </td><td>2        </td><td>71115    </td><td>1        </td><td>S        </td><td>3        </td><td>40       </td><td>2        </td><td>1        </td><td>1        </td><td>⋯        </td><td>3        </td><td>2        </td><td>NA       </td><td>1        </td><td> 8       </td><td>NA       </td><td>1        </td><td>73069    </td><td>1.419355 </td><td>0.4531627</td></tr>\n",
       "\t<tr><td>205448   </td><td>2        </td><td>71115    </td><td>1        </td><td>U        </td><td>4        </td><td> 6       </td><td>2        </td><td>1        </td><td>2        </td><td>⋯        </td><td>3        </td><td>2        </td><td>NA       </td><td>1        </td><td> 8       </td><td>NA       </td><td>1        </td><td>95821    </td><td>1.354839 </td><td>0.4325644</td></tr>\n",
       "\t<tr><td>205459   </td><td>2        </td><td>71215    </td><td>1        </td><td>S        </td><td>2        </td><td>29       </td><td>1        </td><td>2        </td><td>2        </td><td>⋯        </td><td>2        </td><td>2        </td><td>NA       </td><td>1        </td><td> 6       </td><td>NA       </td><td>1        </td><td>63376    </td><td>4.000000 </td><td>1.2770948</td></tr>\n",
       "\t<tr><td>205460   </td><td>2        </td><td>71215    </td><td>1        </td><td>U        </td><td>3        </td><td>12       </td><td>1        </td><td>1        </td><td>4        </td><td>⋯        </td><td>2        </td><td>2        </td><td>NA       </td><td>1        </td><td> 5       </td><td>NA       </td><td>2        </td><td>33755    </td><td>4.451613 </td><td>1.4212829</td></tr>\n",
       "\t<tr><td>205466   </td><td>2        </td><td>71215    </td><td>1        </td><td>R        </td><td>4        </td><td>35       </td><td>1        </td><td>1        </td><td>1        </td><td>⋯        </td><td>8        </td><td>1        </td><td> 1       </td><td>4        </td><td> 3       </td><td>NA       </td><td>2        </td><td>88030    </td><td>1.419355 </td><td>0.4531627</td></tr>\n",
       "\t<tr><td>205469   </td><td>2        </td><td>71215    </td><td>2        </td><td>R        </td><td>4        </td><td> 6       </td><td>2        </td><td>1        </td><td>1        </td><td>⋯        </td><td>4        </td><td>1        </td><td> 3       </td><td>6        </td><td> 3       </td><td>NA       </td><td>2        </td><td>96130    </td><td>3.483871 </td><td>1.1123084</td></tr>\n",
       "\t<tr><td>205479   </td><td>2        </td><td>71215    </td><td>1        </td><td>S        </td><td>4        </td><td>15       </td><td>2        </td><td>2        </td><td>1        </td><td>⋯        </td><td>2        </td><td>2        </td><td>NA       </td><td>3        </td><td> 5       </td><td>NA       </td><td>1        </td><td>96819    </td><td>6.483871 </td><td>2.0701294</td></tr>\n",
       "\t<tr><td>205481   </td><td>2        </td><td>71215    </td><td>1        </td><td>S        </td><td>2        </td><td>39       </td><td>2        </td><td>1        </td><td>1        </td><td>⋯        </td><td>3        </td><td>2        </td><td>NA       </td><td>1        </td><td> 5       </td><td>NA       </td><td>2        </td><td>44221    </td><td>3.354839 </td><td>1.0711118</td></tr>\n",
       "\t<tr><td>205482   </td><td>2        </td><td>71215    </td><td>1        </td><td>U        </td><td>2        </td><td>26       </td><td>2        </td><td>2        </td><td>1        </td><td>⋯        </td><td>5        </td><td>2        </td><td>NA       </td><td>1        </td><td> 4       </td><td>NA       </td><td>2        </td><td>49504    </td><td>1.645161 </td><td>0.5252567</td></tr>\n",
       "\t<tr><td>205487   </td><td>2        </td><td>71215    </td><td>1        </td><td>S        </td><td>3        </td><td>37       </td><td>1        </td><td>1        </td><td>2        </td><td>⋯        </td><td>4        </td><td>2        </td><td>NA       </td><td>1        </td><td> 1       </td><td>NA       </td><td>2        </td><td>27278    </td><td>2.967742 </td><td>0.9475219</td></tr>\n",
       "\t<tr><td>205494   </td><td>2        </td><td>71215    </td><td>1        </td><td>S        </td><td>3        </td><td>24       </td><td>2        </td><td>2        </td><td>2        </td><td>⋯        </td><td>2        </td><td>2        </td><td>NA       </td><td>1        </td><td> 9       </td><td>NA       </td><td>1        </td><td>20853    </td><td>3.322581 </td><td>1.0608126</td></tr>\n",
       "\t<tr><td>205502   </td><td>2        </td><td>71215    </td><td>1        </td><td>U        </td><td>4        </td><td>53       </td><td>2        </td><td>2        </td><td>3        </td><td>⋯        </td><td>3        </td><td>2        </td><td>NA       </td><td>1        </td><td> 3       </td><td>NA       </td><td>1        </td><td>98103    </td><td>1.935484 </td><td>0.6179491</td></tr>\n",
       "\t<tr><td>205505   </td><td>2        </td><td>71215    </td><td>1        </td><td>S        </td><td>4        </td><td> 4       </td><td>1        </td><td>2        </td><td>1        </td><td>⋯        </td><td>1        </td><td>2        </td><td>NA       </td><td>2        </td><td> 6       </td><td>NA       </td><td>2        </td><td>85308    </td><td>4.548387 </td><td>1.4521804</td></tr>\n",
       "\t<tr><td>205507   </td><td>2        </td><td>71215    </td><td>1        </td><td>S        </td><td>2        </td><td>27       </td><td>2        </td><td>2        </td><td>1        </td><td>⋯        </td><td>2        </td><td>2        </td><td>NA       </td><td>1        </td><td> 4       </td><td>NA       </td><td>1        </td><td>55921    </td><td>2.161290 </td><td>0.6900431</td></tr>\n",
       "\t<tr><td>205508   </td><td>2        </td><td>71215    </td><td>1        </td><td>S        </td><td>4        </td><td>49       </td><td>2        </td><td>2        </td><td>1        </td><td>⋯        </td><td>2        </td><td>2        </td><td>NA       </td><td>1        </td><td> 5       </td><td>NA       </td><td>2        </td><td>84129    </td><td>4.129032 </td><td>1.3182914</td></tr>\n",
       "</tbody>\n",
       "</table>\n"
      ],
      "text/latex": [
       "\\begin{tabular}{r|llllllllllllllllllllllllllllllllllllllllllllllllllllllllllllllllllllllllllllllllllllllllllllllllllllllllllllllllllllllllllllllllllllllllllll}\n",
       " psraid & sample & int\\_date & lang & usr & cregion & state & form & sex & q1 & ⋯ & ideo & hisp & birth\\_hisp & race & inc & ql1a & qc1 & zipcode & weight & standwt\\\\\n",
       "\\hline\n",
       "\t 100006    & 1         & 61015     & 1         & S         & 3         & 51        & 1         & 2         & 1         & ⋯         & 1         & 2         & NA        & 1         & 99        & NA        & NA        & 20112     & 2.258065  & 0.7209406\\\\\n",
       "\t 100009    & 1         & 61015     & 1         & U         & 3         & 24        & 2         & 2         & 2         & ⋯         & 3         & 2         & NA        & 2         &  6        & NA        & NA        & 21239     & 2.548387  & 0.8136330\\\\\n",
       "\t 100011    & 1         & 61015     & 1         & S         & 2         & 39        & 2         & 2         & 1         & ⋯         & 1         & 2         & NA        & 1         &  3        & NA        & NA        & 44730     & 1.806452  & 0.5767525\\\\\n",
       "\t 100039    & 1         & 61015     & 1         & S         & 3         & 37        & 2         & 2         & 1         & ⋯         & 2         & 2         & NA        & 1         &  6        & NA        & NA        & 27028     & 5.032258  & 1.6066676\\\\\n",
       "\t 100040    & 1         & 61015     & 1         & U         & 3         & 21        & 1         & 2         & 1         & ⋯         & 1         & 2         & NA        & 1         &  3        &  2        & NA        & 40511     & 7.161290  & 2.2864116\\\\\n",
       "\t 100043    & 1         & 62215     & 1         & R         & 2         & 20        & 1         & 2         & 1         & ⋯         & 3         & 2         & NA        & 1         &  8        & NA        & NA        & 67601     & 1.000000  & 0.3192737\\\\\n",
       "\t 100049    & 1         & 61015     & 1         & R         & 1         & 42        & 1         & 1         & 1         & ⋯         & 1         & 2         & NA        & 1         & 99        & NA        & NA        & 15748     & 1.387097  & 0.4428635\\\\\n",
       "\t 100051    & 1         & 61915     & 1         & R         & 2         & 26        & 1         & 1         & 1         & ⋯         & 2         & 2         & NA        & 1         &  7        & NA        & NA        & 49690     & 1.645161  & 0.5252567\\\\\n",
       "\t 100058    & 1         & 61015     & 1         & R         & 3         & 40        & 2         & 1         & 2         & ⋯         & 5         & 2         & NA        & 1         &  6        & NA        & NA        & 73655     & 1.000000  & 0.3192737\\\\\n",
       "\t 100059    & 1         & 61015     & 1         & U         & 1         & 23        & 1         & 1         & 3         & ⋯         & 4         & 2         & NA        & 1         &  3        & NA        & NA        &  4412     & 2.935484  & 0.9372228\\\\\n",
       "\t 100060    & 1         & 61015     & 1         & R         & 2         & 20        & 1         & 2         & 1         & ⋯         & 3         & 2         & NA        & 1         & 99        & NA        & NA        & 67642     & 1.000000  & 0.3192737\\\\\n",
       "\t 100065    & 1         & 61915     & 1         & R         & 3         & 40        & 1         & 2         & 3         & ⋯         & 3         & 2         & NA        & 1         & 99        & NA        & NA        & 73086     & 2.064516  & 0.6591457\\\\\n",
       "\t 100067    & 1         & 61015     & 1         & R         & 2         & 27        & 1         & 1         & 1         & ⋯         & 2         & 2         & NA        & 1         &  8        & NA        & NA        & 55395     & 2.612903  & 0.8342313\\\\\n",
       "\t 100079    & 1         & 62315     & 1         & U         & 3         & 12        & 1         & 2         & 3         & ⋯         & 2         & 2         & NA        & 1         &  6        & NA        & NA        & 32771     & 1.903226  & 0.6076499\\\\\n",
       "\t 100080    & 1         & 62015     & 1         & S         & 3         & 45        & 2         & 2         & 4         & ⋯         & 3         & 2         & NA        & 1         & 98        & NA        & NA        & 29560     & 2.580645  & 0.8239321\\\\\n",
       "\t 100084    & 1         & 61015     & 1         & R         & 3         &  1        & 2         & 2         & 2         & ⋯         & 2         & 2         & NA        & 1         &  7        & NA        & NA        & 36854     & 4.645161  & 1.4830778\\\\\n",
       "\t 100091    & 1         & 61915     & 1         & S         & 3         & 21        & 2         & 1         & 1         & ⋯         & 2         & 2         & NA        & 1         &  4        & NA        & NA        & 42211     & 1.000000  & 0.3192737\\\\\n",
       "\t 100096    & 1         & 61015     & 1         & R         & 3         &  5        & 2         & 1         & 3         & ⋯         & 4         & 2         & NA        & 2         &  4        & NA        & NA        & 71852     & 1.774194  & 0.5664533\\\\\n",
       "\t 100102    & 1         & 61015     & 1         & U         & 1         & 36        & 2         & 2         & 1         & ⋯         & 4         & 2         & NA        & 1         & 99        & NA        & NA        & 10075     & 1.258065  & 0.4016669\\\\\n",
       "\t 100118    & 1         & 61015     & 1         & U         & 3         &  1        & 2         & 1         & 1         & ⋯         & 3         & 2         & NA        & 1         &  7        & NA        & NA        & 36532     & 1.161290  & 0.3707695\\\\\n",
       "\t 100129    & 1         & 62315     & 1         & R         & 4         & 30        & 1         & 2         & 4         & ⋯         & 3         & 2         & NA        & 5         &  2        &  2        & NA        & 59043     & 7.161290  & 2.2864116\\\\\n",
       "\t 100134    & 1         & 61015     & 1         & S         & 2         & 20        & 1         & 1         & 2         & ⋯         & 3         & 2         & NA        & 1         &  6        & NA        & NA        & 66051     & 1.645161  & 0.5252567\\\\\n",
       "\t 100141    & 1         & 61015     & 1         & R         & 3         & 48        & 2         & 2         & 2         & ⋯         & 4         & 2         & NA        & 1         &  1        &  2        & NA        & 78954     & 4.096774  & 1.3079922\\\\\n",
       "\t 100142    & 1         & 61015     & 1         & S         & 3         & 45        & 2         & 1         & 4         & ⋯         & 1         & 2         & NA        & 1         &  6        & NA        & NA        & 29706     & 2.967742  & 0.9475219\\\\\n",
       "\t 100143    & 1         & 61015     & 1         & U         & 1         &  9        & 2         & 1         & 1         & ⋯         & 4         & 2         & NA        & 1         &  9        & NA        & NA        &  6511     & 1.838710  & 0.5870516\\\\\n",
       "\t 100151    & 1         & 61015     & 1         & U         & 3         & 51        & 1         & 2         & 2         & ⋯         & 8         & 1         &  3        & 2         &  7        & NA        & NA        & 23452     & 2.387097  & 0.7621372\\\\\n",
       "\t 100152    & 1         & 62415     & 1         & S         & 4         & 49        & 1         & 2         & 2         & ⋯         & 2         & 2         & NA        & 1         &  6        & NA        & NA        & 84005     & 3.483871  & 1.1123084\\\\\n",
       "\t 100156    & 1         & 62115     & 1         & S         & 2         & 27        & 2         & 2         & 1         & ⋯         & 3         & 2         & NA        & 1         &  1        & NA        & NA        & 55014     & 1.806452  & 0.5767525\\\\\n",
       "\t 100161    & 1         & 61015     & 1         & S         & 3         & 12        & 2         & 2         & 2         & ⋯         & 5         & 2         & NA        & 1         &  6        & NA        & NA        & 32934     & 1.000000  & 0.3192737\\\\\n",
       "\t 100163    & 1         & 61015     & 1         & S         & 2         & 27        & 2         & 2         & 2         & ⋯         & 3         & 2         & NA        & 1         &  6        & NA        & NA        & 55941     & 1.161290  & 0.3707695\\\\\n",
       "\t ⋮ & ⋮ & ⋮ & ⋮ & ⋮ & ⋮ & ⋮ & ⋮ & ⋮ & ⋮ & ⋱ & ⋮ & ⋮ & ⋮ & ⋮ & ⋮ & ⋮ & ⋮ & ⋮ & ⋮ & ⋮\\\\\n",
       "\t 205355    & 2         & 71115     & 1         & R         & 3         & 47        & 2         & 2         & 2         & ⋯         & 1         & 2         & NA        & 1         &  1        & NA        & 2         & 37355     & 3.548387  & 1.1329067\\\\\n",
       "\t 205356    & 2         & 71115     & 1         & R         & 2         & 18        & 2         & 2         & 1         & ⋯         & 3         & 2         & NA        & 1         &  5        & NA        & 1         & 46962     & 1.290323  & 0.4119661\\\\\n",
       "\t 205363    & 2         & 71115     & 1         & U         & 2         & 26        & 2         & 1         & 1         & ⋯         & 4         & 2         & NA        & 3         &  4        & NA        & 2         & 48104     & 3.290323  & 1.0505135\\\\\n",
       "\t 205368    & 2         & 71115     & 1         & R         & 4         &  4        & 2         & 1         & 3         & ⋯         & 3         & 2         & NA        & 1         &  4        & NA        & 1         & 85344     & 2.129032  & 0.6797440\\\\\n",
       "\t 205371    & 2         & 71115     & 1         & S         & 2         & 18        & 2         & 2         & 2         & ⋯         & 4         & 2         & NA        & 1         &  5        & NA        & 2         & 46528     & 5.774194  & 1.8435481\\\\\n",
       "\t 205381    & 2         & 71115     & 1         & S         & 2         & 29        & 1         & 2         & 1         & ⋯         & 9         & 2         & NA        & 1         & 99        & NA        & 1         & 65085     & 1.580645  & 0.5046584\\\\\n",
       "\t 205390    & 2         & 71115     & 1         & U         & 3         & 12        & 1         & 2         & 3         & ⋯         & 4         & 2         & NA        & 2         &  5        & NA        & 2         & 33755     & 5.258065  & 1.6787617\\\\\n",
       "\t 205391    & 2         & 71115     & 1         & S         & 3         & 13        & 1         & 1         & 1         & ⋯         & 3         & 2         & NA        & 1         &  1        & NA        & 2         & 30044     & 4.612903  & 1.4727787\\\\\n",
       "\t 205392    & 2         & 71115     & 1         & S         & 1         & 25        & 1         & 1         & 1         & ⋯         & 3         & 2         & NA        & 1         &  9        & NA        & 1         &  1907     & 1.548387  & 0.4943593\\\\\n",
       "\t 205396    & 2         & 71115     & 1         & U         & 3         & 47        & 2         & 2         & 2         & ⋯         & 5         & 2         & NA        & 1         &  1        & NA        & 2         & 37918     & 7.161290  & 2.2864116\\\\\n",
       "\t 205398    & 2         & 71115     & 1         & U         & 2         & 26        & 1         & 1         & 2         & ⋯         & 2         & 2         & NA        & 2         &  1        & NA        & 2         & 49015     & 2.774194  & 0.8857270\\\\\n",
       "\t 205401    & 2         & 71115     & 1         & S         & 2         & 26        & 2         & 2         & 2         & ⋯         & 1         & 2         & NA        & 1         & 99        & NA        & 2         & 49508     & 3.032258  & 0.9681202\\\\\n",
       "\t 205410    & 2         & 71115     & 1         & S         & 3         &  1        & 2         & 1         & 1         & ⋯         & 2         & 2         & NA        & 1         &  3        & NA        & 2         & 36695     & 6.290323  & 2.0083345\\\\\n",
       "\t 205422    & 2         & 71115     & 1         & U         & 4         & 53        & 2         & 2         & 1         & ⋯         & 4         & 2         & NA        & 1         &  6        & NA        & 2         & 98225     & 5.677419  & 1.8126507\\\\\n",
       "\t 205425    & 2         & 71115     & 1         & R         & 3         & 48        & 2         & 2         & 3         & ⋯         & 2         & 2         & NA        & 1         &  1        & NA        & 2         & 76458     & 7.161290  & 2.2864116\\\\\n",
       "\t 205441    & 2         & 71115     & 1         & S         & 3         & 40        & 2         & 1         & 1         & ⋯         & 3         & 2         & NA        & 1         &  8        & NA        & 1         & 73069     & 1.419355  & 0.4531627\\\\\n",
       "\t 205448    & 2         & 71115     & 1         & U         & 4         &  6        & 2         & 1         & 2         & ⋯         & 3         & 2         & NA        & 1         &  8        & NA        & 1         & 95821     & 1.354839  & 0.4325644\\\\\n",
       "\t 205459    & 2         & 71215     & 1         & S         & 2         & 29        & 1         & 2         & 2         & ⋯         & 2         & 2         & NA        & 1         &  6        & NA        & 1         & 63376     & 4.000000  & 1.2770948\\\\\n",
       "\t 205460    & 2         & 71215     & 1         & U         & 3         & 12        & 1         & 1         & 4         & ⋯         & 2         & 2         & NA        & 1         &  5        & NA        & 2         & 33755     & 4.451613  & 1.4212829\\\\\n",
       "\t 205466    & 2         & 71215     & 1         & R         & 4         & 35        & 1         & 1         & 1         & ⋯         & 8         & 1         &  1        & 4         &  3        & NA        & 2         & 88030     & 1.419355  & 0.4531627\\\\\n",
       "\t 205469    & 2         & 71215     & 2         & R         & 4         &  6        & 2         & 1         & 1         & ⋯         & 4         & 1         &  3        & 6         &  3        & NA        & 2         & 96130     & 3.483871  & 1.1123084\\\\\n",
       "\t 205479    & 2         & 71215     & 1         & S         & 4         & 15        & 2         & 2         & 1         & ⋯         & 2         & 2         & NA        & 3         &  5        & NA        & 1         & 96819     & 6.483871  & 2.0701294\\\\\n",
       "\t 205481    & 2         & 71215     & 1         & S         & 2         & 39        & 2         & 1         & 1         & ⋯         & 3         & 2         & NA        & 1         &  5        & NA        & 2         & 44221     & 3.354839  & 1.0711118\\\\\n",
       "\t 205482    & 2         & 71215     & 1         & U         & 2         & 26        & 2         & 2         & 1         & ⋯         & 5         & 2         & NA        & 1         &  4        & NA        & 2         & 49504     & 1.645161  & 0.5252567\\\\\n",
       "\t 205487    & 2         & 71215     & 1         & S         & 3         & 37        & 1         & 1         & 2         & ⋯         & 4         & 2         & NA        & 1         &  1        & NA        & 2         & 27278     & 2.967742  & 0.9475219\\\\\n",
       "\t 205494    & 2         & 71215     & 1         & S         & 3         & 24        & 2         & 2         & 2         & ⋯         & 2         & 2         & NA        & 1         &  9        & NA        & 1         & 20853     & 3.322581  & 1.0608126\\\\\n",
       "\t 205502    & 2         & 71215     & 1         & U         & 4         & 53        & 2         & 2         & 3         & ⋯         & 3         & 2         & NA        & 1         &  3        & NA        & 1         & 98103     & 1.935484  & 0.6179491\\\\\n",
       "\t 205505    & 2         & 71215     & 1         & S         & 4         &  4        & 1         & 2         & 1         & ⋯         & 1         & 2         & NA        & 2         &  6        & NA        & 2         & 85308     & 4.548387  & 1.4521804\\\\\n",
       "\t 205507    & 2         & 71215     & 1         & S         & 2         & 27        & 2         & 2         & 1         & ⋯         & 2         & 2         & NA        & 1         &  4        & NA        & 1         & 55921     & 2.161290  & 0.6900431\\\\\n",
       "\t 205508    & 2         & 71215     & 1         & S         & 4         & 49        & 2         & 2         & 1         & ⋯         & 2         & 2         & NA        & 1         &  5        & NA        & 2         & 84129     & 4.129032  & 1.3182914\\\\\n",
       "\\end{tabular}\n"
      ],
      "text/markdown": [
       "\n",
       "psraid | sample | int_date | lang | usr | cregion | state | form | sex | q1 | ⋯ | ideo | hisp | birth_hisp | race | inc | ql1a | qc1 | zipcode | weight | standwt | \n",
       "|---|---|---|---|---|---|---|---|---|---|---|---|---|---|---|---|---|---|---|---|---|---|---|---|---|---|---|---|---|---|---|---|---|---|---|---|---|---|---|---|---|---|---|---|---|---|---|---|---|---|---|---|---|---|---|---|---|---|---|---|---|\n",
       "| 100006    | 1         | 61015     | 1         | S         | 3         | 51        | 1         | 2         | 1         | ⋯         | 1         | 2         | NA        | 1         | 99        | NA        | NA        | 20112     | 2.258065  | 0.7209406 | \n",
       "| 100009    | 1         | 61015     | 1         | U         | 3         | 24        | 2         | 2         | 2         | ⋯         | 3         | 2         | NA        | 2         |  6        | NA        | NA        | 21239     | 2.548387  | 0.8136330 | \n",
       "| 100011    | 1         | 61015     | 1         | S         | 2         | 39        | 2         | 2         | 1         | ⋯         | 1         | 2         | NA        | 1         |  3        | NA        | NA        | 44730     | 1.806452  | 0.5767525 | \n",
       "| 100039    | 1         | 61015     | 1         | S         | 3         | 37        | 2         | 2         | 1         | ⋯         | 2         | 2         | NA        | 1         |  6        | NA        | NA        | 27028     | 5.032258  | 1.6066676 | \n",
       "| 100040    | 1         | 61015     | 1         | U         | 3         | 21        | 1         | 2         | 1         | ⋯         | 1         | 2         | NA        | 1         |  3        |  2        | NA        | 40511     | 7.161290  | 2.2864116 | \n",
       "| 100043    | 1         | 62215     | 1         | R         | 2         | 20        | 1         | 2         | 1         | ⋯         | 3         | 2         | NA        | 1         |  8        | NA        | NA        | 67601     | 1.000000  | 0.3192737 | \n",
       "| 100049    | 1         | 61015     | 1         | R         | 1         | 42        | 1         | 1         | 1         | ⋯         | 1         | 2         | NA        | 1         | 99        | NA        | NA        | 15748     | 1.387097  | 0.4428635 | \n",
       "| 100051    | 1         | 61915     | 1         | R         | 2         | 26        | 1         | 1         | 1         | ⋯         | 2         | 2         | NA        | 1         |  7        | NA        | NA        | 49690     | 1.645161  | 0.5252567 | \n",
       "| 100058    | 1         | 61015     | 1         | R         | 3         | 40        | 2         | 1         | 2         | ⋯         | 5         | 2         | NA        | 1         |  6        | NA        | NA        | 73655     | 1.000000  | 0.3192737 | \n",
       "| 100059    | 1         | 61015     | 1         | U         | 1         | 23        | 1         | 1         | 3         | ⋯         | 4         | 2         | NA        | 1         |  3        | NA        | NA        |  4412     | 2.935484  | 0.9372228 | \n",
       "| 100060    | 1         | 61015     | 1         | R         | 2         | 20        | 1         | 2         | 1         | ⋯         | 3         | 2         | NA        | 1         | 99        | NA        | NA        | 67642     | 1.000000  | 0.3192737 | \n",
       "| 100065    | 1         | 61915     | 1         | R         | 3         | 40        | 1         | 2         | 3         | ⋯         | 3         | 2         | NA        | 1         | 99        | NA        | NA        | 73086     | 2.064516  | 0.6591457 | \n",
       "| 100067    | 1         | 61015     | 1         | R         | 2         | 27        | 1         | 1         | 1         | ⋯         | 2         | 2         | NA        | 1         |  8        | NA        | NA        | 55395     | 2.612903  | 0.8342313 | \n",
       "| 100079    | 1         | 62315     | 1         | U         | 3         | 12        | 1         | 2         | 3         | ⋯         | 2         | 2         | NA        | 1         |  6        | NA        | NA        | 32771     | 1.903226  | 0.6076499 | \n",
       "| 100080    | 1         | 62015     | 1         | S         | 3         | 45        | 2         | 2         | 4         | ⋯         | 3         | 2         | NA        | 1         | 98        | NA        | NA        | 29560     | 2.580645  | 0.8239321 | \n",
       "| 100084    | 1         | 61015     | 1         | R         | 3         |  1        | 2         | 2         | 2         | ⋯         | 2         | 2         | NA        | 1         |  7        | NA        | NA        | 36854     | 4.645161  | 1.4830778 | \n",
       "| 100091    | 1         | 61915     | 1         | S         | 3         | 21        | 2         | 1         | 1         | ⋯         | 2         | 2         | NA        | 1         |  4        | NA        | NA        | 42211     | 1.000000  | 0.3192737 | \n",
       "| 100096    | 1         | 61015     | 1         | R         | 3         |  5        | 2         | 1         | 3         | ⋯         | 4         | 2         | NA        | 2         |  4        | NA        | NA        | 71852     | 1.774194  | 0.5664533 | \n",
       "| 100102    | 1         | 61015     | 1         | U         | 1         | 36        | 2         | 2         | 1         | ⋯         | 4         | 2         | NA        | 1         | 99        | NA        | NA        | 10075     | 1.258065  | 0.4016669 | \n",
       "| 100118    | 1         | 61015     | 1         | U         | 3         |  1        | 2         | 1         | 1         | ⋯         | 3         | 2         | NA        | 1         |  7        | NA        | NA        | 36532     | 1.161290  | 0.3707695 | \n",
       "| 100129    | 1         | 62315     | 1         | R         | 4         | 30        | 1         | 2         | 4         | ⋯         | 3         | 2         | NA        | 5         |  2        |  2        | NA        | 59043     | 7.161290  | 2.2864116 | \n",
       "| 100134    | 1         | 61015     | 1         | S         | 2         | 20        | 1         | 1         | 2         | ⋯         | 3         | 2         | NA        | 1         |  6        | NA        | NA        | 66051     | 1.645161  | 0.5252567 | \n",
       "| 100141    | 1         | 61015     | 1         | R         | 3         | 48        | 2         | 2         | 2         | ⋯         | 4         | 2         | NA        | 1         |  1        |  2        | NA        | 78954     | 4.096774  | 1.3079922 | \n",
       "| 100142    | 1         | 61015     | 1         | S         | 3         | 45        | 2         | 1         | 4         | ⋯         | 1         | 2         | NA        | 1         |  6        | NA        | NA        | 29706     | 2.967742  | 0.9475219 | \n",
       "| 100143    | 1         | 61015     | 1         | U         | 1         |  9        | 2         | 1         | 1         | ⋯         | 4         | 2         | NA        | 1         |  9        | NA        | NA        |  6511     | 1.838710  | 0.5870516 | \n",
       "| 100151    | 1         | 61015     | 1         | U         | 3         | 51        | 1         | 2         | 2         | ⋯         | 8         | 1         |  3        | 2         |  7        | NA        | NA        | 23452     | 2.387097  | 0.7621372 | \n",
       "| 100152    | 1         | 62415     | 1         | S         | 4         | 49        | 1         | 2         | 2         | ⋯         | 2         | 2         | NA        | 1         |  6        | NA        | NA        | 84005     | 3.483871  | 1.1123084 | \n",
       "| 100156    | 1         | 62115     | 1         | S         | 2         | 27        | 2         | 2         | 1         | ⋯         | 3         | 2         | NA        | 1         |  1        | NA        | NA        | 55014     | 1.806452  | 0.5767525 | \n",
       "| 100161    | 1         | 61015     | 1         | S         | 3         | 12        | 2         | 2         | 2         | ⋯         | 5         | 2         | NA        | 1         |  6        | NA        | NA        | 32934     | 1.000000  | 0.3192737 | \n",
       "| 100163    | 1         | 61015     | 1         | S         | 2         | 27        | 2         | 2         | 2         | ⋯         | 3         | 2         | NA        | 1         |  6        | NA        | NA        | 55941     | 1.161290  | 0.3707695 | \n",
       "| ⋮ | ⋮ | ⋮ | ⋮ | ⋮ | ⋮ | ⋮ | ⋮ | ⋮ | ⋮ | ⋱ | ⋮ | ⋮ | ⋮ | ⋮ | ⋮ | ⋮ | ⋮ | ⋮ | ⋮ | ⋮ | \n",
       "| 205355    | 2         | 71115     | 1         | R         | 3         | 47        | 2         | 2         | 2         | ⋯         | 1         | 2         | NA        | 1         |  1        | NA        | 2         | 37355     | 3.548387  | 1.1329067 | \n",
       "| 205356    | 2         | 71115     | 1         | R         | 2         | 18        | 2         | 2         | 1         | ⋯         | 3         | 2         | NA        | 1         |  5        | NA        | 1         | 46962     | 1.290323  | 0.4119661 | \n",
       "| 205363    | 2         | 71115     | 1         | U         | 2         | 26        | 2         | 1         | 1         | ⋯         | 4         | 2         | NA        | 3         |  4        | NA        | 2         | 48104     | 3.290323  | 1.0505135 | \n",
       "| 205368    | 2         | 71115     | 1         | R         | 4         |  4        | 2         | 1         | 3         | ⋯         | 3         | 2         | NA        | 1         |  4        | NA        | 1         | 85344     | 2.129032  | 0.6797440 | \n",
       "| 205371    | 2         | 71115     | 1         | S         | 2         | 18        | 2         | 2         | 2         | ⋯         | 4         | 2         | NA        | 1         |  5        | NA        | 2         | 46528     | 5.774194  | 1.8435481 | \n",
       "| 205381    | 2         | 71115     | 1         | S         | 2         | 29        | 1         | 2         | 1         | ⋯         | 9         | 2         | NA        | 1         | 99        | NA        | 1         | 65085     | 1.580645  | 0.5046584 | \n",
       "| 205390    | 2         | 71115     | 1         | U         | 3         | 12        | 1         | 2         | 3         | ⋯         | 4         | 2         | NA        | 2         |  5        | NA        | 2         | 33755     | 5.258065  | 1.6787617 | \n",
       "| 205391    | 2         | 71115     | 1         | S         | 3         | 13        | 1         | 1         | 1         | ⋯         | 3         | 2         | NA        | 1         |  1        | NA        | 2         | 30044     | 4.612903  | 1.4727787 | \n",
       "| 205392    | 2         | 71115     | 1         | S         | 1         | 25        | 1         | 1         | 1         | ⋯         | 3         | 2         | NA        | 1         |  9        | NA        | 1         |  1907     | 1.548387  | 0.4943593 | \n",
       "| 205396    | 2         | 71115     | 1         | U         | 3         | 47        | 2         | 2         | 2         | ⋯         | 5         | 2         | NA        | 1         |  1        | NA        | 2         | 37918     | 7.161290  | 2.2864116 | \n",
       "| 205398    | 2         | 71115     | 1         | U         | 2         | 26        | 1         | 1         | 2         | ⋯         | 2         | 2         | NA        | 2         |  1        | NA        | 2         | 49015     | 2.774194  | 0.8857270 | \n",
       "| 205401    | 2         | 71115     | 1         | S         | 2         | 26        | 2         | 2         | 2         | ⋯         | 1         | 2         | NA        | 1         | 99        | NA        | 2         | 49508     | 3.032258  | 0.9681202 | \n",
       "| 205410    | 2         | 71115     | 1         | S         | 3         |  1        | 2         | 1         | 1         | ⋯         | 2         | 2         | NA        | 1         |  3        | NA        | 2         | 36695     | 6.290323  | 2.0083345 | \n",
       "| 205422    | 2         | 71115     | 1         | U         | 4         | 53        | 2         | 2         | 1         | ⋯         | 4         | 2         | NA        | 1         |  6        | NA        | 2         | 98225     | 5.677419  | 1.8126507 | \n",
       "| 205425    | 2         | 71115     | 1         | R         | 3         | 48        | 2         | 2         | 3         | ⋯         | 2         | 2         | NA        | 1         |  1        | NA        | 2         | 76458     | 7.161290  | 2.2864116 | \n",
       "| 205441    | 2         | 71115     | 1         | S         | 3         | 40        | 2         | 1         | 1         | ⋯         | 3         | 2         | NA        | 1         |  8        | NA        | 1         | 73069     | 1.419355  | 0.4531627 | \n",
       "| 205448    | 2         | 71115     | 1         | U         | 4         |  6        | 2         | 1         | 2         | ⋯         | 3         | 2         | NA        | 1         |  8        | NA        | 1         | 95821     | 1.354839  | 0.4325644 | \n",
       "| 205459    | 2         | 71215     | 1         | S         | 2         | 29        | 1         | 2         | 2         | ⋯         | 2         | 2         | NA        | 1         |  6        | NA        | 1         | 63376     | 4.000000  | 1.2770948 | \n",
       "| 205460    | 2         | 71215     | 1         | U         | 3         | 12        | 1         | 1         | 4         | ⋯         | 2         | 2         | NA        | 1         |  5        | NA        | 2         | 33755     | 4.451613  | 1.4212829 | \n",
       "| 205466    | 2         | 71215     | 1         | R         | 4         | 35        | 1         | 1         | 1         | ⋯         | 8         | 1         |  1        | 4         |  3        | NA        | 2         | 88030     | 1.419355  | 0.4531627 | \n",
       "| 205469    | 2         | 71215     | 2         | R         | 4         |  6        | 2         | 1         | 1         | ⋯         | 4         | 1         |  3        | 6         |  3        | NA        | 2         | 96130     | 3.483871  | 1.1123084 | \n",
       "| 205479    | 2         | 71215     | 1         | S         | 4         | 15        | 2         | 2         | 1         | ⋯         | 2         | 2         | NA        | 3         |  5        | NA        | 1         | 96819     | 6.483871  | 2.0701294 | \n",
       "| 205481    | 2         | 71215     | 1         | S         | 2         | 39        | 2         | 1         | 1         | ⋯         | 3         | 2         | NA        | 1         |  5        | NA        | 2         | 44221     | 3.354839  | 1.0711118 | \n",
       "| 205482    | 2         | 71215     | 1         | U         | 2         | 26        | 2         | 2         | 1         | ⋯         | 5         | 2         | NA        | 1         |  4        | NA        | 2         | 49504     | 1.645161  | 0.5252567 | \n",
       "| 205487    | 2         | 71215     | 1         | S         | 3         | 37        | 1         | 1         | 2         | ⋯         | 4         | 2         | NA        | 1         |  1        | NA        | 2         | 27278     | 2.967742  | 0.9475219 | \n",
       "| 205494    | 2         | 71215     | 1         | S         | 3         | 24        | 2         | 2         | 2         | ⋯         | 2         | 2         | NA        | 1         |  9        | NA        | 1         | 20853     | 3.322581  | 1.0608126 | \n",
       "| 205502    | 2         | 71215     | 1         | U         | 4         | 53        | 2         | 2         | 3         | ⋯         | 3         | 2         | NA        | 1         |  3        | NA        | 1         | 98103     | 1.935484  | 0.6179491 | \n",
       "| 205505    | 2         | 71215     | 1         | S         | 4         |  4        | 1         | 2         | 1         | ⋯         | 1         | 2         | NA        | 2         |  6        | NA        | 2         | 85308     | 4.548387  | 1.4521804 | \n",
       "| 205507    | 2         | 71215     | 1         | S         | 2         | 27        | 2         | 2         | 1         | ⋯         | 2         | 2         | NA        | 1         |  4        | NA        | 1         | 55921     | 2.161290  | 0.6900431 | \n",
       "| 205508    | 2         | 71215     | 1         | S         | 4         | 49        | 2         | 2         | 1         | ⋯         | 2         | 2         | NA        | 1         |  5        | NA        | 2         | 84129     | 4.129032  | 1.3182914 | \n",
       "\n",
       "\n"
      ],
      "text/plain": [
       "     psraid sample int_date lang usr cregion state form sex q1 ⋯ ideo hisp\n",
       "1    100006 1      61015    1    S   3       51    1    2   1  ⋯ 1    2   \n",
       "2    100009 1      61015    1    U   3       24    2    2   2  ⋯ 3    2   \n",
       "3    100011 1      61015    1    S   2       39    2    2   1  ⋯ 1    2   \n",
       "4    100039 1      61015    1    S   3       37    2    2   1  ⋯ 2    2   \n",
       "5    100040 1      61015    1    U   3       21    1    2   1  ⋯ 1    2   \n",
       "6    100043 1      62215    1    R   2       20    1    2   1  ⋯ 3    2   \n",
       "7    100049 1      61015    1    R   1       42    1    1   1  ⋯ 1    2   \n",
       "8    100051 1      61915    1    R   2       26    1    1   1  ⋯ 2    2   \n",
       "9    100058 1      61015    1    R   3       40    2    1   2  ⋯ 5    2   \n",
       "10   100059 1      61015    1    U   1       23    1    1   3  ⋯ 4    2   \n",
       "11   100060 1      61015    1    R   2       20    1    2   1  ⋯ 3    2   \n",
       "12   100065 1      61915    1    R   3       40    1    2   3  ⋯ 3    2   \n",
       "13   100067 1      61015    1    R   2       27    1    1   1  ⋯ 2    2   \n",
       "14   100079 1      62315    1    U   3       12    1    2   3  ⋯ 2    2   \n",
       "15   100080 1      62015    1    S   3       45    2    2   4  ⋯ 3    2   \n",
       "16   100084 1      61015    1    R   3        1    2    2   2  ⋯ 2    2   \n",
       "17   100091 1      61915    1    S   3       21    2    1   1  ⋯ 2    2   \n",
       "18   100096 1      61015    1    R   3        5    2    1   3  ⋯ 4    2   \n",
       "19   100102 1      61015    1    U   1       36    2    2   1  ⋯ 4    2   \n",
       "20   100118 1      61015    1    U   3        1    2    1   1  ⋯ 3    2   \n",
       "21   100129 1      62315    1    R   4       30    1    2   4  ⋯ 3    2   \n",
       "22   100134 1      61015    1    S   2       20    1    1   2  ⋯ 3    2   \n",
       "23   100141 1      61015    1    R   3       48    2    2   2  ⋯ 4    2   \n",
       "24   100142 1      61015    1    S   3       45    2    1   4  ⋯ 1    2   \n",
       "25   100143 1      61015    1    U   1        9    2    1   1  ⋯ 4    2   \n",
       "26   100151 1      61015    1    U   3       51    1    2   2  ⋯ 8    1   \n",
       "27   100152 1      62415    1    S   4       49    1    2   2  ⋯ 2    2   \n",
       "28   100156 1      62115    1    S   2       27    2    2   1  ⋯ 3    2   \n",
       "29   100161 1      61015    1    S   3       12    2    2   2  ⋯ 5    2   \n",
       "30   100163 1      61015    1    S   2       27    2    2   2  ⋯ 3    2   \n",
       "⋮    ⋮      ⋮      ⋮        ⋮    ⋮   ⋮       ⋮     ⋮    ⋮   ⋮  ⋱ ⋮    ⋮   \n",
       "1972 205355 2      71115    1    R   3       47    2    2   2  ⋯ 1    2   \n",
       "1973 205356 2      71115    1    R   2       18    2    2   1  ⋯ 3    2   \n",
       "1974 205363 2      71115    1    U   2       26    2    1   1  ⋯ 4    2   \n",
       "1975 205368 2      71115    1    R   4        4    2    1   3  ⋯ 3    2   \n",
       "1976 205371 2      71115    1    S   2       18    2    2   2  ⋯ 4    2   \n",
       "1977 205381 2      71115    1    S   2       29    1    2   1  ⋯ 9    2   \n",
       "1978 205390 2      71115    1    U   3       12    1    2   3  ⋯ 4    2   \n",
       "1979 205391 2      71115    1    S   3       13    1    1   1  ⋯ 3    2   \n",
       "1980 205392 2      71115    1    S   1       25    1    1   1  ⋯ 3    2   \n",
       "1981 205396 2      71115    1    U   3       47    2    2   2  ⋯ 5    2   \n",
       "1982 205398 2      71115    1    U   2       26    1    1   2  ⋯ 2    2   \n",
       "1983 205401 2      71115    1    S   2       26    2    2   2  ⋯ 1    2   \n",
       "1984 205410 2      71115    1    S   3        1    2    1   1  ⋯ 2    2   \n",
       "1985 205422 2      71115    1    U   4       53    2    2   1  ⋯ 4    2   \n",
       "1986 205425 2      71115    1    R   3       48    2    2   3  ⋯ 2    2   \n",
       "1987 205441 2      71115    1    S   3       40    2    1   1  ⋯ 3    2   \n",
       "1988 205448 2      71115    1    U   4        6    2    1   2  ⋯ 3    2   \n",
       "1989 205459 2      71215    1    S   2       29    1    2   2  ⋯ 2    2   \n",
       "1990 205460 2      71215    1    U   3       12    1    1   4  ⋯ 2    2   \n",
       "1991 205466 2      71215    1    R   4       35    1    1   1  ⋯ 8    1   \n",
       "1992 205469 2      71215    2    R   4        6    2    1   1  ⋯ 4    1   \n",
       "1993 205479 2      71215    1    S   4       15    2    2   1  ⋯ 2    2   \n",
       "1994 205481 2      71215    1    S   2       39    2    1   1  ⋯ 3    2   \n",
       "1995 205482 2      71215    1    U   2       26    2    2   1  ⋯ 5    2   \n",
       "1996 205487 2      71215    1    S   3       37    1    1   2  ⋯ 4    2   \n",
       "1997 205494 2      71215    1    S   3       24    2    2   2  ⋯ 2    2   \n",
       "1998 205502 2      71215    1    U   4       53    2    2   3  ⋯ 3    2   \n",
       "1999 205505 2      71215    1    S   4        4    1    2   1  ⋯ 1    2   \n",
       "2000 205507 2      71215    1    S   2       27    2    2   1  ⋯ 2    2   \n",
       "2001 205508 2      71215    1    S   4       49    2    2   1  ⋯ 2    2   \n",
       "     birth_hisp race inc ql1a qc1 zipcode weight   standwt  \n",
       "1    NA         1    99  NA   NA  20112   2.258065 0.7209406\n",
       "2    NA         2     6  NA   NA  21239   2.548387 0.8136330\n",
       "3    NA         1     3  NA   NA  44730   1.806452 0.5767525\n",
       "4    NA         1     6  NA   NA  27028   5.032258 1.6066676\n",
       "5    NA         1     3   2   NA  40511   7.161290 2.2864116\n",
       "6    NA         1     8  NA   NA  67601   1.000000 0.3192737\n",
       "7    NA         1    99  NA   NA  15748   1.387097 0.4428635\n",
       "8    NA         1     7  NA   NA  49690   1.645161 0.5252567\n",
       "9    NA         1     6  NA   NA  73655   1.000000 0.3192737\n",
       "10   NA         1     3  NA   NA   4412   2.935484 0.9372228\n",
       "11   NA         1    99  NA   NA  67642   1.000000 0.3192737\n",
       "12   NA         1    99  NA   NA  73086   2.064516 0.6591457\n",
       "13   NA         1     8  NA   NA  55395   2.612903 0.8342313\n",
       "14   NA         1     6  NA   NA  32771   1.903226 0.6076499\n",
       "15   NA         1    98  NA   NA  29560   2.580645 0.8239321\n",
       "16   NA         1     7  NA   NA  36854   4.645161 1.4830778\n",
       "17   NA         1     4  NA   NA  42211   1.000000 0.3192737\n",
       "18   NA         2     4  NA   NA  71852   1.774194 0.5664533\n",
       "19   NA         1    99  NA   NA  10075   1.258065 0.4016669\n",
       "20   NA         1     7  NA   NA  36532   1.161290 0.3707695\n",
       "21   NA         5     2   2   NA  59043   7.161290 2.2864116\n",
       "22   NA         1     6  NA   NA  66051   1.645161 0.5252567\n",
       "23   NA         1     1   2   NA  78954   4.096774 1.3079922\n",
       "24   NA         1     6  NA   NA  29706   2.967742 0.9475219\n",
       "25   NA         1     9  NA   NA   6511   1.838710 0.5870516\n",
       "26    3         2     7  NA   NA  23452   2.387097 0.7621372\n",
       "27   NA         1     6  NA   NA  84005   3.483871 1.1123084\n",
       "28   NA         1     1  NA   NA  55014   1.806452 0.5767525\n",
       "29   NA         1     6  NA   NA  32934   1.000000 0.3192737\n",
       "30   NA         1     6  NA   NA  55941   1.161290 0.3707695\n",
       "⋮    ⋮          ⋮    ⋮   ⋮    ⋮   ⋮       ⋮        ⋮        \n",
       "1972 NA         1     1  NA   2   37355   3.548387 1.1329067\n",
       "1973 NA         1     5  NA   1   46962   1.290323 0.4119661\n",
       "1974 NA         3     4  NA   2   48104   3.290323 1.0505135\n",
       "1975 NA         1     4  NA   1   85344   2.129032 0.6797440\n",
       "1976 NA         1     5  NA   2   46528   5.774194 1.8435481\n",
       "1977 NA         1    99  NA   1   65085   1.580645 0.5046584\n",
       "1978 NA         2     5  NA   2   33755   5.258065 1.6787617\n",
       "1979 NA         1     1  NA   2   30044   4.612903 1.4727787\n",
       "1980 NA         1     9  NA   1    1907   1.548387 0.4943593\n",
       "1981 NA         1     1  NA   2   37918   7.161290 2.2864116\n",
       "1982 NA         2     1  NA   2   49015   2.774194 0.8857270\n",
       "1983 NA         1    99  NA   2   49508   3.032258 0.9681202\n",
       "1984 NA         1     3  NA   2   36695   6.290323 2.0083345\n",
       "1985 NA         1     6  NA   2   98225   5.677419 1.8126507\n",
       "1986 NA         1     1  NA   2   76458   7.161290 2.2864116\n",
       "1987 NA         1     8  NA   1   73069   1.419355 0.4531627\n",
       "1988 NA         1     8  NA   1   95821   1.354839 0.4325644\n",
       "1989 NA         1     6  NA   1   63376   4.000000 1.2770948\n",
       "1990 NA         1     5  NA   2   33755   4.451613 1.4212829\n",
       "1991  1         4     3  NA   2   88030   1.419355 0.4531627\n",
       "1992  3         6     3  NA   2   96130   3.483871 1.1123084\n",
       "1993 NA         3     5  NA   1   96819   6.483871 2.0701294\n",
       "1994 NA         1     5  NA   2   44221   3.354839 1.0711118\n",
       "1995 NA         1     4  NA   2   49504   1.645161 0.5252567\n",
       "1996 NA         1     1  NA   2   27278   2.967742 0.9475219\n",
       "1997 NA         1     9  NA   1   20853   3.322581 1.0608126\n",
       "1998 NA         1     3  NA   1   98103   1.935484 0.6179491\n",
       "1999 NA         2     6  NA   2   85308   4.548387 1.4521804\n",
       "2000 NA         1     4  NA   1   55921   2.161290 0.6900431\n",
       "2001 NA         1     5  NA   2   84129   4.129032 1.3182914"
      ]
     },
     "metadata": {},
     "output_type": "display_data"
    }
   ],
   "source": [
    "DFrame"
   ]
  },
  {
   "cell_type": "markdown",
   "metadata": {},
   "source": [
    "###################################################################################################################\n",
    "\n",
    "Q1. Does people's choice of playing games vary with age?\n"
   ]
  },
  {
   "cell_type": "code",
   "execution_count": 277,
   "metadata": {
    "collapsed": false
   },
   "outputs": [
    {
     "data": {
      "text/html": [
       "<table>\n",
       "<thead><tr><th scope=col>Var1</th><th scope=col>Freq</th></tr></thead>\n",
       "<tbody>\n",
       "\t<tr><td>(0,20]  </td><td> 54     </td></tr>\n",
       "\t<tr><td>(20,40] </td><td>335     </td></tr>\n",
       "\t<tr><td>(40,60] </td><td>321     </td></tr>\n",
       "\t<tr><td>(60,80] </td><td>183     </td></tr>\n",
       "\t<tr><td>(80,100]</td><td> 32     </td></tr>\n",
       "</tbody>\n",
       "</table>\n"
      ],
      "text/latex": [
       "\\begin{tabular}{r|ll}\n",
       " Var1 & Freq\\\\\n",
       "\\hline\n",
       "\t (0,20{]}   &  54       \\\\\n",
       "\t (20,40{]}  & 335       \\\\\n",
       "\t (40,60{]}  & 321       \\\\\n",
       "\t (60,80{]}  & 183       \\\\\n",
       "\t (80,100{]} &  32       \\\\\n",
       "\\end{tabular}\n"
      ],
      "text/markdown": [
       "\n",
       "Var1 | Freq | \n",
       "|---|---|---|---|---|\n",
       "| (0,20]   |  54      | \n",
       "| (20,40]  | 335      | \n",
       "| (40,60]  | 321      | \n",
       "| (60,80]  | 183      | \n",
       "| (80,100] |  32      | \n",
       "\n",
       "\n"
      ],
      "text/plain": [
       "  Var1     Freq\n",
       "1 (0,20]    54 \n",
       "2 (20,40]  335 \n",
       "3 (40,60]  321 \n",
       "4 (60,80]  183 \n",
       "5 (80,100]  32 "
      ]
     },
     "metadata": {},
     "output_type": "display_data"
    }
   ],
   "source": [
    "Frame = filter(DFrame, game1==1)\n",
    "Frame1 = select(Frame, game1, age)\n",
    "agebin = cut(Frame1$age, c(0,20,40,60,80,100))\n",
    "Frame1 = as.data.frame(table(unlist(agebin)))\n",
    "Frame1\n",
    "\n",
    "Frame2 = filter(DFrame, game1==2)\n",
    "Frame2 = select(Frame2, game1, age)\n",
    "agebin2 = cut(Frame2$age, c(0,20,40,60,80,100))\n",
    "Frame2 = as.data.frame(table(unlist(agebin2)))"
   ]
  },
  {
   "cell_type": "markdown",
   "metadata": {},
   "source": [
    "1. I have used filter() to first find the ages of all the people who play online games\n",
    "2. I've used binning to separate the ages into bins and found frequency of playing games on each bin\n",
    "3. Same has been done for all the ages of people who don't play online games which is stored in Frame2."
   ]
  },
  {
   "cell_type": "code",
   "execution_count": 278,
   "metadata": {
    "collapsed": false
   },
   "outputs": [
    {
     "data": {
      "text/html": [
       "<table>\n",
       "<thead><tr><th scope=col>Freq.x</th><th scope=col>Freq.y</th></tr></thead>\n",
       "<tbody>\n",
       "\t<tr><td> 54</td><td> 25</td></tr>\n",
       "\t<tr><td>335</td><td>194</td></tr>\n",
       "\t<tr><td>321</td><td>353</td></tr>\n",
       "\t<tr><td>183</td><td>399</td></tr>\n",
       "\t<tr><td> 32</td><td>100</td></tr>\n",
       "</tbody>\n",
       "</table>\n"
      ],
      "text/latex": [
       "\\begin{tabular}{r|ll}\n",
       " Freq.x & Freq.y\\\\\n",
       "\\hline\n",
       "\t  54 &  25\\\\\n",
       "\t 335 & 194\\\\\n",
       "\t 321 & 353\\\\\n",
       "\t 183 & 399\\\\\n",
       "\t  32 & 100\\\\\n",
       "\\end{tabular}\n"
      ],
      "text/markdown": [
       "\n",
       "Freq.x | Freq.y | \n",
       "|---|---|---|---|---|\n",
       "|  54 |  25 | \n",
       "| 335 | 194 | \n",
       "| 321 | 353 | \n",
       "| 183 | 399 | \n",
       "|  32 | 100 | \n",
       "\n",
       "\n"
      ],
      "text/plain": [
       "  Freq.x Freq.y\n",
       "1  54     25   \n",
       "2 335    194   \n",
       "3 321    353   \n",
       "4 183    399   \n",
       "5  32    100   "
      ]
     },
     "metadata": {},
     "output_type": "display_data"
    },
    {
     "data": {
      "text/html": [
       "<table>\n",
       "<tbody>\n",
       "\t<tr><td>54 </td><td>335</td><td>321</td><td>183</td><td> 32</td></tr>\n",
       "\t<tr><td>25 </td><td>194</td><td>353</td><td>399</td><td>100</td></tr>\n",
       "</tbody>\n",
       "</table>\n"
      ],
      "text/latex": [
       "\\begin{tabular}{lllll}\n",
       "\t 54  & 335 & 321 & 183 &  32\\\\\n",
       "\t 25  & 194 & 353 & 399 & 100\\\\\n",
       "\\end{tabular}\n"
      ],
      "text/markdown": [
       "\n",
       "| 54  | 335 | 321 | 183 |  32 | \n",
       "| 25  | 194 | 353 | 399 | 100 | \n",
       "\n",
       "\n"
      ],
      "text/plain": [
       "     [,1] [,2] [,3] [,4] [,5]\n",
       "[1,] 54   335  321  183   32 \n",
       "[2,] 25   194  353  399  100 "
      ]
     },
     "metadata": {},
     "output_type": "display_data"
    }
   ],
   "source": [
    "Frame4 = merge(Frame1, Frame2, by=\"Var1\")\n",
    "Frame4 = select(Frame4, Freq.x, Freq.y)\n",
    "Frame4\n",
    "colnames(Frame4) = NULL\n",
    "Frame4 = t(as.matrix(Frame4))\n",
    "Frame4"
   ]
  },
  {
   "cell_type": "markdown",
   "metadata": {},
   "source": [
    "1. Then I merged Frame1 and Frame2 with respect to the age bins\n",
    "2. Then I converted it into a matrix, took its transpose and removed its column names\n",
    "3. This is going to be required for barplot()"
   ]
  },
  {
   "cell_type": "code",
   "execution_count": 279,
   "metadata": {
    "collapsed": false
   },
   "outputs": [
    {
     "data": {
      "image/png": "[encoded data removed]",
      "text/plain": [
       "Plot with title “Age vs Playing games”"
      ]
     },
     "metadata": {},
     "output_type": "display_data"
    }
   ],
   "source": [
    "colors = c(\"dodgerblue3\",\"firebrick3\")\n",
    "regions = c(\"Play games\", \"Don't play games\")\n",
    "names = c(\"0-20\",\"20-40\",\"40-60\",\"60-80\",\"80-100\")\n",
    "\n",
    "barplot(Frame4 , xlab=\"Age(years)\", ylab = \"Frequency\", main=\"Age vs Playing games\",col=colors, names.arg=names)\n",
    "legend(\"topleft\", regions, cex = 1.1, fill = colors)"
   ]
  },
  {
   "cell_type": "markdown",
   "metadata": {},
   "source": [
    "1. I have created a bar chart where each bar corresponds to one age group.\n",
    "2. The different colours on the bars are representing number of people who play games and those who don't.\n",
    "3. Some key observations can be made from this chart eg: most people play games in the age group 0-20.\n",
    "4. On the other hand very few people from the age group 80-100 play games."
   ]
  },
  {
   "cell_type": "markdown",
   "metadata": {},
   "source": [
    "###################################################################################################################\n",
    "\n",
    "Q2. Does income depend on the type of work you do like manual and physical labor?\n"
   ]
  },
  {
   "cell_type": "code",
   "execution_count": 280,
   "metadata": {
    "collapsed": false
   },
   "outputs": [
    {
     "data": {
      "text/html": [
       "<table>\n",
       "<thead><tr><th scope=col>Var1</th><th scope=col>Freq</th></tr></thead>\n",
       "<tbody>\n",
       "\t<tr><td>1 </td><td>29</td></tr>\n",
       "\t<tr><td>2 </td><td>58</td></tr>\n",
       "\t<tr><td>3 </td><td>52</td></tr>\n",
       "\t<tr><td>4 </td><td>59</td></tr>\n",
       "\t<tr><td>5 </td><td>43</td></tr>\n",
       "\t<tr><td>6 </td><td>68</td></tr>\n",
       "\t<tr><td>7 </td><td>49</td></tr>\n",
       "\t<tr><td>8 </td><td>34</td></tr>\n",
       "\t<tr><td>9 </td><td>14</td></tr>\n",
       "</tbody>\n",
       "</table>\n"
      ],
      "text/latex": [
       "\\begin{tabular}{r|ll}\n",
       " Var1 & Freq\\\\\n",
       "\\hline\n",
       "\t 1  & 29\\\\\n",
       "\t 2  & 58\\\\\n",
       "\t 3  & 52\\\\\n",
       "\t 4  & 59\\\\\n",
       "\t 5  & 43\\\\\n",
       "\t 6  & 68\\\\\n",
       "\t 7  & 49\\\\\n",
       "\t 8  & 34\\\\\n",
       "\t 9  & 14\\\\\n",
       "\\end{tabular}\n"
      ],
      "text/markdown": [
       "\n",
       "Var1 | Freq | \n",
       "|---|---|---|---|---|---|---|---|---|\n",
       "| 1  | 29 | \n",
       "| 2  | 58 | \n",
       "| 3  | 52 | \n",
       "| 4  | 59 | \n",
       "| 5  | 43 | \n",
       "| 6  | 68 | \n",
       "| 7  | 49 | \n",
       "| 8  | 34 | \n",
       "| 9  | 14 | \n",
       "\n",
       "\n"
      ],
      "text/plain": [
       "  Var1 Freq\n",
       "1 1    29  \n",
       "2 2    58  \n",
       "3 3    52  \n",
       "4 4    59  \n",
       "5 5    43  \n",
       "6 6    68  \n",
       "7 7    49  \n",
       "8 8    34  \n",
       "9 9    14  "
      ]
     },
     "metadata": {},
     "output_type": "display_data"
    }
   ],
   "source": [
    "Frame = filter(DFrame, emptype2==1, inc<98)\n",
    "Frame1 = select(Frame, inc)\n",
    "Frame1 = as.data.frame(table(unlist(Frame1)))\n",
    "Frame1\n",
    "\n",
    "Frame2 = filter(DFrame, emptype2==2, inc<98)\n",
    "Frame3 = select(Frame2, inc)\n",
    "Frame3 = as.data.frame(table(unlist(Frame3)))"
   ]
  },
  {
   "cell_type": "markdown",
   "metadata": {},
   "source": [
    "1. First we apply filter() and then select() to get a dataframe consisting of incomes of all people who do manual      or physical labour.\n",
    "2. We then find frequency of each income so that we get number of people getting a particular income for physical      labour.\n",
    "3. Same has been done for sedentary work where emptype2 = 2"
   ]
  },
  {
   "cell_type": "code",
   "execution_count": 281,
   "metadata": {
    "collapsed": false
   },
   "outputs": [
    {
     "data": {
      "text/html": [
       "<table>\n",
       "<thead><tr><th scope=col>Income</th><th scope=col>Physical_work</th><th scope=col>Sedentary_work</th></tr></thead>\n",
       "<tbody>\n",
       "\t<tr><td>1  </td><td>29 </td><td> 18</td></tr>\n",
       "\t<tr><td>2  </td><td>58 </td><td> 21</td></tr>\n",
       "\t<tr><td>3  </td><td>52 </td><td> 33</td></tr>\n",
       "\t<tr><td>4  </td><td>59 </td><td> 39</td></tr>\n",
       "\t<tr><td>5  </td><td>43 </td><td> 52</td></tr>\n",
       "\t<tr><td>6  </td><td>68 </td><td>106</td></tr>\n",
       "\t<tr><td>7  </td><td>49 </td><td> 91</td></tr>\n",
       "\t<tr><td>8  </td><td>34 </td><td>112</td></tr>\n",
       "\t<tr><td>9  </td><td>14 </td><td>108</td></tr>\n",
       "</tbody>\n",
       "</table>\n"
      ],
      "text/latex": [
       "\\begin{tabular}{r|lll}\n",
       " Income & Physical\\_work & Sedentary\\_work\\\\\n",
       "\\hline\n",
       "\t 1   & 29  &  18\\\\\n",
       "\t 2   & 58  &  21\\\\\n",
       "\t 3   & 52  &  33\\\\\n",
       "\t 4   & 59  &  39\\\\\n",
       "\t 5   & 43  &  52\\\\\n",
       "\t 6   & 68  & 106\\\\\n",
       "\t 7   & 49  &  91\\\\\n",
       "\t 8   & 34  & 112\\\\\n",
       "\t 9   & 14  & 108\\\\\n",
       "\\end{tabular}\n"
      ],
      "text/markdown": [
       "\n",
       "Income | Physical_work | Sedentary_work | \n",
       "|---|---|---|---|---|---|---|---|---|\n",
       "| 1   | 29  |  18 | \n",
       "| 2   | 58  |  21 | \n",
       "| 3   | 52  |  33 | \n",
       "| 4   | 59  |  39 | \n",
       "| 5   | 43  |  52 | \n",
       "| 6   | 68  | 106 | \n",
       "| 7   | 49  |  91 | \n",
       "| 8   | 34  | 112 | \n",
       "| 9   | 14  | 108 | \n",
       "\n",
       "\n"
      ],
      "text/plain": [
       "  Income Physical_work Sedentary_work\n",
       "1 1      29             18           \n",
       "2 2      58             21           \n",
       "3 3      52             33           \n",
       "4 4      59             39           \n",
       "5 5      43             52           \n",
       "6 6      68            106           \n",
       "7 7      49             91           \n",
       "8 8      34            112           \n",
       "9 9      14            108           "
      ]
     },
     "metadata": {},
     "output_type": "display_data"
    },
    {
     "data": {
      "text/html": [
       "<table>\n",
       "<tbody>\n",
       "\t<tr><td>29 </td><td>58 </td><td>52 </td><td>59 </td><td>43 </td><td> 68</td><td>49 </td><td> 34</td><td> 14</td></tr>\n",
       "\t<tr><td>18 </td><td>21 </td><td>33 </td><td>39 </td><td>52 </td><td>106</td><td>91 </td><td>112</td><td>108</td></tr>\n",
       "</tbody>\n",
       "</table>\n"
      ],
      "text/latex": [
       "\\begin{tabular}{lllllllll}\n",
       "\t 29  & 58  & 52  & 59  & 43  &  68 & 49  &  34 &  14\\\\\n",
       "\t 18  & 21  & 33  & 39  & 52  & 106 & 91  & 112 & 108\\\\\n",
       "\\end{tabular}\n"
      ],
      "text/markdown": [
       "\n",
       "| 29  | 58  | 52  | 59  | 43  |  68 | 49  |  34 |  14 | \n",
       "| 18  | 21  | 33  | 39  | 52  | 106 | 91  | 112 | 108 | \n",
       "\n",
       "\n"
      ],
      "text/plain": [
       "     [,1] [,2] [,3] [,4] [,5] [,6] [,7] [,8] [,9]\n",
       "[1,] 29   58   52   59   43    68  49    34   14 \n",
       "[2,] 18   21   33   39   52   106  91   112  108 "
      ]
     },
     "metadata": {},
     "output_type": "display_data"
    }
   ],
   "source": [
    "Frame4 = merge(Frame1,Frame3, by=\"Var1\")\n",
    "colnames(Frame4) = c(\"Income\",\"Physical_work\",\"Sedentary_work\")\n",
    "Frame4\n",
    "Frame4 = select(Frame4, Physical_work, Sedentary_work)\n",
    "colnames(Frame4) = NULL\n",
    "Frame4 = t(as.matrix(Frame4))\n",
    "Frame4"
   ]
  },
  {
   "cell_type": "markdown",
   "metadata": {},
   "source": [
    "1. Then I merged Frame1 and Frame3 with respect to the income.\n",
    "2. Then I converted it into a matrix, took its transpose and removed its column names.\n",
    "3. This is going to be required for barplot()"
   ]
  },
  {
   "cell_type": "code",
   "execution_count": 282,
   "metadata": {
    "collapsed": false
   },
   "outputs": [
    {
     "data": {
      "image/png": "[encoded data removed]",
      "text/plain": [
       "Plot with title “Income vs Type of Work”"
      ]
     },
     "metadata": {},
     "output_type": "display_data"
    }
   ],
   "source": [
    "colors = c(\"firebrick3\",\"dodgerblue3\")\n",
    "regions = c(\"Physical work\", \"Sedentary work\")\n",
    "names = c(\"<10k\",\"10k-20k\",\"20k-30k\",\"30k-40k\",\"40k-50k\",\"50k-75k\",\"75k-100k\",\"100k-150k\",\">150k\")\n",
    "\n",
    "barplot(Frame4 , xlab=\"Income\", ylab = \"Frequency\", main=\"Income vs Type of Work\",col=colors, names.arg=names)\n",
    "legend(\"topleft\", regions, cex = 1.1, fill = colors)"
   ]
  },
  {
   "cell_type": "markdown",
   "metadata": {},
   "source": [
    "1. I have created a bar chart where each bar corresponds to one income range.\n",
    "2. The different colours on the bars are representing physical work and sedentary work.\n",
    "3. Some key observations can be made from this chart eg: There is a high majority of people who are paid very high for sedantary work."
   ]
  },
  {
   "cell_type": "markdown",
   "metadata": {},
   "source": [
    "###################################################################################################################\n",
    "\n",
    "Q3. How much does income depend on the type of job like full time or part time or retirement?\n"
   ]
  },
  {
   "cell_type": "code",
   "execution_count": 283,
   "metadata": {
    "collapsed": false
   },
   "outputs": [
    {
     "data": {
      "text/html": [
       "<table>\n",
       "<thead><tr><th scope=col>Var1</th><th scope=col>Freq</th></tr></thead>\n",
       "<tbody>\n",
       "\t<tr><td>1  </td><td> 22</td></tr>\n",
       "\t<tr><td>2  </td><td> 51</td></tr>\n",
       "\t<tr><td>3  </td><td> 63</td></tr>\n",
       "\t<tr><td>4  </td><td> 73</td></tr>\n",
       "\t<tr><td>5  </td><td> 67</td></tr>\n",
       "\t<tr><td>6  </td><td>148</td></tr>\n",
       "\t<tr><td>7  </td><td>114</td></tr>\n",
       "\t<tr><td>8  </td><td>131</td></tr>\n",
       "\t<tr><td>9  </td><td>107</td></tr>\n",
       "</tbody>\n",
       "</table>\n"
      ],
      "text/latex": [
       "\\begin{tabular}{r|ll}\n",
       " Var1 & Freq\\\\\n",
       "\\hline\n",
       "\t 1   &  22\\\\\n",
       "\t 2   &  51\\\\\n",
       "\t 3   &  63\\\\\n",
       "\t 4   &  73\\\\\n",
       "\t 5   &  67\\\\\n",
       "\t 6   & 148\\\\\n",
       "\t 7   & 114\\\\\n",
       "\t 8   & 131\\\\\n",
       "\t 9   & 107\\\\\n",
       "\\end{tabular}\n"
      ],
      "text/markdown": [
       "\n",
       "Var1 | Freq | \n",
       "|---|---|---|---|---|---|---|---|---|\n",
       "| 1   |  22 | \n",
       "| 2   |  51 | \n",
       "| 3   |  63 | \n",
       "| 4   |  73 | \n",
       "| 5   |  67 | \n",
       "| 6   | 148 | \n",
       "| 7   | 114 | \n",
       "| 8   | 131 | \n",
       "| 9   | 107 | \n",
       "\n",
       "\n"
      ],
      "text/plain": [
       "  Var1 Freq\n",
       "1 1     22 \n",
       "2 2     51 \n",
       "3 3     63 \n",
       "4 4     73 \n",
       "5 5     67 \n",
       "6 6    148 \n",
       "7 7    114 \n",
       "8 8    131 \n",
       "9 9    107 "
      ]
     },
     "metadata": {},
     "output_type": "display_data"
    }
   ],
   "source": [
    "Frame = filter(DFrame, emplnw==1, inc<98)\n",
    "Frame1 = select(Frame, inc)\n",
    "Frame1 = as.data.frame(table(unlist(Frame1)))\n",
    "Frame1\n",
    "\n",
    "Frame2 = filter(DFrame, emplnw==2, inc<98)\n",
    "Frame3 = select(Frame2, inc)\n",
    "Frame3 = as.data.frame(table(unlist(Frame3)))\n",
    "\n",
    "Frame4 = filter(DFrame, emplnw==3, inc<98)\n",
    "Frame5 = select(Frame4, inc)\n",
    "Frame5 = as.data.frame(table(unlist(Frame5)))"
   ]
  },
  {
   "cell_type": "markdown",
   "metadata": {},
   "source": [
    "1. First we apply filter() and then select() to get a dataframe consisting of incomes of all people who do Full time job.\n",
    "2. We then find frequency of each income so that we get number of people getting a particular income for a full time job.\n",
    "3. Same has been done for part time and retirement."
   ]
  },
  {
   "cell_type": "code",
   "execution_count": 284,
   "metadata": {
    "collapsed": false
   },
   "outputs": [
    {
     "data": {
      "text/html": [
       "<table>\n",
       "<thead><tr><th scope=col>Full_time</th><th scope=col>Part_time</th><th scope=col>Retirement</th></tr></thead>\n",
       "<tbody>\n",
       "\t<tr><td> 22</td><td>23 </td><td>44 </td></tr>\n",
       "\t<tr><td> 51</td><td>27 </td><td>57 </td></tr>\n",
       "\t<tr><td> 63</td><td>21 </td><td>65 </td></tr>\n",
       "\t<tr><td> 73</td><td>22 </td><td>57 </td></tr>\n",
       "\t<tr><td> 67</td><td>26 </td><td>50 </td></tr>\n",
       "\t<tr><td>148</td><td>25 </td><td>74 </td></tr>\n",
       "\t<tr><td>114</td><td>21 </td><td>50 </td></tr>\n",
       "\t<tr><td>131</td><td>11 </td><td>35 </td></tr>\n",
       "\t<tr><td>107</td><td>10 </td><td>29 </td></tr>\n",
       "</tbody>\n",
       "</table>\n"
      ],
      "text/latex": [
       "\\begin{tabular}{r|lll}\n",
       " Full\\_time & Part\\_time & Retirement\\\\\n",
       "\\hline\n",
       "\t  22 & 23  & 44 \\\\\n",
       "\t  51 & 27  & 57 \\\\\n",
       "\t  63 & 21  & 65 \\\\\n",
       "\t  73 & 22  & 57 \\\\\n",
       "\t  67 & 26  & 50 \\\\\n",
       "\t 148 & 25  & 74 \\\\\n",
       "\t 114 & 21  & 50 \\\\\n",
       "\t 131 & 11  & 35 \\\\\n",
       "\t 107 & 10  & 29 \\\\\n",
       "\\end{tabular}\n"
      ],
      "text/markdown": [
       "\n",
       "Full_time | Part_time | Retirement | \n",
       "|---|---|---|---|---|---|---|---|---|\n",
       "|  22 | 23  | 44  | \n",
       "|  51 | 27  | 57  | \n",
       "|  63 | 21  | 65  | \n",
       "|  73 | 22  | 57  | \n",
       "|  67 | 26  | 50  | \n",
       "| 148 | 25  | 74  | \n",
       "| 114 | 21  | 50  | \n",
       "| 131 | 11  | 35  | \n",
       "| 107 | 10  | 29  | \n",
       "\n",
       "\n"
      ],
      "text/plain": [
       "  Full_time Part_time Retirement\n",
       "1  22       23        44        \n",
       "2  51       27        57        \n",
       "3  63       21        65        \n",
       "4  73       22        57        \n",
       "5  67       26        50        \n",
       "6 148       25        74        \n",
       "7 114       21        50        \n",
       "8 131       11        35        \n",
       "9 107       10        29        "
      ]
     },
     "metadata": {},
     "output_type": "display_data"
    },
    {
     "data": {
      "text/html": [
       "<table>\n",
       "<tbody>\n",
       "\t<tr><td>22 </td><td>51 </td><td>63 </td><td>73 </td><td>67 </td><td>148</td><td>114</td><td>131</td><td>107</td></tr>\n",
       "\t<tr><td>23 </td><td>27 </td><td>21 </td><td>22 </td><td>26 </td><td> 25</td><td> 21</td><td> 11</td><td> 10</td></tr>\n",
       "\t<tr><td>44 </td><td>57 </td><td>65 </td><td>57 </td><td>50 </td><td> 74</td><td> 50</td><td> 35</td><td> 29</td></tr>\n",
       "</tbody>\n",
       "</table>\n"
      ],
      "text/latex": [
       "\\begin{tabular}{lllllllll}\n",
       "\t 22  & 51  & 63  & 73  & 67  & 148 & 114 & 131 & 107\\\\\n",
       "\t 23  & 27  & 21  & 22  & 26  &  25 &  21 &  11 &  10\\\\\n",
       "\t 44  & 57  & 65  & 57  & 50  &  74 &  50 &  35 &  29\\\\\n",
       "\\end{tabular}\n"
      ],
      "text/markdown": [
       "\n",
       "| 22  | 51  | 63  | 73  | 67  | 148 | 114 | 131 | 107 | \n",
       "| 23  | 27  | 21  | 22  | 26  |  25 |  21 |  11 |  10 | \n",
       "| 44  | 57  | 65  | 57  | 50  |  74 |  50 |  35 |  29 | \n",
       "\n",
       "\n"
      ],
      "text/plain": [
       "     [,1] [,2] [,3] [,4] [,5] [,6] [,7] [,8] [,9]\n",
       "[1,] 22   51   63   73   67   148  114  131  107 \n",
       "[2,] 23   27   21   22   26    25   21   11   10 \n",
       "[3,] 44   57   65   57   50    74   50   35   29 "
      ]
     },
     "metadata": {},
     "output_type": "display_data"
    }
   ],
   "source": [
    "Frame6 = merge(Frame1,Frame3, by=\"Var1\")\n",
    "Frame7 = merge(Frame6, Frame5, by=\"Var1\")\n",
    "colnames(Frame7) = c(\"Income\",\"Full_time\",\"Part_time\",\"Retirement\")\n",
    "Frame7 = select(Frame7, Full_time, Part_time, Retirement)\n",
    "Frame7\n",
    "colnames(Frame7) = NULL\n",
    "Frame7 = t(as.matrix(Frame7))\n",
    "Frame7"
   ]
  },
  {
   "cell_type": "markdown",
   "metadata": {},
   "source": [
    "1. Then I merged Frame1, Frame3 and Frame5 with respect to the income.\n",
    "2. Then I converted it into a matrix, took its transpose and removed its column names.\n",
    "3. This is going to be required for barplot()"
   ]
  },
  {
   "cell_type": "code",
   "execution_count": 285,
   "metadata": {
    "collapsed": false
   },
   "outputs": [
    {
     "data": {
      "image/png": "[encoded data removed]",
      "text/plain": [
       "Plot with title “Income vs Job Type”"
      ]
     },
     "metadata": {},
     "output_type": "display_data"
    }
   ],
   "source": [
    "colors = c(\"red3\",\"whitesmoke\",\"royalblue4\")\n",
    "regions = c(\"Full time\", \"Part time\", \"Retirement\")\n",
    "names = c(\"<10k\",\"10k-20k\",\"20k-30k\",\"30k-40k\",\"40k-50k\",\"50k-75k\",\"75k-100k\",\"100k-150k\",\">150k\")\n",
    "\n",
    "barplot(Frame7 , xlab=\"Income\", ylab = \"Frequency\", main=\"Income vs Job Type\",col=colors, names.arg=names)\n",
    "legend(\"topleft\", regions, cex = 1.1, fill = colors)"
   ]
  },
  {
   "cell_type": "markdown",
   "metadata": {},
   "source": [
    "1. I have created a bar chart where each bar corresponds to one income range.\n",
    "2. The different colours on the bars are representing full-time, part-time and retirement.\n",
    "3. Some key observations can be made from this chart eg: Most people who make $150,000 have been employed full-time."
   ]
  },
  {
   "cell_type": "markdown",
   "metadata": {},
   "source": [
    "###################################################################################################################\n",
    "\n",
    "Q4. Does the use of online dating vary with age?\n"
   ]
  },
  {
   "cell_type": "code",
   "execution_count": 286,
   "metadata": {
    "collapsed": false
   },
   "outputs": [
    {
     "data": {
      "text/html": [
       "<table>\n",
       "<thead><tr><th scope=col>Var1</th><th scope=col>Freq</th></tr></thead>\n",
       "<tbody>\n",
       "\t<tr><td>(0,20]  </td><td>11      </td></tr>\n",
       "\t<tr><td>(20,40] </td><td>91      </td></tr>\n",
       "\t<tr><td>(40,60] </td><td>89      </td></tr>\n",
       "\t<tr><td>(60,80] </td><td>30      </td></tr>\n",
       "\t<tr><td>(80,100]</td><td> 4      </td></tr>\n",
       "</tbody>\n",
       "</table>\n"
      ],
      "text/latex": [
       "\\begin{tabular}{r|ll}\n",
       " Var1 & Freq\\\\\n",
       "\\hline\n",
       "\t (0,20{]}   & 11        \\\\\n",
       "\t (20,40{]}  & 91        \\\\\n",
       "\t (40,60{]}  & 89        \\\\\n",
       "\t (60,80{]}  & 30        \\\\\n",
       "\t (80,100{]} &  4        \\\\\n",
       "\\end{tabular}\n"
      ],
      "text/markdown": [
       "\n",
       "Var1 | Freq | \n",
       "|---|---|---|---|---|\n",
       "| (0,20]   | 11       | \n",
       "| (20,40]  | 91       | \n",
       "| (40,60]  | 89       | \n",
       "| (60,80]  | 30       | \n",
       "| (80,100] |  4       | \n",
       "\n",
       "\n"
      ],
      "text/plain": [
       "  Var1     Freq\n",
       "1 (0,20]   11  \n",
       "2 (20,40]  91  \n",
       "3 (40,60]  89  \n",
       "4 (60,80]  30  \n",
       "5 (80,100]  4  "
      ]
     },
     "metadata": {},
     "output_type": "display_data"
    }
   ],
   "source": [
    "Frame = filter(DFrame, date1a==1)\n",
    "Frame1 = select(Frame, age, date1a)\n",
    "agebin1 = cut(Frame1$age, c(0,20,40,60,80,100))\n",
    "Frame1 = as.data.frame(table(unlist(agebin1)))\n",
    "Frame1\n",
    "\n",
    "Frame2 = filter(DFrame, date1a==2)\n",
    "Frame2 = select(Frame2, age, date1a)\n",
    "agebin2 = cut(Frame2$age, c(0,20,40,60,80,100))\n",
    "Frame2 = as.data.frame(table(unlist(agebin2)))"
   ]
  },
  {
   "cell_type": "markdown",
   "metadata": {},
   "source": [
    "1. I have used filter() to first find the ages of all the people who do online dating.\n",
    "2. I've used binning to separate the ages into bins and found frequency of online dating on each bin.\n",
    "3. Same has been done for all the ages of people who don't do online dating which is stored in Frame2."
   ]
  },
  {
   "cell_type": "code",
   "execution_count": 287,
   "metadata": {
    "collapsed": false
   },
   "outputs": [],
   "source": [
    "Frame4 = merge(Frame1, Frame2, by=\"Var1\")\n",
    "Frame4 = select(Frame4, Freq.x, Freq.y)\n",
    "colnames(Frame4) = NULL\n",
    "Frame4 = t(as.matrix(Frame4))"
   ]
  },
  {
   "cell_type": "markdown",
   "metadata": {},
   "source": [
    "1. Then I merged Frame1 and Frame2 with respect to the age bins\n",
    "2. Then I converted it into a matrix, took its transpose and removed its column names\n",
    "3. This is going to be required for barplot()"
   ]
  },
  {
   "cell_type": "code",
   "execution_count": 288,
   "metadata": {
    "collapsed": false
   },
   "outputs": [
    {
     "data": {
      "image/png": "[encoded data removed]",
      "text/plain": [
       "Plot with title “Age vs Use of online dating”"
      ]
     },
     "metadata": {},
     "output_type": "display_data"
    }
   ],
   "source": [
    "colors = c(\"firebrick3\",\"dodgerblue3\")\n",
    "regions = c(\"Used o/l dating\", \"Haven't used o/l dating\")\n",
    "names = c(\"0-20\",\"20-40\",\"40-60\",\"60-80\",\"80-100\")\n",
    "\n",
    "barplot(Frame4 , xlab=\"Age(years)\", ylab = \"Frequency\", main=\"Age vs Use of online dating\",col=colors, names.arg=names)\n",
    "legend(\"topleft\", regions, cex = 1.0, fill = colors)"
   ]
  },
  {
   "cell_type": "markdown",
   "metadata": {},
   "source": [
    "1. I have created a bar chart where each bar corresponds to one age group.\n",
    "2. The different colours on the bars are representing number of people who use online dating and those who don't.\n",
    "3. Some key observations can be made from this chart eg: most people who use online dating are in the age group of 20-40 and 40-60."
   ]
  },
  {
   "cell_type": "markdown",
   "metadata": {},
   "source": [
    "###################################################################################################################\n",
    "\n",
    "Q5. What are the political views about people from different races?\n"
   ]
  },
  {
   "cell_type": "code",
   "execution_count": 289,
   "metadata": {
    "collapsed": false
   },
   "outputs": [
    {
     "data": {
      "text/html": [
       "<table>\n",
       "<thead><tr><th scope=col>Var1</th><th scope=col>Freq</th></tr></thead>\n",
       "<tbody>\n",
       "\t<tr><td>1  </td><td>395</td></tr>\n",
       "\t<tr><td>2  </td><td> 17</td></tr>\n",
       "\t<tr><td>3  </td><td> 11</td></tr>\n",
       "\t<tr><td>4  </td><td>  4</td></tr>\n",
       "\t<tr><td>5  </td><td>  4</td></tr>\n",
       "\t<tr><td>6  </td><td>  8</td></tr>\n",
       "</tbody>\n",
       "</table>\n"
      ],
      "text/latex": [
       "\\begin{tabular}{r|ll}\n",
       " Var1 & Freq\\\\\n",
       "\\hline\n",
       "\t 1   & 395\\\\\n",
       "\t 2   &  17\\\\\n",
       "\t 3   &  11\\\\\n",
       "\t 4   &   4\\\\\n",
       "\t 5   &   4\\\\\n",
       "\t 6   &   8\\\\\n",
       "\\end{tabular}\n"
      ],
      "text/markdown": [
       "\n",
       "Var1 | Freq | \n",
       "|---|---|---|---|---|---|\n",
       "| 1   | 395 | \n",
       "| 2   |  17 | \n",
       "| 3   |  11 | \n",
       "| 4   |   4 | \n",
       "| 5   |   4 | \n",
       "| 6   |   8 | \n",
       "\n",
       "\n"
      ],
      "text/plain": [
       "  Var1 Freq\n",
       "1 1    395 \n",
       "2 2     17 \n",
       "3 3     11 \n",
       "4 4      4 \n",
       "5 5      4 \n",
       "6 6      8 "
      ]
     },
     "metadata": {},
     "output_type": "display_data"
    }
   ],
   "source": [
    "Frame = filter(DFrame, party==1, race<8)\n",
    "Frame1 = select(Frame, race)\n",
    "Frame1 = as.data.frame(table(unlist(Frame1)))\n",
    "Frame1\n",
    "\n",
    "Frame2 = filter(DFrame, party==2, race<8)\n",
    "Frame3 = select(Frame2, race)\n",
    "Frame3 = as.data.frame(table(unlist(Frame3)))\n",
    "\n",
    "Frame4 = filter(DFrame, party==3, race<8)\n",
    "Frame5 = select(Frame4, race)\n",
    "Frame5 = as.data.frame(table(unlist(Frame5)))"
   ]
  },
  {
   "cell_type": "markdown",
   "metadata": {},
   "source": [
    "1. First we apply filter() and then select() to get a dataframe consisting of races of all people who consider themselves as Republican.\n",
    "2. We then find frequency of each race so that we get number of people from a particular race who consider themselves as Republican.\n",
    "3. Same has been done for Democrats and Independent."
   ]
  },
  {
   "cell_type": "code",
   "execution_count": 290,
   "metadata": {
    "collapsed": false
   },
   "outputs": [
    {
     "data": {
      "text/html": [
       "<table>\n",
       "<thead><tr><th scope=col>Republicans</th><th scope=col>Democrats</th><th scope=col>Independent</th></tr></thead>\n",
       "<tbody>\n",
       "\t<tr><td>395</td><td>409</td><td>541</td></tr>\n",
       "\t<tr><td> 17</td><td>140</td><td> 63</td></tr>\n",
       "\t<tr><td> 11</td><td> 13</td><td> 20</td></tr>\n",
       "\t<tr><td>  4</td><td> 15</td><td> 20</td></tr>\n",
       "\t<tr><td>  4</td><td>  6</td><td>  5</td></tr>\n",
       "\t<tr><td>  8</td><td> 20</td><td> 23</td></tr>\n",
       "</tbody>\n",
       "</table>\n"
      ],
      "text/latex": [
       "\\begin{tabular}{r|lll}\n",
       " Republicans & Democrats & Independent\\\\\n",
       "\\hline\n",
       "\t 395 & 409 & 541\\\\\n",
       "\t  17 & 140 &  63\\\\\n",
       "\t  11 &  13 &  20\\\\\n",
       "\t   4 &  15 &  20\\\\\n",
       "\t   4 &   6 &   5\\\\\n",
       "\t   8 &  20 &  23\\\\\n",
       "\\end{tabular}\n"
      ],
      "text/markdown": [
       "\n",
       "Republicans | Democrats | Independent | \n",
       "|---|---|---|---|---|---|\n",
       "| 395 | 409 | 541 | \n",
       "|  17 | 140 |  63 | \n",
       "|  11 |  13 |  20 | \n",
       "|   4 |  15 |  20 | \n",
       "|   4 |   6 |   5 | \n",
       "|   8 |  20 |  23 | \n",
       "\n",
       "\n"
      ],
      "text/plain": [
       "  Republicans Democrats Independent\n",
       "1 395         409       541        \n",
       "2  17         140        63        \n",
       "3  11          13        20        \n",
       "4   4          15        20        \n",
       "5   4           6         5        \n",
       "6   8          20        23        "
      ]
     },
     "metadata": {},
     "output_type": "display_data"
    },
    {
     "data": {
      "text/html": [
       "<table>\n",
       "<tbody>\n",
       "\t<tr><td>395</td><td>409</td><td>541</td></tr>\n",
       "\t<tr><td> 17</td><td>140</td><td> 63</td></tr>\n",
       "\t<tr><td> 11</td><td> 13</td><td> 20</td></tr>\n",
       "\t<tr><td>  4</td><td> 15</td><td> 20</td></tr>\n",
       "\t<tr><td>  4</td><td>  6</td><td>  5</td></tr>\n",
       "\t<tr><td>  8</td><td> 20</td><td> 23</td></tr>\n",
       "</tbody>\n",
       "</table>\n"
      ],
      "text/latex": [
       "\\begin{tabular}{lll}\n",
       "\t 395 & 409 & 541\\\\\n",
       "\t  17 & 140 &  63\\\\\n",
       "\t  11 &  13 &  20\\\\\n",
       "\t   4 &  15 &  20\\\\\n",
       "\t   4 &   6 &   5\\\\\n",
       "\t   8 &  20 &  23\\\\\n",
       "\\end{tabular}\n"
      ],
      "text/markdown": [
       "\n",
       "| 395 | 409 | 541 | \n",
       "|  17 | 140 |  63 | \n",
       "|  11 |  13 |  20 | \n",
       "|   4 |  15 |  20 | \n",
       "|   4 |   6 |   5 | \n",
       "|   8 |  20 |  23 | \n",
       "\n",
       "\n"
      ],
      "text/plain": [
       "     [,1] [,2] [,3]\n",
       "[1,] 395  409  541 \n",
       "[2,]  17  140   63 \n",
       "[3,]  11   13   20 \n",
       "[4,]   4   15   20 \n",
       "[5,]   4    6    5 \n",
       "[6,]   8   20   23 "
      ]
     },
     "metadata": {},
     "output_type": "display_data"
    }
   ],
   "source": [
    "Frame6 = merge(Frame1,Frame3, by=\"Var1\")\n",
    "Frame7 = merge(Frame6, Frame5, by=\"Var1\")\n",
    "colnames(Frame7) = c(\"Race\",\"Republicans\",\"Democrats\",\"Independent\")\n",
    "Frame7 = select(Frame7, Republicans, Democrats, Independent)\n",
    "Frame7\n",
    "colnames(Frame7) = NULL\n",
    "Frame7 = as.matrix(Frame7)\n",
    "Frame7"
   ]
  },
  {
   "cell_type": "markdown",
   "metadata": {},
   "source": [
    "1. Then I merged Frame1, Frame3 and Frame5 with respect to race.\n",
    "2. Then I converted it into a matrix and removed its column names.\n",
    "3. This is going to be required for barplot()"
   ]
  },
  {
   "cell_type": "code",
   "execution_count": 291,
   "metadata": {
    "collapsed": false
   },
   "outputs": [
    {
     "data": {
      "image/png": "[encoded data removed]",
      "text/plain": [
       "Plot with title “Race vs Political Views”"
      ]
     },
     "metadata": {},
     "output_type": "display_data"
    }
   ],
   "source": [
    "colors = c(\"mintcream\",\"royalblue4\",\"forestgreen\",\"gold1\",\"red3\",\"lightsteelblue4\")\n",
    "names = c(\"Republicans\", \"Democrats\", \"Independent\")\n",
    "regions = c(\"White\",\"African\",\"Asian\",\"Mixed\",\"Native\",\"Other\")\n",
    "\n",
    "barplot(Frame7 , xlab=\"Political Party\", ylab = \"Frequency\", main=\"Race vs Political Views\",col=colors, names.arg=names)\n",
    "legend(\"topleft\", regions, cex = 1.1, fill = colors)"
   ]
  },
  {
   "cell_type": "markdown",
   "metadata": {
    "collapsed": true
   },
   "source": [
    "1. I have created a bar chart where each bar corresponds to one political party.\n",
    "2. The different colours on the bars are representing the different races.\n",
    "3. Some key observations can be made from this chart eg: Most of the African Americans support the Democrats."
   ]
  }
 ],
 "metadata": {
  "kernelspec": {
   "display_name": "R",
   "language": "R",
   "name": "ir"
  },
  "language_info": {
   "codemirror_mode": "r",
   "file_extension": ".r",
   "mimetype": "text/x-r-source",
   "name": "R",
   "pygments_lexer": "r",
   "version": "3.3.2"
  }
 },
 "nbformat": 4,
 "nbformat_minor": 2
}
