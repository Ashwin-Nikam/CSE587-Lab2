{
 "cells": [
  {
   "cell_type": "code",
   "execution_count": 3,
   "metadata": {
    "collapsed": false
   },
   "outputs": [],
   "source": [
    "library(dplyr) \n",
    "library(RSQLite) \n",
    "my_db <- src_sqlite(\"flights_db.sqlite3\", create = T) "
   ]
  },
  {
   "cell_type": "code",
   "execution_count": 4,
   "metadata": {
    "collapsed": false
   },
   "outputs": [],
   "source": [
    "library(nycflights13)\n",
    "flights_sqlite <- copy_to(my_db, flights, temporary = FALSE, indexes = list(\n",
    "c(\"year\", \"month\", \"day\"), \"carrier\", \"tailnum\"))"
   ]
  },
  {
   "cell_type": "code",
   "execution_count": 5,
   "metadata": {
    "collapsed": false
   },
   "outputs": [
    {
     "name": "stderr",
     "output_type": "stream",
     "text": [
      "Caching nycflights db at /tmp/RtmpJZUcZp/nycflights13.sqlite\n",
      "Creating table: airlines\n",
      "Creating table: airports\n",
      "Creating table: flights\n",
      "Creating table: planes\n",
      "Creating table: weather\n"
     ]
    }
   ],
   "source": [
    "flights_sqlite <- tbl(nycflights13_sqlite(), \"flights\")"
   ]
  },
  {
   "cell_type": "code",
   "execution_count": 6,
   "metadata": {
    "collapsed": false
   },
   "outputs": [
    {
     "data": {
      "text/plain": [
       "Source:   query [?? x 19]\n",
       "Database: sqlite 3.11.1 [/tmp/RtmpJZUcZp/nycflights13.sqlite]\n",
       "\n",
       "    year month   day dep_time sched_dep_time dep_delay arr_time sched_arr_time\n",
       "   <int> <int> <int>    <int>          <int>     <dbl>    <int>          <int>\n",
       "1   2013     1     1      517            515         2      830            819\n",
       "2   2013     1     1      533            529         4      850            830\n",
       "3   2013     1     1      542            540         2      923            850\n",
       "4   2013     1     1      544            545        -1     1004           1022\n",
       "5   2013     1     1      554            600        -6      812            837\n",
       "6   2013     1     1      554            558        -4      740            728\n",
       "7   2013     1     1      555            600        -5      913            854\n",
       "8   2013     1     1      557            600        -3      709            723\n",
       "9   2013     1     1      557            600        -3      838            846\n",
       "10  2013     1     1      558            600        -2      753            745\n",
       "# ... with more rows, and 11 more variables: arr_delay <dbl>, carrier <chr>,\n",
       "#   flight <int>, tailnum <chr>, origin <chr>, dest <chr>, air_time <dbl>,\n",
       "#   distance <dbl>, hour <dbl>, minute <dbl>, time_hour <dbl>"
      ]
     },
     "metadata": {},
     "output_type": "display_data"
    }
   ],
   "source": [
    "flights_sqlite"
   ]
  },
  {
   "cell_type": "code",
   "execution_count": 7,
   "metadata": {
    "collapsed": false
   },
   "outputs": [
    {
     "data": {
      "text/plain": [
       "Source:   query [?? x 7]\n",
       "Database: sqlite 3.11.1 [/tmp/RtmpJZUcZp/nycflights13.sqlite]\n",
       "\n",
       "    year month   day dep_time sched_dep_time dep_delay arr_time\n",
       "   <int> <int> <int>    <int>          <int>     <dbl>    <int>\n",
       "1   2013     1     1      517            515         2      830\n",
       "2   2013     1     1      533            529         4      850\n",
       "3   2013     1     1      542            540         2      923\n",
       "4   2013     1     1      544            545        -1     1004\n",
       "5   2013     1     1      554            600        -6      812\n",
       "6   2013     1     1      554            558        -4      740\n",
       "7   2013     1     1      555            600        -5      913\n",
       "8   2013     1     1      557            600        -3      709\n",
       "9   2013     1     1      557            600        -3      838\n",
       "10  2013     1     1      558            600        -2      753\n",
       "# ... with more rows"
      ]
     },
     "metadata": {},
     "output_type": "display_data"
    }
   ],
   "source": [
    "select(flights_sqlite,year:day,dep_time:arr_time)"
   ]
  },
  {
   "cell_type": "code",
   "execution_count": 8,
   "metadata": {
    "collapsed": false
   },
   "outputs": [
    {
     "data": {
      "text/plain": [
       "Source:   query [?? x 19]\n",
       "Database: sqlite 3.11.1 [/tmp/RtmpJZUcZp/nycflights13.sqlite]\n",
       "\n",
       "    year month   day dep_time sched_dep_time dep_delay arr_time sched_arr_time\n",
       "   <int> <int> <int>    <int>          <int>     <dbl>    <int>          <int>\n",
       "1   2013     1     1     1101           1043        18     1345           1332\n",
       "2   2013     1     1     1103           1100         3     1410           1421\n",
       "3   2013     1     1     1105           1047        18     1428           1405\n",
       "4   2013     1     1     1107           1115        -8     1305           1310\n",
       "5   2013     1     1     1109           1115        -6     1402           1425\n",
       "6   2013     1     1     1111           1115        -4     1222           1226\n",
       "7   2013     1     1     1112           1100        12     1440           1438\n",
       "8   2013     1     1     1113           1115        -2     1318           1315\n",
       "9   2013     1     1     1120           1125        -5     1330           1325\n",
       "10  2013     1     1     1123           1110        13     1410           1336\n",
       "# ... with more rows, and 11 more variables: arr_delay <dbl>, carrier <chr>,\n",
       "#   flight <int>, tailnum <chr>, origin <chr>, dest <chr>, air_time <dbl>,\n",
       "#   distance <dbl>, hour <dbl>, minute <dbl>, time_hour <dbl>"
      ]
     },
     "metadata": {},
     "output_type": "display_data"
    }
   ],
   "source": [
    "filter(flights_sqlite,sched_dep_time>1000 & dep_time>1100)"
   ]
  },
  {
   "cell_type": "code",
   "execution_count": 9,
   "metadata": {
    "collapsed": false
   },
   "outputs": [
    {
     "data": {
      "text/plain": [
       "Source:   query [?? x 19]\n",
       "Database: sqlite 3.11.1 [/tmp/RtmpJZUcZp/nycflights13.sqlite]\n",
       "\n",
       "    year month   day dep_time sched_dep_time dep_delay arr_time sched_arr_time\n",
       "   <int> <int> <int>    <int>          <int>     <dbl>    <int>          <int>\n",
       "1   2013     7    27       NA            106        NA       NA            245\n",
       "2   2013     1     2      458            500        -2      703            650\n",
       "3   2013     1     3      458            500        -2      650            650\n",
       "4   2013     1     4      456            500        -4      631            650\n",
       "5   2013     1     5      458            500        -2      640            650\n",
       "6   2013     1     6      458            500        -2      718            650\n",
       "7   2013     1     7      454            500        -6      637            648\n",
       "8   2013     1     8      454            500        -6      625            648\n",
       "9   2013     1     9      457            500        -3      647            648\n",
       "10  2013     1    10      450            500       -10      634            648\n",
       "# ... with more rows, and 11 more variables: arr_delay <dbl>, carrier <chr>,\n",
       "#   flight <int>, tailnum <chr>, origin <chr>, dest <chr>, air_time <dbl>,\n",
       "#   distance <dbl>, hour <dbl>, minute <dbl>, time_hour <dbl>"
      ]
     },
     "metadata": {},
     "output_type": "display_data"
    }
   ],
   "source": [
    "arrange(flights_sqlite, sched_dep_time )  #Arranges according to ascending order"
   ]
  },
  {
   "cell_type": "code",
   "execution_count": 10,
   "metadata": {
    "collapsed": false
   },
   "outputs": [
    {
     "data": {
      "text/plain": [
       "Source:   query [?? x 20]\n",
       "Database: sqlite 3.11.1 [/tmp/RtmpJZUcZp/nycflights13.sqlite]\n",
       "\n",
       "    year month   day dep_time sched_dep_time dep_delay arr_time sched_arr_time\n",
       "   <int> <int> <int>    <int>          <int>     <dbl>    <int>          <int>\n",
       "1   2013     1     1      517            515         2      830            819\n",
       "2   2013     1     1      533            529         4      850            830\n",
       "3   2013     1     1      542            540         2      923            850\n",
       "4   2013     1     1      544            545        -1     1004           1022\n",
       "5   2013     1     1      554            600        -6      812            837\n",
       "6   2013     1     1      554            558        -4      740            728\n",
       "7   2013     1     1      555            600        -5      913            854\n",
       "8   2013     1     1      557            600        -3      709            723\n",
       "9   2013     1     1      557            600        -3      838            846\n",
       "10  2013     1     1      558            600        -2      753            745\n",
       "# ... with more rows, and 12 more variables: arr_delay <dbl>, carrier <chr>,\n",
       "#   flight <int>, tailnum <chr>, origin <chr>, dest <chr>, air_time <dbl>,\n",
       "#   distance <dbl>, hour <dbl>, minute <dbl>, time_hour <dbl>, speed <dbl>"
      ]
     },
     "metadata": {},
     "output_type": "display_data"
    }
   ],
   "source": [
    "mutate(flights_sqlite, speed = air_time / distance)"
   ]
  },
  {
   "cell_type": "code",
   "execution_count": 11,
   "metadata": {
    "collapsed": false
   },
   "outputs": [
    {
     "data": {
      "text/plain": [
       "Source:   query [?? x 1]\n",
       "Database: sqlite 3.11.1 [/tmp/RtmpJZUcZp/nycflights13.sqlite]\n",
       "\n",
       "    delay\n",
       "    <dbl>\n",
       "1 1349.11"
      ]
     },
     "metadata": {},
     "output_type": "display_data"
    }
   ],
   "source": [
    "summarise(flights_sqlite, delay = mean(dep_time))"
   ]
  },
  {
   "cell_type": "code",
   "execution_count": 12,
   "metadata": {
    "collapsed": false
   },
   "outputs": [
    {
     "data": {
      "text/plain": [
       "Source:   query [?? x 8]\n",
       "Database: sqlite 3.11.1 [/tmp/RtmpJZUcZp/nycflights13.sqlite]\n",
       "\n",
       "    year month   day carrier dep_delay air_time distance    speed\n",
       "   <int> <int> <int>   <chr>     <dbl>    <dbl>    <dbl>    <dbl>\n",
       "1   2013     5    15      9E       -10       91      569 375.1648\n",
       "2   2013     5    15      9E        -9       69      340 295.6522\n",
       "3   2013     5    15      9E        -1       87      509 351.0345\n",
       "4   2013     5    15      9E        -8      161     1029 383.4783\n",
       "5   2013     5    15      9E        -3      122      740 363.9344\n",
       "6   2013     5    15      9E        -3       41      213 311.7073\n",
       "7   2013     5    15      9E        -7       43      187 260.9302\n",
       "8   2013     5    15      9E       -13       99      659 399.3939\n",
       "9   2013     5    15      9E        -6       35       94 161.1429\n",
       "10  2013     5    15      9E       -12       84      549 392.1429\n",
       "# ... with more rows"
      ]
     },
     "metadata": {},
     "output_type": "display_data"
    }
   ],
   "source": [
    "c1 <- filter(flights_sqlite, year == 2013, month == 5, day == 15)\n",
    "c2 <- select(c1, year, month, day, carrier, dep_delay, air_time, distance)\n",
    "c3 <- mutate(c2, speed = distance / air_time * 60)\n",
    "c4 <- arrange(c3, year, month, day, carrier)\n",
    "c4"
   ]
  },
  {
   "cell_type": "code",
   "execution_count": 13,
   "metadata": {
    "collapsed": false
   },
   "outputs": [
    {
     "data": {
      "text/html": [
       "<table>\n",
       "<thead><tr><th scope=col>year</th><th scope=col>month</th><th scope=col>day</th><th scope=col>carrier</th><th scope=col>dep_delay</th><th scope=col>air_time</th><th scope=col>distance</th><th scope=col>speed</th></tr></thead>\n",
       "<tbody>\n",
       "\t<tr><td>2013    </td><td>5       </td><td>15      </td><td>9E      </td><td>-10     </td><td> 91     </td><td> 569    </td><td>375.1648</td></tr>\n",
       "\t<tr><td>2013    </td><td>5       </td><td>15      </td><td>9E      </td><td> -9     </td><td> 69     </td><td> 340    </td><td>295.6522</td></tr>\n",
       "\t<tr><td>2013    </td><td>5       </td><td>15      </td><td>9E      </td><td> -1     </td><td> 87     </td><td> 509    </td><td>351.0345</td></tr>\n",
       "\t<tr><td>2013    </td><td>5       </td><td>15      </td><td>9E      </td><td> -8     </td><td>161     </td><td>1029    </td><td>383.4783</td></tr>\n",
       "\t<tr><td>2013    </td><td>5       </td><td>15      </td><td>9E      </td><td> -3     </td><td>122     </td><td> 740    </td><td>363.9344</td></tr>\n",
       "\t<tr><td>2013    </td><td>5       </td><td>15      </td><td>9E      </td><td> -3     </td><td> 41     </td><td> 213    </td><td>311.7073</td></tr>\n",
       "\t<tr><td>2013    </td><td>5       </td><td>15      </td><td>9E      </td><td> -7     </td><td> 43     </td><td> 187    </td><td>260.9302</td></tr>\n",
       "\t<tr><td>2013    </td><td>5       </td><td>15      </td><td>9E      </td><td>-13     </td><td> 99     </td><td> 659    </td><td>399.3939</td></tr>\n",
       "\t<tr><td>2013    </td><td>5       </td><td>15      </td><td>9E      </td><td> -6     </td><td> 35     </td><td>  94    </td><td>161.1429</td></tr>\n",
       "\t<tr><td>2013    </td><td>5       </td><td>15      </td><td>9E      </td><td>-12     </td><td> 84     </td><td> 549    </td><td>392.1429</td></tr>\n",
       "\t<tr><td>2013    </td><td>5       </td><td>15      </td><td>9E      </td><td>-10     </td><td> 82     </td><td> 488    </td><td>357.0732</td></tr>\n",
       "\t<tr><td>2013    </td><td>5       </td><td>15      </td><td>9E      </td><td> -4     </td><td> 42     </td><td> 187    </td><td>267.1429</td></tr>\n",
       "\t<tr><td>2013    </td><td>5       </td><td>15      </td><td>9E      </td><td>-10     </td><td> 90     </td><td> 569    </td><td>379.3333</td></tr>\n",
       "\t<tr><td>2013    </td><td>5       </td><td>15      </td><td>9E      </td><td> -3     </td><td> 29     </td><td>  94    </td><td>194.4828</td></tr>\n",
       "\t<tr><td>2013    </td><td>5       </td><td>15      </td><td>9E      </td><td> -4     </td><td> 41     </td><td> 184    </td><td>269.2683</td></tr>\n",
       "\t<tr><td>2013    </td><td>5       </td><td>15      </td><td>9E      </td><td> -9     </td><td> 60     </td><td> 301    </td><td>301.0000</td></tr>\n",
       "\t<tr><td>2013    </td><td>5       </td><td>15      </td><td>9E      </td><td> -8     </td><td> 41     </td><td> 213    </td><td>311.7073</td></tr>\n",
       "\t<tr><td>2013    </td><td>5       </td><td>15      </td><td>9E      </td><td> -5     </td><td> 46     </td><td> 228    </td><td>297.3913</td></tr>\n",
       "\t<tr><td>2013    </td><td>5       </td><td>15      </td><td>9E      </td><td> 11     </td><td> 43     </td><td> 187    </td><td>260.9302</td></tr>\n",
       "\t<tr><td>2013    </td><td>5       </td><td>15      </td><td>9E      </td><td> -3     </td><td>201     </td><td>1391    </td><td>415.2239</td></tr>\n",
       "\t<tr><td>2013    </td><td>5       </td><td>15      </td><td>9E      </td><td> -1     </td><td>126     </td><td> 740    </td><td>352.3810</td></tr>\n",
       "\t<tr><td>2013    </td><td>5       </td><td>15      </td><td>9E      </td><td> -9     </td><td>110     </td><td> 765    </td><td>417.2727</td></tr>\n",
       "\t<tr><td>2013    </td><td>5       </td><td>15      </td><td>9E      </td><td> -2     </td><td>161     </td><td>1029    </td><td>383.4783</td></tr>\n",
       "\t<tr><td>2013    </td><td>5       </td><td>15      </td><td>9E      </td><td>-10     </td><td>123     </td><td> 745    </td><td>363.4146</td></tr>\n",
       "\t<tr><td>2013    </td><td>5       </td><td>15      </td><td>9E      </td><td> -8     </td><td> 68     </td><td> 427    </td><td>376.7647</td></tr>\n",
       "\t<tr><td>2013    </td><td>5       </td><td>15      </td><td>9E      </td><td> 68     </td><td> 93     </td><td> 665    </td><td>429.0323</td></tr>\n",
       "\t<tr><td>2013    </td><td>5       </td><td>15      </td><td>9E      </td><td>-10     </td><td> 86     </td><td> 569    </td><td>396.9767</td></tr>\n",
       "\t<tr><td>2013    </td><td>5       </td><td>15      </td><td>9E      </td><td> 73     </td><td> 45     </td><td> 187    </td><td>249.3333</td></tr>\n",
       "\t<tr><td>2013    </td><td>5       </td><td>15      </td><td>9E      </td><td> 48     </td><td> 73     </td><td> 425    </td><td>349.3151</td></tr>\n",
       "\t<tr><td>2013    </td><td>5       </td><td>15      </td><td>9E      </td><td> 63     </td><td>100     </td><td> 589    </td><td>353.4000</td></tr>\n",
       "\t<tr><td>⋮</td><td>⋮</td><td>⋮</td><td>⋮</td><td>⋮</td><td>⋮</td><td>⋮</td><td>⋮</td></tr>\n",
       "\t<tr><td>2013    </td><td>5       </td><td>15      </td><td>WN      </td><td>-1      </td><td>215     </td><td>1605    </td><td>447.9070</td></tr>\n",
       "\t<tr><td>2013    </td><td>5       </td><td>15      </td><td>WN      </td><td>-4      </td><td>223     </td><td>1620    </td><td>435.8744</td></tr>\n",
       "\t<tr><td>2013    </td><td>5       </td><td>15      </td><td>WN      </td><td>-1      </td><td>112     </td><td> 711    </td><td>380.8929</td></tr>\n",
       "\t<tr><td>2013    </td><td>5       </td><td>15      </td><td>WN      </td><td>-4      </td><td>214     </td><td>1504    </td><td>421.6822</td></tr>\n",
       "\t<tr><td>2013    </td><td>5       </td><td>15      </td><td>WN      </td><td> 1      </td><td>114     </td><td> 725    </td><td>381.5789</td></tr>\n",
       "\t<tr><td>2013    </td><td>5       </td><td>15      </td><td>WN      </td><td> 0      </td><td>116     </td><td> 738    </td><td>381.7241</td></tr>\n",
       "\t<tr><td>2013    </td><td>5       </td><td>15      </td><td>WN      </td><td> 0      </td><td>115     </td><td> 725    </td><td>378.2609</td></tr>\n",
       "\t<tr><td>2013    </td><td>5       </td><td>15      </td><td>WN      </td><td>-1      </td><td>110     </td><td> 764    </td><td>416.7273</td></tr>\n",
       "\t<tr><td>2013    </td><td>5       </td><td>15      </td><td>WN      </td><td>-2      </td><td>110     </td><td> 711    </td><td>387.8182</td></tr>\n",
       "\t<tr><td>2013    </td><td>5       </td><td>15      </td><td>WN      </td><td> 2      </td><td>125     </td><td> 872    </td><td>418.5600</td></tr>\n",
       "\t<tr><td>2013    </td><td>5       </td><td>15      </td><td>WN      </td><td>-3      </td><td>120     </td><td> 738    </td><td>369.0000</td></tr>\n",
       "\t<tr><td>2013    </td><td>5       </td><td>15      </td><td>WN      </td><td> 1      </td><td>218     </td><td>1620    </td><td>445.8716</td></tr>\n",
       "\t<tr><td>2013    </td><td>5       </td><td>15      </td><td>WN      </td><td>-3      </td><td>198     </td><td>1411    </td><td>427.5758</td></tr>\n",
       "\t<tr><td>2013    </td><td>5       </td><td>15      </td><td>WN      </td><td>-2      </td><td>110     </td><td> 748    </td><td>408.0000</td></tr>\n",
       "\t<tr><td>2013    </td><td>5       </td><td>15      </td><td>WN      </td><td>10      </td><td>114     </td><td> 725    </td><td>381.5789</td></tr>\n",
       "\t<tr><td>2013    </td><td>5       </td><td>15      </td><td>WN      </td><td>34      </td><td>273     </td><td>2133    </td><td>468.7912</td></tr>\n",
       "\t<tr><td>2013    </td><td>5       </td><td>15      </td><td>WN      </td><td>33      </td><td>110     </td><td> 711    </td><td>387.8182</td></tr>\n",
       "\t<tr><td>2013    </td><td>5       </td><td>15      </td><td>WN      </td><td>64      </td><td>234     </td><td>1605    </td><td>411.5385</td></tr>\n",
       "\t<tr><td>2013    </td><td>5       </td><td>15      </td><td>WN      </td><td>16      </td><td>127     </td><td> 888    </td><td>419.5276</td></tr>\n",
       "\t<tr><td>2013    </td><td>5       </td><td>15      </td><td>WN      </td><td>77      </td><td>199     </td><td>1411    </td><td>425.4271</td></tr>\n",
       "\t<tr><td>2013    </td><td>5       </td><td>15      </td><td>WN      </td><td>54      </td><td>123     </td><td> 872    </td><td>425.3659</td></tr>\n",
       "\t<tr><td>2013    </td><td>5       </td><td>15      </td><td>WN      </td><td>15      </td><td>113     </td><td> 764    </td><td>405.6637</td></tr>\n",
       "\t<tr><td>2013    </td><td>5       </td><td>15      </td><td>WN      </td><td>47      </td><td>113     </td><td> 725    </td><td>384.9558</td></tr>\n",
       "\t<tr><td>2013    </td><td>5       </td><td>15      </td><td>WN      </td><td>56      </td><td>111     </td><td> 711    </td><td>384.3243</td></tr>\n",
       "\t<tr><td>2013    </td><td>5       </td><td>15      </td><td>WN      </td><td>19      </td><td>118     </td><td> 738    </td><td>375.2542</td></tr>\n",
       "\t<tr><td>2013    </td><td>5       </td><td>15      </td><td>WN      </td><td>77      </td><td>162     </td><td>1167    </td><td>432.2222</td></tr>\n",
       "\t<tr><td>2013    </td><td>5       </td><td>15      </td><td>WN      </td><td>13      </td><td>113     </td><td> 725    </td><td>384.9558</td></tr>\n",
       "\t<tr><td>2013    </td><td>5       </td><td>15      </td><td>WN      </td><td>49      </td><td>106     </td><td> 711    </td><td>402.4528</td></tr>\n",
       "\t<tr><td>2013    </td><td>5       </td><td>15      </td><td>YV      </td><td>62      </td><td> 48     </td><td> 229    </td><td>286.2500</td></tr>\n",
       "\t<tr><td>2013    </td><td>5       </td><td>15      </td><td>YV      </td><td>12      </td><td> 77     </td><td> 544    </td><td>423.8961</td></tr>\n",
       "</tbody>\n",
       "</table>\n"
      ],
      "text/latex": [
       "\\begin{tabular}{r|llllllll}\n",
       " year & month & day & carrier & dep\\_delay & air\\_time & distance & speed\\\\\n",
       "\\hline\n",
       "\t 2013     & 5        & 15       & 9E       & -10      &  91      &  569     & 375.1648\\\\\n",
       "\t 2013     & 5        & 15       & 9E       &  -9      &  69      &  340     & 295.6522\\\\\n",
       "\t 2013     & 5        & 15       & 9E       &  -1      &  87      &  509     & 351.0345\\\\\n",
       "\t 2013     & 5        & 15       & 9E       &  -8      & 161      & 1029     & 383.4783\\\\\n",
       "\t 2013     & 5        & 15       & 9E       &  -3      & 122      &  740     & 363.9344\\\\\n",
       "\t 2013     & 5        & 15       & 9E       &  -3      &  41      &  213     & 311.7073\\\\\n",
       "\t 2013     & 5        & 15       & 9E       &  -7      &  43      &  187     & 260.9302\\\\\n",
       "\t 2013     & 5        & 15       & 9E       & -13      &  99      &  659     & 399.3939\\\\\n",
       "\t 2013     & 5        & 15       & 9E       &  -6      &  35      &   94     & 161.1429\\\\\n",
       "\t 2013     & 5        & 15       & 9E       & -12      &  84      &  549     & 392.1429\\\\\n",
       "\t 2013     & 5        & 15       & 9E       & -10      &  82      &  488     & 357.0732\\\\\n",
       "\t 2013     & 5        & 15       & 9E       &  -4      &  42      &  187     & 267.1429\\\\\n",
       "\t 2013     & 5        & 15       & 9E       & -10      &  90      &  569     & 379.3333\\\\\n",
       "\t 2013     & 5        & 15       & 9E       &  -3      &  29      &   94     & 194.4828\\\\\n",
       "\t 2013     & 5        & 15       & 9E       &  -4      &  41      &  184     & 269.2683\\\\\n",
       "\t 2013     & 5        & 15       & 9E       &  -9      &  60      &  301     & 301.0000\\\\\n",
       "\t 2013     & 5        & 15       & 9E       &  -8      &  41      &  213     & 311.7073\\\\\n",
       "\t 2013     & 5        & 15       & 9E       &  -5      &  46      &  228     & 297.3913\\\\\n",
       "\t 2013     & 5        & 15       & 9E       &  11      &  43      &  187     & 260.9302\\\\\n",
       "\t 2013     & 5        & 15       & 9E       &  -3      & 201      & 1391     & 415.2239\\\\\n",
       "\t 2013     & 5        & 15       & 9E       &  -1      & 126      &  740     & 352.3810\\\\\n",
       "\t 2013     & 5        & 15       & 9E       &  -9      & 110      &  765     & 417.2727\\\\\n",
       "\t 2013     & 5        & 15       & 9E       &  -2      & 161      & 1029     & 383.4783\\\\\n",
       "\t 2013     & 5        & 15       & 9E       & -10      & 123      &  745     & 363.4146\\\\\n",
       "\t 2013     & 5        & 15       & 9E       &  -8      &  68      &  427     & 376.7647\\\\\n",
       "\t 2013     & 5        & 15       & 9E       &  68      &  93      &  665     & 429.0323\\\\\n",
       "\t 2013     & 5        & 15       & 9E       & -10      &  86      &  569     & 396.9767\\\\\n",
       "\t 2013     & 5        & 15       & 9E       &  73      &  45      &  187     & 249.3333\\\\\n",
       "\t 2013     & 5        & 15       & 9E       &  48      &  73      &  425     & 349.3151\\\\\n",
       "\t 2013     & 5        & 15       & 9E       &  63      & 100      &  589     & 353.4000\\\\\n",
       "\t ⋮ & ⋮ & ⋮ & ⋮ & ⋮ & ⋮ & ⋮ & ⋮\\\\\n",
       "\t 2013     & 5        & 15       & WN       & -1       & 215      & 1605     & 447.9070\\\\\n",
       "\t 2013     & 5        & 15       & WN       & -4       & 223      & 1620     & 435.8744\\\\\n",
       "\t 2013     & 5        & 15       & WN       & -1       & 112      &  711     & 380.8929\\\\\n",
       "\t 2013     & 5        & 15       & WN       & -4       & 214      & 1504     & 421.6822\\\\\n",
       "\t 2013     & 5        & 15       & WN       &  1       & 114      &  725     & 381.5789\\\\\n",
       "\t 2013     & 5        & 15       & WN       &  0       & 116      &  738     & 381.7241\\\\\n",
       "\t 2013     & 5        & 15       & WN       &  0       & 115      &  725     & 378.2609\\\\\n",
       "\t 2013     & 5        & 15       & WN       & -1       & 110      &  764     & 416.7273\\\\\n",
       "\t 2013     & 5        & 15       & WN       & -2       & 110      &  711     & 387.8182\\\\\n",
       "\t 2013     & 5        & 15       & WN       &  2       & 125      &  872     & 418.5600\\\\\n",
       "\t 2013     & 5        & 15       & WN       & -3       & 120      &  738     & 369.0000\\\\\n",
       "\t 2013     & 5        & 15       & WN       &  1       & 218      & 1620     & 445.8716\\\\\n",
       "\t 2013     & 5        & 15       & WN       & -3       & 198      & 1411     & 427.5758\\\\\n",
       "\t 2013     & 5        & 15       & WN       & -2       & 110      &  748     & 408.0000\\\\\n",
       "\t 2013     & 5        & 15       & WN       & 10       & 114      &  725     & 381.5789\\\\\n",
       "\t 2013     & 5        & 15       & WN       & 34       & 273      & 2133     & 468.7912\\\\\n",
       "\t 2013     & 5        & 15       & WN       & 33       & 110      &  711     & 387.8182\\\\\n",
       "\t 2013     & 5        & 15       & WN       & 64       & 234      & 1605     & 411.5385\\\\\n",
       "\t 2013     & 5        & 15       & WN       & 16       & 127      &  888     & 419.5276\\\\\n",
       "\t 2013     & 5        & 15       & WN       & 77       & 199      & 1411     & 425.4271\\\\\n",
       "\t 2013     & 5        & 15       & WN       & 54       & 123      &  872     & 425.3659\\\\\n",
       "\t 2013     & 5        & 15       & WN       & 15       & 113      &  764     & 405.6637\\\\\n",
       "\t 2013     & 5        & 15       & WN       & 47       & 113      &  725     & 384.9558\\\\\n",
       "\t 2013     & 5        & 15       & WN       & 56       & 111      &  711     & 384.3243\\\\\n",
       "\t 2013     & 5        & 15       & WN       & 19       & 118      &  738     & 375.2542\\\\\n",
       "\t 2013     & 5        & 15       & WN       & 77       & 162      & 1167     & 432.2222\\\\\n",
       "\t 2013     & 5        & 15       & WN       & 13       & 113      &  725     & 384.9558\\\\\n",
       "\t 2013     & 5        & 15       & WN       & 49       & 106      &  711     & 402.4528\\\\\n",
       "\t 2013     & 5        & 15       & YV       & 62       &  48      &  229     & 286.2500\\\\\n",
       "\t 2013     & 5        & 15       & YV       & 12       &  77      &  544     & 423.8961\\\\\n",
       "\\end{tabular}\n"
      ],
      "text/markdown": [
       "\n",
       "year | month | day | carrier | dep_delay | air_time | distance | speed | \n",
       "|---|---|---|---|---|---|---|---|---|---|---|---|---|---|---|---|---|---|---|---|---|---|---|---|---|---|---|---|---|---|---|---|---|---|---|---|---|---|---|---|---|---|---|---|---|---|---|---|---|---|---|---|---|---|---|---|---|---|---|---|---|\n",
       "| 2013     | 5        | 15       | 9E       | -10      |  91      |  569     | 375.1648 | \n",
       "| 2013     | 5        | 15       | 9E       |  -9      |  69      |  340     | 295.6522 | \n",
       "| 2013     | 5        | 15       | 9E       |  -1      |  87      |  509     | 351.0345 | \n",
       "| 2013     | 5        | 15       | 9E       |  -8      | 161      | 1029     | 383.4783 | \n",
       "| 2013     | 5        | 15       | 9E       |  -3      | 122      |  740     | 363.9344 | \n",
       "| 2013     | 5        | 15       | 9E       |  -3      |  41      |  213     | 311.7073 | \n",
       "| 2013     | 5        | 15       | 9E       |  -7      |  43      |  187     | 260.9302 | \n",
       "| 2013     | 5        | 15       | 9E       | -13      |  99      |  659     | 399.3939 | \n",
       "| 2013     | 5        | 15       | 9E       |  -6      |  35      |   94     | 161.1429 | \n",
       "| 2013     | 5        | 15       | 9E       | -12      |  84      |  549     | 392.1429 | \n",
       "| 2013     | 5        | 15       | 9E       | -10      |  82      |  488     | 357.0732 | \n",
       "| 2013     | 5        | 15       | 9E       |  -4      |  42      |  187     | 267.1429 | \n",
       "| 2013     | 5        | 15       | 9E       | -10      |  90      |  569     | 379.3333 | \n",
       "| 2013     | 5        | 15       | 9E       |  -3      |  29      |   94     | 194.4828 | \n",
       "| 2013     | 5        | 15       | 9E       |  -4      |  41      |  184     | 269.2683 | \n",
       "| 2013     | 5        | 15       | 9E       |  -9      |  60      |  301     | 301.0000 | \n",
       "| 2013     | 5        | 15       | 9E       |  -8      |  41      |  213     | 311.7073 | \n",
       "| 2013     | 5        | 15       | 9E       |  -5      |  46      |  228     | 297.3913 | \n",
       "| 2013     | 5        | 15       | 9E       |  11      |  43      |  187     | 260.9302 | \n",
       "| 2013     | 5        | 15       | 9E       |  -3      | 201      | 1391     | 415.2239 | \n",
       "| 2013     | 5        | 15       | 9E       |  -1      | 126      |  740     | 352.3810 | \n",
       "| 2013     | 5        | 15       | 9E       |  -9      | 110      |  765     | 417.2727 | \n",
       "| 2013     | 5        | 15       | 9E       |  -2      | 161      | 1029     | 383.4783 | \n",
       "| 2013     | 5        | 15       | 9E       | -10      | 123      |  745     | 363.4146 | \n",
       "| 2013     | 5        | 15       | 9E       |  -8      |  68      |  427     | 376.7647 | \n",
       "| 2013     | 5        | 15       | 9E       |  68      |  93      |  665     | 429.0323 | \n",
       "| 2013     | 5        | 15       | 9E       | -10      |  86      |  569     | 396.9767 | \n",
       "| 2013     | 5        | 15       | 9E       |  73      |  45      |  187     | 249.3333 | \n",
       "| 2013     | 5        | 15       | 9E       |  48      |  73      |  425     | 349.3151 | \n",
       "| 2013     | 5        | 15       | 9E       |  63      | 100      |  589     | 353.4000 | \n",
       "| ⋮ | ⋮ | ⋮ | ⋮ | ⋮ | ⋮ | ⋮ | ⋮ | \n",
       "| 2013     | 5        | 15       | WN       | -1       | 215      | 1605     | 447.9070 | \n",
       "| 2013     | 5        | 15       | WN       | -4       | 223      | 1620     | 435.8744 | \n",
       "| 2013     | 5        | 15       | WN       | -1       | 112      |  711     | 380.8929 | \n",
       "| 2013     | 5        | 15       | WN       | -4       | 214      | 1504     | 421.6822 | \n",
       "| 2013     | 5        | 15       | WN       |  1       | 114      |  725     | 381.5789 | \n",
       "| 2013     | 5        | 15       | WN       |  0       | 116      |  738     | 381.7241 | \n",
       "| 2013     | 5        | 15       | WN       |  0       | 115      |  725     | 378.2609 | \n",
       "| 2013     | 5        | 15       | WN       | -1       | 110      |  764     | 416.7273 | \n",
       "| 2013     | 5        | 15       | WN       | -2       | 110      |  711     | 387.8182 | \n",
       "| 2013     | 5        | 15       | WN       |  2       | 125      |  872     | 418.5600 | \n",
       "| 2013     | 5        | 15       | WN       | -3       | 120      |  738     | 369.0000 | \n",
       "| 2013     | 5        | 15       | WN       |  1       | 218      | 1620     | 445.8716 | \n",
       "| 2013     | 5        | 15       | WN       | -3       | 198      | 1411     | 427.5758 | \n",
       "| 2013     | 5        | 15       | WN       | -2       | 110      |  748     | 408.0000 | \n",
       "| 2013     | 5        | 15       | WN       | 10       | 114      |  725     | 381.5789 | \n",
       "| 2013     | 5        | 15       | WN       | 34       | 273      | 2133     | 468.7912 | \n",
       "| 2013     | 5        | 15       | WN       | 33       | 110      |  711     | 387.8182 | \n",
       "| 2013     | 5        | 15       | WN       | 64       | 234      | 1605     | 411.5385 | \n",
       "| 2013     | 5        | 15       | WN       | 16       | 127      |  888     | 419.5276 | \n",
       "| 2013     | 5        | 15       | WN       | 77       | 199      | 1411     | 425.4271 | \n",
       "| 2013     | 5        | 15       | WN       | 54       | 123      |  872     | 425.3659 | \n",
       "| 2013     | 5        | 15       | WN       | 15       | 113      |  764     | 405.6637 | \n",
       "| 2013     | 5        | 15       | WN       | 47       | 113      |  725     | 384.9558 | \n",
       "| 2013     | 5        | 15       | WN       | 56       | 111      |  711     | 384.3243 | \n",
       "| 2013     | 5        | 15       | WN       | 19       | 118      |  738     | 375.2542 | \n",
       "| 2013     | 5        | 15       | WN       | 77       | 162      | 1167     | 432.2222 | \n",
       "| 2013     | 5        | 15       | WN       | 13       | 113      |  725     | 384.9558 | \n",
       "| 2013     | 5        | 15       | WN       | 49       | 106      |  711     | 402.4528 | \n",
       "| 2013     | 5        | 15       | YV       | 62       |  48      |  229     | 286.2500 | \n",
       "| 2013     | 5        | 15       | YV       | 12       |  77      |  544     | 423.8961 | \n",
       "\n",
       "\n"
      ],
      "text/plain": [
       "    year month day carrier dep_delay air_time distance speed   \n",
       "1   2013 5     15  9E      -10        91       569     375.1648\n",
       "2   2013 5     15  9E       -9        69       340     295.6522\n",
       "3   2013 5     15  9E       -1        87       509     351.0345\n",
       "4   2013 5     15  9E       -8       161      1029     383.4783\n",
       "5   2013 5     15  9E       -3       122       740     363.9344\n",
       "6   2013 5     15  9E       -3        41       213     311.7073\n",
       "7   2013 5     15  9E       -7        43       187     260.9302\n",
       "8   2013 5     15  9E      -13        99       659     399.3939\n",
       "9   2013 5     15  9E       -6        35        94     161.1429\n",
       "10  2013 5     15  9E      -12        84       549     392.1429\n",
       "11  2013 5     15  9E      -10        82       488     357.0732\n",
       "12  2013 5     15  9E       -4        42       187     267.1429\n",
       "13  2013 5     15  9E      -10        90       569     379.3333\n",
       "14  2013 5     15  9E       -3        29        94     194.4828\n",
       "15  2013 5     15  9E       -4        41       184     269.2683\n",
       "16  2013 5     15  9E       -9        60       301     301.0000\n",
       "17  2013 5     15  9E       -8        41       213     311.7073\n",
       "18  2013 5     15  9E       -5        46       228     297.3913\n",
       "19  2013 5     15  9E       11        43       187     260.9302\n",
       "20  2013 5     15  9E       -3       201      1391     415.2239\n",
       "21  2013 5     15  9E       -1       126       740     352.3810\n",
       "22  2013 5     15  9E       -9       110       765     417.2727\n",
       "23  2013 5     15  9E       -2       161      1029     383.4783\n",
       "24  2013 5     15  9E      -10       123       745     363.4146\n",
       "25  2013 5     15  9E       -8        68       427     376.7647\n",
       "26  2013 5     15  9E       68        93       665     429.0323\n",
       "27  2013 5     15  9E      -10        86       569     396.9767\n",
       "28  2013 5     15  9E       73        45       187     249.3333\n",
       "29  2013 5     15  9E       48        73       425     349.3151\n",
       "30  2013 5     15  9E       63       100       589     353.4000\n",
       "⋮   ⋮    ⋮     ⋮   ⋮       ⋮         ⋮        ⋮        ⋮       \n",
       "938 2013 5     15  WN      -1        215      1605     447.9070\n",
       "939 2013 5     15  WN      -4        223      1620     435.8744\n",
       "940 2013 5     15  WN      -1        112       711     380.8929\n",
       "941 2013 5     15  WN      -4        214      1504     421.6822\n",
       "942 2013 5     15  WN       1        114       725     381.5789\n",
       "943 2013 5     15  WN       0        116       738     381.7241\n",
       "944 2013 5     15  WN       0        115       725     378.2609\n",
       "945 2013 5     15  WN      -1        110       764     416.7273\n",
       "946 2013 5     15  WN      -2        110       711     387.8182\n",
       "947 2013 5     15  WN       2        125       872     418.5600\n",
       "948 2013 5     15  WN      -3        120       738     369.0000\n",
       "949 2013 5     15  WN       1        218      1620     445.8716\n",
       "950 2013 5     15  WN      -3        198      1411     427.5758\n",
       "951 2013 5     15  WN      -2        110       748     408.0000\n",
       "952 2013 5     15  WN      10        114       725     381.5789\n",
       "953 2013 5     15  WN      34        273      2133     468.7912\n",
       "954 2013 5     15  WN      33        110       711     387.8182\n",
       "955 2013 5     15  WN      64        234      1605     411.5385\n",
       "956 2013 5     15  WN      16        127       888     419.5276\n",
       "957 2013 5     15  WN      77        199      1411     425.4271\n",
       "958 2013 5     15  WN      54        123       872     425.3659\n",
       "959 2013 5     15  WN      15        113       764     405.6637\n",
       "960 2013 5     15  WN      47        113       725     384.9558\n",
       "961 2013 5     15  WN      56        111       711     384.3243\n",
       "962 2013 5     15  WN      19        118       738     375.2542\n",
       "963 2013 5     15  WN      77        162      1167     432.2222\n",
       "964 2013 5     15  WN      13        113       725     384.9558\n",
       "965 2013 5     15  WN      49        106       711     402.4528\n",
       "966 2013 5     15  YV      62         48       229     286.2500\n",
       "967 2013 5     15  YV      12         77       544     423.8961"
      ]
     },
     "metadata": {},
     "output_type": "display_data"
    }
   ],
   "source": [
    "collect(c4)"
   ]
  },
  {
   "cell_type": "code",
   "execution_count": 14,
   "metadata": {
    "collapsed": false
   },
   "outputs": [
    {
     "data": {
      "text/plain": [
       "NULL"
      ]
     },
     "metadata": {},
     "output_type": "display_data"
    }
   ],
   "source": [
    "c4$query"
   ]
  },
  {
   "cell_type": "code",
   "execution_count": 15,
   "metadata": {
    "collapsed": false
   },
   "outputs": [
    {
     "name": "stderr",
     "output_type": "stream",
     "text": [
      "<SQL>\n",
      "SELECT *\n",
      "FROM (SELECT `year`, `month`, `day`, `carrier`, `dep_delay`, `air_time`, `distance`, `distance` / `air_time` * 60.0 AS `speed`\n",
      "FROM (SELECT `year` AS `year`, `month` AS `month`, `day` AS `day`, `carrier` AS `carrier`, `dep_delay` AS `dep_delay`, `air_time` AS `air_time`, `distance` AS `distance`\n",
      "FROM (SELECT *\n",
      "FROM `flights`\n",
      "WHERE ((`year` = 2013.0) AND (`month` = 5.0) AND (`day` = 15.0)))))\n",
      "ORDER BY `year`, `month`, `day`, `carrier`\n",
      "\n",
      "\n",
      "<PLAN>\n",
      "   addr       opcode p1    p2 p3           p4 p5 comment\n",
      "1     0         Init  0    56  0              00      NA\n",
      "2     1   SorterOpen  4     9  0       k(1,B) 00      NA\n",
      "3     2     OpenRead  3   100  0           19 00      NA\n",
      "4     3     OpenRead  5 22625  0     k(4,,,,) 02      NA\n",
      "5     4         Real  0     1  0         2013 00      NA\n",
      "6     5         Real  0     2  0            5 00      NA\n",
      "7     6         Real  0     3  0           15 00      NA\n",
      "8     7     Affinity  1     3  0          DDD 00      NA\n",
      "9     8       SeekGE  5    36  1            3 00      NA\n",
      "10    9        IdxGT  5    36  1            3 00      NA\n",
      "11   10         Seek  5     0  3              00      NA\n",
      "12   11       Column  5     0  8              00      NA\n",
      "13   12       Column  5     1  9              00      NA\n",
      "14   13       Column  5     2 10              00      NA\n",
      "15   14       Column  3     9 11              00      NA\n",
      "16   15       Column  3     5 12              00      NA\n",
      "17   16 RealAffinity 12     0  0              00      NA\n",
      "18   17       Column  3    14 13              00      NA\n",
      "19   18 RealAffinity 13     0  0              00      NA\n",
      "20   19       Column  3    15 14              00      NA\n",
      "21   20 RealAffinity 14     0  0              00      NA\n",
      "22   21       Divide 13    14 16              00      NA\n",
      "23   22     Multiply 18    16 15              00      NA\n",
      "24   23         Copy  8     4  0              00      NA\n",
      "25   24         Copy  9     5  0              00      NA\n",
      "26   25         Copy 10     6  0              00      NA\n",
      "27   26         Copy 11     7  0              00      NA\n",
      "28   27   MakeRecord  7     9 19              00      NA\n",
      "29   28 SequenceTest  4    33  0              00      NA\n",
      "30   29      Compare 20     4  3 k(4,B,B,B,B) 00      NA\n",
      "31   30         Jump 31    34 31              00      NA\n",
      "32   31        Gosub 23    40  0              00      NA\n",
      "33   32  ResetSorter  4     0  0              00      NA\n",
      "34   33         Move  4    20  3              00      NA\n",
      "35   34 SorterInsert  4    19  0              00      NA\n",
      "36   35         Next  5     9  1              00      NA\n",
      "37   36        Close  3     0  0              00      NA\n",
      "38   37        Close  5     0  0              00      NA\n",
      "39   38        Gosub 23    40  0              00      NA\n",
      "40   39         Goto  0    55  0              00      NA\n",
      "41   40         Once  0    42  0              00      NA\n",
      "42   41   OpenPseudo  6    24 10              00      NA\n",
      "43   42   SorterSort  4    55  0              00      NA\n",
      "44   43   SorterData  4    24  6              00      NA\n",
      "45   44       Column  6     1  8              00      NA\n",
      "46   45       Column  6     2  9              00      NA\n",
      "47   46       Column  6     3 10              00      NA\n",
      "48   47       Column  6     4 11              00      NA\n",
      "49   48       Column  6     5 12              00      NA\n",
      "50   49       Column  6     6 13              00      NA\n",
      "51   50       Column  6     7 14              00      NA\n",
      "52   51       Column  6     8 15              00      NA\n",
      "53   52    ResultRow  8     8  0              00      NA\n",
      "54   53   SorterNext  4    43  0              00      NA\n",
      "55   54       Return 23     0  0              00      NA\n",
      "56   55         Halt  0     0  0              00      NA\n",
      "57   56  Transaction  0     0 16            0 01      NA\n",
      "58   57    TableLock  0   100  0      flights 00      NA\n",
      "59   58         Real  0    18  0           60 00      NA\n",
      "60   59         Goto  0     1  0              00      NA\n"
     ]
    }
   ],
   "source": [
    "explain(c4) "
   ]
  },
  {
   "cell_type": "code",
   "execution_count": 16,
   "metadata": {
    "collapsed": false
   },
   "outputs": [
    {
     "data": {
      "text/html": [
       "'\"x\"'"
      ],
      "text/latex": [
       "'\"x\"'"
      ],
      "text/markdown": [
       "'\"x\"'"
      ],
      "text/plain": [
       "<SQL> \"x\""
      ]
     },
     "metadata": {},
     "output_type": "display_data"
    },
    {
     "data": {
      "text/html": [
       "'\\'x''"
      ],
      "text/latex": [
       "'\\textbackslash{}'x''"
      ],
      "text/markdown": [
       "'\\'x''"
      ],
      "text/plain": [
       "<SQL> 'x'"
      ]
     },
     "metadata": {},
     "output_type": "display_data"
    },
    {
     "data": {
      "text/html": [
       "'\"x\" = 1.0 AND (\"y\" &lt; 2.0 OR \"z\" &gt; 3.0)'"
      ],
      "text/latex": [
       "'\"x\" = 1.0 AND (\"y\" < 2.0 OR \"z\" > 3.0)'"
      ],
      "text/markdown": [
       "'\"x\" = 1.0 AND (\"y\" &lt; 2.0 OR \"z\" &gt; 3.0)'"
      ],
      "text/plain": [
       "<SQL> \"x\" = 1.0 AND (\"y\" < 2.0 OR \"z\" > 3.0)"
      ]
     },
     "metadata": {},
     "output_type": "display_data"
    },
    {
     "data": {
      "text/html": [
       "'POWER(\"x\", 2.0) &lt; 10.0'"
      ],
      "text/latex": [
       "'POWER(\"x\", 2.0) < 10.0'"
      ],
      "text/markdown": [
       "'POWER(\"x\", 2.0) &lt; 10.0'"
      ],
      "text/plain": [
       "<SQL> POWER(\"x\", 2.0) < 10.0"
      ]
     },
     "metadata": {},
     "output_type": "display_data"
    }
   ],
   "source": [
    "translate_sql(x)\n",
    "translate_sql(\"x\")\n",
    "translate_sql(x == 1 && (y < 2 || z > 3))\n",
    "translate_sql(x ^ 2 < 10)"
   ]
  },
  {
   "cell_type": "code",
   "execution_count": 17,
   "metadata": {
    "collapsed": false
   },
   "outputs": [
    {
     "data": {
      "text/html": [
       "'\"x\" % 2.0 = 10.0'"
      ],
      "text/latex": [
       "'\"x\" \\% 2.0 = 10.0'"
      ],
      "text/markdown": [
       "'\"x\" % 2.0 = 10.0'"
      ],
      "text/plain": [
       "<SQL> \"x\" % 2.0 = 10.0"
      ]
     },
     "metadata": {},
     "output_type": "display_data"
    },
    {
     "data": {
      "text/html": [
       "'1.0'"
      ],
      "text/latex": [
       "'1.0'"
      ],
      "text/markdown": [
       "'1.0'"
      ],
      "text/plain": [
       "<SQL> 1.0"
      ]
     },
     "metadata": {},
     "output_type": "display_data"
    },
    {
     "data": {
      "text/html": [
       "'1'"
      ],
      "text/latex": [
       "'1'"
      ],
      "text/markdown": [
       "'1'"
      ],
      "text/plain": [
       "<SQL> 1"
      ]
     },
     "metadata": {},
     "output_type": "display_data"
    }
   ],
   "source": [
    "translate_sql(x %% 2 == 10)\n",
    "translate_sql(1)\n",
    "translate_sql(1L)"
   ]
  },
  {
   "cell_type": "code",
   "execution_count": 18,
   "metadata": {
    "collapsed": false
   },
   "outputs": [
    {
     "data": {
      "text/html": [
       "'GLOB(\"x\", \"y\")'"
      ],
      "text/latex": [
       "'GLOB(\"x\", \"y\")'"
      ],
      "text/markdown": [
       "'GLOB(\"x\", \"y\")'"
      ],
      "text/plain": [
       "<SQL> GLOB(\"x\", \"y\")"
      ]
     },
     "metadata": {},
     "output_type": "display_data"
    },
    {
     "data": {
      "text/html": [
       "'\"x\" LIKE \\'ab*''"
      ],
      "text/latex": [
       "'\"x\" LIKE \\textbackslash{}'ab*''"
      ],
      "text/markdown": [
       "'\"x\" LIKE \\'ab*''"
      ],
      "text/plain": [
       "<SQL> \"x\" LIKE 'ab*'"
      ]
     },
     "metadata": {},
     "output_type": "display_data"
    }
   ],
   "source": [
    "translate_sql(glob(x, y))\n",
    "translate_sql(x %like% \"ab*\")"
   ]
  },
  {
   "cell_type": "code",
   "execution_count": 19,
   "metadata": {
    "collapsed": false
   },
   "outputs": [],
   "source": [
    "by_tailnum <- group_by(flights_sqlite, tailnum)\n",
    "delay <- summarise(by_tailnum,\n",
    "  count = n(),\n",
    "  dist = mean(distance),\n",
    "  delay = mean(arr_delay)\n",
    ")\n",
    "delay <- filter(delay, count > 20, dist < 2000)\n",
    "delay_local <- collect(delay)"
   ]
  },
  {
   "cell_type": "code",
   "execution_count": 20,
   "metadata": {
    "collapsed": false
   },
   "outputs": [
    {
     "data": {
      "text/plain": [
       "Source:   query [?? x 19]\n",
       "Database: sqlite 3.11.1 [/tmp/RtmpJZUcZp/nycflights13.sqlite]\n",
       "Groups: tailnum\n",
       "\n",
       "    year month   day dep_time sched_dep_time dep_delay arr_time sched_arr_time\n",
       "   <int> <int> <int>    <int>          <int>     <dbl>    <int>          <int>\n",
       "1   2013     1     1      517            515         2      830            819\n",
       "2   2013     1     1      533            529         4      850            830\n",
       "3   2013     1     1      542            540         2      923            850\n",
       "4   2013     1     1      544            545        -1     1004           1022\n",
       "5   2013     1     1      554            600        -6      812            837\n",
       "6   2013     1     1      554            558        -4      740            728\n",
       "7   2013     1     1      555            600        -5      913            854\n",
       "8   2013     1     1      557            600        -3      709            723\n",
       "9   2013     1     1      557            600        -3      838            846\n",
       "10  2013     1     1      558            600        -2      753            745\n",
       "# ... with more rows, and 11 more variables: arr_delay <dbl>, carrier <chr>,\n",
       "#   flight <int>, tailnum <chr>, origin <chr>, dest <chr>, air_time <dbl>,\n",
       "#   distance <dbl>, hour <dbl>, minute <dbl>, time_hour <dbl>"
      ]
     },
     "metadata": {},
     "output_type": "display_data"
    }
   ],
   "source": [
    "by_tailnum"
   ]
  },
  {
   "cell_type": "code",
   "execution_count": 21,
   "metadata": {
    "collapsed": false
   },
   "outputs": [
    {
     "data": {
      "text/plain": [
       "Source:   query [?? x 4]\n",
       "Database: sqlite 3.11.1 [/tmp/RtmpJZUcZp/nycflights13.sqlite]\n",
       "\n",
       "   tailnum count     dist      delay\n",
       "     <chr> <int>    <dbl>      <dbl>\n",
       "1     <NA>  2512 710.2576         NA\n",
       "2   N0EGMQ   371 676.1887  9.9829545\n",
       "3   N10156   153 757.9477 12.7172414\n",
       "4   N102UW    48 535.8750  2.9375000\n",
       "5   N103US    46 535.1957 -6.9347826\n",
       "6   N104UW    47 535.2553  1.8043478\n",
       "7   N10575   289 519.7024 20.6914498\n",
       "8   N105UW    45 524.8444 -0.2666667\n",
       "9   N107US    41 528.7073 -5.7317073\n",
       "10  N108UW    60 534.5000 -1.2500000\n",
       "# ... with more rows"
      ]
     },
     "metadata": {},
     "output_type": "display_data"
    }
   ],
   "source": [
    "delay"
   ]
  },
  {
   "cell_type": "code",
   "execution_count": 22,
   "metadata": {
    "collapsed": false
   },
   "outputs": [
    {
     "data": {
      "text/html": [
       "<table>\n",
       "<thead><tr><th scope=col>tailnum</th><th scope=col>count</th><th scope=col>dist</th><th scope=col>delay</th></tr></thead>\n",
       "<tbody>\n",
       "\t<tr><td>NA        </td><td>2512      </td><td>710.2576  </td><td>        NA</td></tr>\n",
       "\t<tr><td>N0EGMQ    </td><td> 371      </td><td>676.1887  </td><td> 9.9829545</td></tr>\n",
       "\t<tr><td>N10156    </td><td> 153      </td><td>757.9477  </td><td>12.7172414</td></tr>\n",
       "\t<tr><td>N102UW    </td><td>  48      </td><td>535.8750  </td><td> 2.9375000</td></tr>\n",
       "\t<tr><td>N103US    </td><td>  46      </td><td>535.1957  </td><td>-6.9347826</td></tr>\n",
       "\t<tr><td>N104UW    </td><td>  47      </td><td>535.2553  </td><td> 1.8043478</td></tr>\n",
       "\t<tr><td>N10575    </td><td> 289      </td><td>519.7024  </td><td>20.6914498</td></tr>\n",
       "\t<tr><td>N105UW    </td><td>  45      </td><td>524.8444  </td><td>-0.2666667</td></tr>\n",
       "\t<tr><td>N107US    </td><td>  41      </td><td>528.7073  </td><td>-5.7317073</td></tr>\n",
       "\t<tr><td>N108UW    </td><td>  60      </td><td>534.5000  </td><td>-1.2500000</td></tr>\n",
       "\t<tr><td>N109UW    </td><td>  48      </td><td>535.8750  </td><td>-2.5208333</td></tr>\n",
       "\t<tr><td>N110UW    </td><td>  40      </td><td>535.3750  </td><td> 2.8000000</td></tr>\n",
       "\t<tr><td>N11106    </td><td> 129      </td><td>771.4109  </td><td>14.8809524</td></tr>\n",
       "\t<tr><td>N11107    </td><td> 148      </td><td>705.8649  </td><td>15.0143885</td></tr>\n",
       "\t<tr><td>N11109    </td><td> 148      </td><td>714.0000  </td><td>14.8510638</td></tr>\n",
       "\t<tr><td>N11113    </td><td> 138      </td><td>719.7754  </td><td>15.7619048</td></tr>\n",
       "\t<tr><td>N11119    </td><td> 148      </td><td>723.3851  </td><td>30.3065693</td></tr>\n",
       "\t<tr><td>N11121    </td><td> 154      </td><td>719.3701  </td><td>10.3061224</td></tr>\n",
       "\t<tr><td>N11127    </td><td> 124      </td><td>748.1129  </td><td>13.6050420</td></tr>\n",
       "\t<tr><td>N11137    </td><td> 112      </td><td>726.5982  </td><td>20.5514019</td></tr>\n",
       "\t<tr><td>N11140    </td><td> 157      </td><td>747.2102  </td><td>18.3120567</td></tr>\n",
       "\t<tr><td>N11150    </td><td> 136      </td><td>775.5588  </td><td> 8.8914729</td></tr>\n",
       "\t<tr><td>N11155    </td><td>  98      </td><td>779.1224  </td><td>12.9895833</td></tr>\n",
       "\t<tr><td>N11164    </td><td> 143      </td><td>677.4476  </td><td>21.6496350</td></tr>\n",
       "\t<tr><td>N11165    </td><td> 159      </td><td>752.8805  </td><td> 8.3466667</td></tr>\n",
       "\t<tr><td>N11176    </td><td> 142      </td><td>729.0704  </td><td>20.4045802</td></tr>\n",
       "\t<tr><td>N11181    </td><td> 125      </td><td>705.4160  </td><td> 9.0750000</td></tr>\n",
       "\t<tr><td>N11184    </td><td> 136      </td><td>744.0515  </td><td> 6.9843750</td></tr>\n",
       "\t<tr><td>N11187    </td><td> 133      </td><td>733.8872  </td><td>11.1904762</td></tr>\n",
       "\t<tr><td>N11189    </td><td> 140      </td><td>684.2714  </td><td> 6.7372263</td></tr>\n",
       "\t<tr><td>⋮</td><td>⋮</td><td>⋮</td><td>⋮</td></tr>\n",
       "\t<tr><td>N984DL    </td><td> 58       </td><td>904.7414  </td><td> 4.2280702</td></tr>\n",
       "\t<tr><td>N985AT    </td><td> 29       </td><td>647.8966  </td><td>15.0384615</td></tr>\n",
       "\t<tr><td>N985DL    </td><td> 63       </td><td>905.1111  </td><td> 0.2539683</td></tr>\n",
       "\t<tr><td>N986AT    </td><td> 24       </td><td>654.5417  </td><td> 0.1250000</td></tr>\n",
       "\t<tr><td>N986DL    </td><td> 73       </td><td>943.7808  </td><td> 5.5833333</td></tr>\n",
       "\t<tr><td>N987AT    </td><td> 28       </td><td>618.6071  </td><td>37.3846154</td></tr>\n",
       "\t<tr><td>N987DL    </td><td> 55       </td><td>922.8727  </td><td>-3.2909091</td></tr>\n",
       "\t<tr><td>N988AT    </td><td> 37       </td><td>642.9730  </td><td>44.3428571</td></tr>\n",
       "\t<tr><td>N988DL    </td><td> 55       </td><td>864.2000  </td><td> 9.4716981</td></tr>\n",
       "\t<tr><td>N989AT    </td><td> 66       </td><td>694.8182  </td><td>28.1935484</td></tr>\n",
       "\t<tr><td>N989DL    </td><td> 89       </td><td>908.6854  </td><td>11.0340909</td></tr>\n",
       "\t<tr><td>N990AT    </td><td> 71       </td><td>731.6056  </td><td>16.3857143</td></tr>\n",
       "\t<tr><td>N990DL    </td><td> 56       </td><td>863.0357  </td><td>12.4285714</td></tr>\n",
       "\t<tr><td>N991AT    </td><td> 25       </td><td>659.8000  </td><td>15.6800000</td></tr>\n",
       "\t<tr><td>N991DL    </td><td> 92       </td><td>902.9239  </td><td> 7.3369565</td></tr>\n",
       "\t<tr><td>N992AT    </td><td> 38       </td><td>637.1316  </td><td>17.7837838</td></tr>\n",
       "\t<tr><td>N992DL    </td><td> 57       </td><td>902.7544  </td><td>-6.6491228</td></tr>\n",
       "\t<tr><td>N993AT    </td><td> 47       </td><td>606.6809  </td><td>10.4042553</td></tr>\n",
       "\t<tr><td>N993DL    </td><td> 55       </td><td>884.9091  </td><td>16.9811321</td></tr>\n",
       "\t<tr><td>N994AT    </td><td> 31       </td><td>698.4839  </td><td>31.4838710</td></tr>\n",
       "\t<tr><td>N994DL    </td><td> 61       </td><td>886.7869  </td><td> 5.0327869</td></tr>\n",
       "\t<tr><td>N995DL    </td><td> 57       </td><td>883.5789  </td><td> 1.9298246</td></tr>\n",
       "\t<tr><td>N996AT    </td><td> 29       </td><td>673.8966  </td><td> 6.5384615</td></tr>\n",
       "\t<tr><td>N996DL    </td><td>102       </td><td>897.3039  </td><td> 0.5247525</td></tr>\n",
       "\t<tr><td>N997AT    </td><td> 44       </td><td>679.0455  </td><td>16.3023256</td></tr>\n",
       "\t<tr><td>N997DL    </td><td> 63       </td><td>867.7619  </td><td> 4.9032258</td></tr>\n",
       "\t<tr><td>N998AT    </td><td> 26       </td><td>593.5385  </td><td>29.9600000</td></tr>\n",
       "\t<tr><td>N998DL    </td><td> 77       </td><td>857.8182  </td><td>16.3947368</td></tr>\n",
       "\t<tr><td>N999DN    </td><td> 61       </td><td>895.4590  </td><td>14.3114754</td></tr>\n",
       "\t<tr><td>N9EAMQ    </td><td>248       </td><td>674.6653  </td><td> 9.2352941</td></tr>\n",
       "</tbody>\n",
       "</table>\n"
      ],
      "text/latex": [
       "\\begin{tabular}{r|llll}\n",
       " tailnum & count & dist & delay\\\\\n",
       "\\hline\n",
       "\t NA         & 2512       & 710.2576   &         NA\\\\\n",
       "\t N0EGMQ     &  371       & 676.1887   &  9.9829545\\\\\n",
       "\t N10156     &  153       & 757.9477   & 12.7172414\\\\\n",
       "\t N102UW     &   48       & 535.8750   &  2.9375000\\\\\n",
       "\t N103US     &   46       & 535.1957   & -6.9347826\\\\\n",
       "\t N104UW     &   47       & 535.2553   &  1.8043478\\\\\n",
       "\t N10575     &  289       & 519.7024   & 20.6914498\\\\\n",
       "\t N105UW     &   45       & 524.8444   & -0.2666667\\\\\n",
       "\t N107US     &   41       & 528.7073   & -5.7317073\\\\\n",
       "\t N108UW     &   60       & 534.5000   & -1.2500000\\\\\n",
       "\t N109UW     &   48       & 535.8750   & -2.5208333\\\\\n",
       "\t N110UW     &   40       & 535.3750   &  2.8000000\\\\\n",
       "\t N11106     &  129       & 771.4109   & 14.8809524\\\\\n",
       "\t N11107     &  148       & 705.8649   & 15.0143885\\\\\n",
       "\t N11109     &  148       & 714.0000   & 14.8510638\\\\\n",
       "\t N11113     &  138       & 719.7754   & 15.7619048\\\\\n",
       "\t N11119     &  148       & 723.3851   & 30.3065693\\\\\n",
       "\t N11121     &  154       & 719.3701   & 10.3061224\\\\\n",
       "\t N11127     &  124       & 748.1129   & 13.6050420\\\\\n",
       "\t N11137     &  112       & 726.5982   & 20.5514019\\\\\n",
       "\t N11140     &  157       & 747.2102   & 18.3120567\\\\\n",
       "\t N11150     &  136       & 775.5588   &  8.8914729\\\\\n",
       "\t N11155     &   98       & 779.1224   & 12.9895833\\\\\n",
       "\t N11164     &  143       & 677.4476   & 21.6496350\\\\\n",
       "\t N11165     &  159       & 752.8805   &  8.3466667\\\\\n",
       "\t N11176     &  142       & 729.0704   & 20.4045802\\\\\n",
       "\t N11181     &  125       & 705.4160   &  9.0750000\\\\\n",
       "\t N11184     &  136       & 744.0515   &  6.9843750\\\\\n",
       "\t N11187     &  133       & 733.8872   & 11.1904762\\\\\n",
       "\t N11189     &  140       & 684.2714   &  6.7372263\\\\\n",
       "\t ⋮ & ⋮ & ⋮ & ⋮\\\\\n",
       "\t N984DL     &  58        & 904.7414   &  4.2280702\\\\\n",
       "\t N985AT     &  29        & 647.8966   & 15.0384615\\\\\n",
       "\t N985DL     &  63        & 905.1111   &  0.2539683\\\\\n",
       "\t N986AT     &  24        & 654.5417   &  0.1250000\\\\\n",
       "\t N986DL     &  73        & 943.7808   &  5.5833333\\\\\n",
       "\t N987AT     &  28        & 618.6071   & 37.3846154\\\\\n",
       "\t N987DL     &  55        & 922.8727   & -3.2909091\\\\\n",
       "\t N988AT     &  37        & 642.9730   & 44.3428571\\\\\n",
       "\t N988DL     &  55        & 864.2000   &  9.4716981\\\\\n",
       "\t N989AT     &  66        & 694.8182   & 28.1935484\\\\\n",
       "\t N989DL     &  89        & 908.6854   & 11.0340909\\\\\n",
       "\t N990AT     &  71        & 731.6056   & 16.3857143\\\\\n",
       "\t N990DL     &  56        & 863.0357   & 12.4285714\\\\\n",
       "\t N991AT     &  25        & 659.8000   & 15.6800000\\\\\n",
       "\t N991DL     &  92        & 902.9239   &  7.3369565\\\\\n",
       "\t N992AT     &  38        & 637.1316   & 17.7837838\\\\\n",
       "\t N992DL     &  57        & 902.7544   & -6.6491228\\\\\n",
       "\t N993AT     &  47        & 606.6809   & 10.4042553\\\\\n",
       "\t N993DL     &  55        & 884.9091   & 16.9811321\\\\\n",
       "\t N994AT     &  31        & 698.4839   & 31.4838710\\\\\n",
       "\t N994DL     &  61        & 886.7869   &  5.0327869\\\\\n",
       "\t N995DL     &  57        & 883.5789   &  1.9298246\\\\\n",
       "\t N996AT     &  29        & 673.8966   &  6.5384615\\\\\n",
       "\t N996DL     & 102        & 897.3039   &  0.5247525\\\\\n",
       "\t N997AT     &  44        & 679.0455   & 16.3023256\\\\\n",
       "\t N997DL     &  63        & 867.7619   &  4.9032258\\\\\n",
       "\t N998AT     &  26        & 593.5385   & 29.9600000\\\\\n",
       "\t N998DL     &  77        & 857.8182   & 16.3947368\\\\\n",
       "\t N999DN     &  61        & 895.4590   & 14.3114754\\\\\n",
       "\t N9EAMQ     & 248        & 674.6653   &  9.2352941\\\\\n",
       "\\end{tabular}\n"
      ],
      "text/markdown": [
       "\n",
       "tailnum | count | dist | delay | \n",
       "|---|---|---|---|---|---|---|---|---|---|---|---|---|---|---|---|---|---|---|---|---|---|---|---|---|---|---|---|---|---|---|---|---|---|---|---|---|---|---|---|---|---|---|---|---|---|---|---|---|---|---|---|---|---|---|---|---|---|---|---|---|\n",
       "| NA         | 2512       | 710.2576   |         NA | \n",
       "| N0EGMQ     |  371       | 676.1887   |  9.9829545 | \n",
       "| N10156     |  153       | 757.9477   | 12.7172414 | \n",
       "| N102UW     |   48       | 535.8750   |  2.9375000 | \n",
       "| N103US     |   46       | 535.1957   | -6.9347826 | \n",
       "| N104UW     |   47       | 535.2553   |  1.8043478 | \n",
       "| N10575     |  289       | 519.7024   | 20.6914498 | \n",
       "| N105UW     |   45       | 524.8444   | -0.2666667 | \n",
       "| N107US     |   41       | 528.7073   | -5.7317073 | \n",
       "| N108UW     |   60       | 534.5000   | -1.2500000 | \n",
       "| N109UW     |   48       | 535.8750   | -2.5208333 | \n",
       "| N110UW     |   40       | 535.3750   |  2.8000000 | \n",
       "| N11106     |  129       | 771.4109   | 14.8809524 | \n",
       "| N11107     |  148       | 705.8649   | 15.0143885 | \n",
       "| N11109     |  148       | 714.0000   | 14.8510638 | \n",
       "| N11113     |  138       | 719.7754   | 15.7619048 | \n",
       "| N11119     |  148       | 723.3851   | 30.3065693 | \n",
       "| N11121     |  154       | 719.3701   | 10.3061224 | \n",
       "| N11127     |  124       | 748.1129   | 13.6050420 | \n",
       "| N11137     |  112       | 726.5982   | 20.5514019 | \n",
       "| N11140     |  157       | 747.2102   | 18.3120567 | \n",
       "| N11150     |  136       | 775.5588   |  8.8914729 | \n",
       "| N11155     |   98       | 779.1224   | 12.9895833 | \n",
       "| N11164     |  143       | 677.4476   | 21.6496350 | \n",
       "| N11165     |  159       | 752.8805   |  8.3466667 | \n",
       "| N11176     |  142       | 729.0704   | 20.4045802 | \n",
       "| N11181     |  125       | 705.4160   |  9.0750000 | \n",
       "| N11184     |  136       | 744.0515   |  6.9843750 | \n",
       "| N11187     |  133       | 733.8872   | 11.1904762 | \n",
       "| N11189     |  140       | 684.2714   |  6.7372263 | \n",
       "| ⋮ | ⋮ | ⋮ | ⋮ | \n",
       "| N984DL     |  58        | 904.7414   |  4.2280702 | \n",
       "| N985AT     |  29        | 647.8966   | 15.0384615 | \n",
       "| N985DL     |  63        | 905.1111   |  0.2539683 | \n",
       "| N986AT     |  24        | 654.5417   |  0.1250000 | \n",
       "| N986DL     |  73        | 943.7808   |  5.5833333 | \n",
       "| N987AT     |  28        | 618.6071   | 37.3846154 | \n",
       "| N987DL     |  55        | 922.8727   | -3.2909091 | \n",
       "| N988AT     |  37        | 642.9730   | 44.3428571 | \n",
       "| N988DL     |  55        | 864.2000   |  9.4716981 | \n",
       "| N989AT     |  66        | 694.8182   | 28.1935484 | \n",
       "| N989DL     |  89        | 908.6854   | 11.0340909 | \n",
       "| N990AT     |  71        | 731.6056   | 16.3857143 | \n",
       "| N990DL     |  56        | 863.0357   | 12.4285714 | \n",
       "| N991AT     |  25        | 659.8000   | 15.6800000 | \n",
       "| N991DL     |  92        | 902.9239   |  7.3369565 | \n",
       "| N992AT     |  38        | 637.1316   | 17.7837838 | \n",
       "| N992DL     |  57        | 902.7544   | -6.6491228 | \n",
       "| N993AT     |  47        | 606.6809   | 10.4042553 | \n",
       "| N993DL     |  55        | 884.9091   | 16.9811321 | \n",
       "| N994AT     |  31        | 698.4839   | 31.4838710 | \n",
       "| N994DL     |  61        | 886.7869   |  5.0327869 | \n",
       "| N995DL     |  57        | 883.5789   |  1.9298246 | \n",
       "| N996AT     |  29        | 673.8966   |  6.5384615 | \n",
       "| N996DL     | 102        | 897.3039   |  0.5247525 | \n",
       "| N997AT     |  44        | 679.0455   | 16.3023256 | \n",
       "| N997DL     |  63        | 867.7619   |  4.9032258 | \n",
       "| N998AT     |  26        | 593.5385   | 29.9600000 | \n",
       "| N998DL     |  77        | 857.8182   | 16.3947368 | \n",
       "| N999DN     |  61        | 895.4590   | 14.3114754 | \n",
       "| N9EAMQ     | 248        | 674.6653   |  9.2352941 | \n",
       "\n",
       "\n"
      ],
      "text/plain": [
       "     tailnum count dist     delay     \n",
       "1    NA      2512  710.2576         NA\n",
       "2    N0EGMQ   371  676.1887  9.9829545\n",
       "3    N10156   153  757.9477 12.7172414\n",
       "4    N102UW    48  535.8750  2.9375000\n",
       "5    N103US    46  535.1957 -6.9347826\n",
       "6    N104UW    47  535.2553  1.8043478\n",
       "7    N10575   289  519.7024 20.6914498\n",
       "8    N105UW    45  524.8444 -0.2666667\n",
       "9    N107US    41  528.7073 -5.7317073\n",
       "10   N108UW    60  534.5000 -1.2500000\n",
       "11   N109UW    48  535.8750 -2.5208333\n",
       "12   N110UW    40  535.3750  2.8000000\n",
       "13   N11106   129  771.4109 14.8809524\n",
       "14   N11107   148  705.8649 15.0143885\n",
       "15   N11109   148  714.0000 14.8510638\n",
       "16   N11113   138  719.7754 15.7619048\n",
       "17   N11119   148  723.3851 30.3065693\n",
       "18   N11121   154  719.3701 10.3061224\n",
       "19   N11127   124  748.1129 13.6050420\n",
       "20   N11137   112  726.5982 20.5514019\n",
       "21   N11140   157  747.2102 18.3120567\n",
       "22   N11150   136  775.5588  8.8914729\n",
       "23   N11155    98  779.1224 12.9895833\n",
       "24   N11164   143  677.4476 21.6496350\n",
       "25   N11165   159  752.8805  8.3466667\n",
       "26   N11176   142  729.0704 20.4045802\n",
       "27   N11181   125  705.4160  9.0750000\n",
       "28   N11184   136  744.0515  6.9843750\n",
       "29   N11187   133  733.8872 11.1904762\n",
       "30   N11189   140  684.2714  6.7372263\n",
       "⋮    ⋮       ⋮     ⋮        ⋮         \n",
       "2933 N984DL   58   904.7414  4.2280702\n",
       "2934 N985AT   29   647.8966 15.0384615\n",
       "2935 N985DL   63   905.1111  0.2539683\n",
       "2936 N986AT   24   654.5417  0.1250000\n",
       "2937 N986DL   73   943.7808  5.5833333\n",
       "2938 N987AT   28   618.6071 37.3846154\n",
       "2939 N987DL   55   922.8727 -3.2909091\n",
       "2940 N988AT   37   642.9730 44.3428571\n",
       "2941 N988DL   55   864.2000  9.4716981\n",
       "2942 N989AT   66   694.8182 28.1935484\n",
       "2943 N989DL   89   908.6854 11.0340909\n",
       "2944 N990AT   71   731.6056 16.3857143\n",
       "2945 N990DL   56   863.0357 12.4285714\n",
       "2946 N991AT   25   659.8000 15.6800000\n",
       "2947 N991DL   92   902.9239  7.3369565\n",
       "2948 N992AT   38   637.1316 17.7837838\n",
       "2949 N992DL   57   902.7544 -6.6491228\n",
       "2950 N993AT   47   606.6809 10.4042553\n",
       "2951 N993DL   55   884.9091 16.9811321\n",
       "2952 N994AT   31   698.4839 31.4838710\n",
       "2953 N994DL   61   886.7869  5.0327869\n",
       "2954 N995DL   57   883.5789  1.9298246\n",
       "2955 N996AT   29   673.8966  6.5384615\n",
       "2956 N996DL  102   897.3039  0.5247525\n",
       "2957 N997AT   44   679.0455 16.3023256\n",
       "2958 N997DL   63   867.7619  4.9032258\n",
       "2959 N998AT   26   593.5385 29.9600000\n",
       "2960 N998DL   77   857.8182 16.3947368\n",
       "2961 N999DN   61   895.4590 14.3114754\n",
       "2962 N9EAMQ  248   674.6653  9.2352941"
      ]
     },
     "metadata": {},
     "output_type": "display_data"
    }
   ],
   "source": [
    "delay_local"
   ]
  }
 ],
 "metadata": {
  "kernelspec": {
   "display_name": "R",
   "language": "R",
   "name": "ir"
  },
  "language_info": {
   "codemirror_mode": "r",
   "file_extension": ".r",
   "mimetype": "text/x-r-source",
   "name": "R",
   "pygments_lexer": "r",
   "version": "3.3.2"
  }
 },
 "nbformat": 4,
 "nbformat_minor": 2
}
