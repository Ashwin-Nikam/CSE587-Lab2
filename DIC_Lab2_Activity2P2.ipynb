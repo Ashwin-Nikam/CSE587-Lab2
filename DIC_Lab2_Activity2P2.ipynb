{
 "cells": [
  {
   "cell_type": "code",
   "execution_count": 31,
   "metadata": {
    "collapsed": false
   },
   "outputs": [],
   "source": [
    "library(dplyr) \n",
    "library(\"RSQLite\")\n",
    "library(data.table)\n",
    "library(\"sqldf\")"
   ]
  },
  {
   "cell_type": "markdown",
   "metadata": {},
   "source": [
    "Which are the top 10 players by overall rating?"
   ]
  },
  {
   "cell_type": "code",
   "execution_count": 32,
   "metadata": {
    "collapsed": false
   },
   "outputs": [
    {
     "data": {
      "text/html": [
       "<table>\n",
       "<thead><tr><th scope=col>player_name</th><th scope=col>overall_rating</th></tr></thead>\n",
       "<tbody>\n",
       "\t<tr><td>Lionel Messi     </td><td>94               </td></tr>\n",
       "\t<tr><td>Gianluigi Buffon </td><td>93               </td></tr>\n",
       "\t<tr><td>Wayne Rooney     </td><td>93               </td></tr>\n",
       "\t<tr><td>Cristiano Ronaldo</td><td>93               </td></tr>\n",
       "\t<tr><td>Xavi Hernandez   </td><td>92               </td></tr>\n",
       "\t<tr><td>Gregory Coupet   </td><td>92               </td></tr>\n",
       "\t<tr><td>Thierry Henry    </td><td>91               </td></tr>\n",
       "\t<tr><td>John Terry       </td><td>91               </td></tr>\n",
       "\t<tr><td>Iker Casillas    </td><td>91               </td></tr>\n",
       "\t<tr><td>Alessandro Nesta </td><td>91               </td></tr>\n",
       "</tbody>\n",
       "</table>\n"
      ],
      "text/latex": [
       "\\begin{tabular}{r|ll}\n",
       " player\\_name & overall\\_rating\\\\\n",
       "\\hline\n",
       "\t Lionel Messi      & 94               \\\\\n",
       "\t Gianluigi Buffon  & 93               \\\\\n",
       "\t Wayne Rooney      & 93               \\\\\n",
       "\t Cristiano Ronaldo & 93               \\\\\n",
       "\t Xavi Hernandez    & 92               \\\\\n",
       "\t Gregory Coupet    & 92               \\\\\n",
       "\t Thierry Henry     & 91               \\\\\n",
       "\t John Terry        & 91               \\\\\n",
       "\t Iker Casillas     & 91               \\\\\n",
       "\t Alessandro Nesta  & 91               \\\\\n",
       "\\end{tabular}\n"
      ],
      "text/markdown": [
       "\n",
       "player_name | overall_rating | \n",
       "|---|---|---|---|---|---|---|---|---|---|\n",
       "| Lionel Messi      | 94                | \n",
       "| Gianluigi Buffon  | 93                | \n",
       "| Wayne Rooney      | 93                | \n",
       "| Cristiano Ronaldo | 93                | \n",
       "| Xavi Hernandez    | 92                | \n",
       "| Gregory Coupet    | 92                | \n",
       "| Thierry Henry     | 91                | \n",
       "| John Terry        | 91                | \n",
       "| Iker Casillas     | 91                | \n",
       "| Alessandro Nesta  | 91                | \n",
       "\n",
       "\n"
      ],
      "text/plain": [
       "   player_name       overall_rating\n",
       "1  Lionel Messi      94            \n",
       "2  Gianluigi Buffon  93            \n",
       "3  Wayne Rooney      93            \n",
       "4  Cristiano Ronaldo 93            \n",
       "5  Xavi Hernandez    92            \n",
       "6  Gregory Coupet    92            \n",
       "7  Thierry Henry     91            \n",
       "8  John Terry        91            \n",
       "9  Iker Casillas     91            \n",
       "10 Alessandro Nesta  91            "
      ]
     },
     "metadata": {},
     "output_type": "display_data"
    }
   ],
   "source": [
    "Data <- read.csv(file=\"player.csv\", header=TRUE, sep=\",\")\n",
    "DFrame = as.data.frame(Data)\n",
    "Ans1 = sqldf('SELECT player_name, overall_rating\n",
    "FROM DFrame\n",
    "ORDER BY overall_rating DESC\n",
    "LIMIT 10')\n",
    "Ans1"
   ]
  },
  {
   "cell_type": "markdown",
   "metadata": {},
   "source": [
    "Which are the top 10 goalkeepers by sum of gk attributes?"
   ]
  },
  {
   "cell_type": "code",
   "execution_count": 33,
   "metadata": {
    "collapsed": false
   },
   "outputs": [
    {
     "data": {
      "text/html": [
       "<table>\n",
       "<thead><tr><th scope=col>player_name</th><th scope=col>gk_rating</th></tr></thead>\n",
       "<tbody>\n",
       "\t<tr><td>Gianluigi Buffon </td><td>449              </td></tr>\n",
       "\t<tr><td>Gregory Coupet   </td><td>447              </td></tr>\n",
       "\t<tr><td>Petr Cech        </td><td>443              </td></tr>\n",
       "\t<tr><td>Iker Casillas    </td><td>442              </td></tr>\n",
       "\t<tr><td>Manuel Neuer     </td><td>440              </td></tr>\n",
       "\t<tr><td>Julio Cesar      </td><td>438              </td></tr>\n",
       "\t<tr><td>Sebastian Frey   </td><td>437              </td></tr>\n",
       "\t<tr><td>Edwin van der Sar</td><td>436              </td></tr>\n",
       "\t<tr><td>David De Gea     </td><td>429              </td></tr>\n",
       "\t<tr><td>Paul Robinson    </td><td>426              </td></tr>\n",
       "</tbody>\n",
       "</table>\n"
      ],
      "text/latex": [
       "\\begin{tabular}{r|ll}\n",
       " player\\_name & gk\\_rating\\\\\n",
       "\\hline\n",
       "\t Gianluigi Buffon  & 449              \\\\\n",
       "\t Gregory Coupet    & 447              \\\\\n",
       "\t Petr Cech         & 443              \\\\\n",
       "\t Iker Casillas     & 442              \\\\\n",
       "\t Manuel Neuer      & 440              \\\\\n",
       "\t Julio Cesar       & 438              \\\\\n",
       "\t Sebastian Frey    & 437              \\\\\n",
       "\t Edwin van der Sar & 436              \\\\\n",
       "\t David De Gea      & 429              \\\\\n",
       "\t Paul Robinson     & 426              \\\\\n",
       "\\end{tabular}\n"
      ],
      "text/markdown": [
       "\n",
       "player_name | gk_rating | \n",
       "|---|---|---|---|---|---|---|---|---|---|\n",
       "| Gianluigi Buffon  | 449               | \n",
       "| Gregory Coupet    | 447               | \n",
       "| Petr Cech         | 443               | \n",
       "| Iker Casillas     | 442               | \n",
       "| Manuel Neuer      | 440               | \n",
       "| Julio Cesar       | 438               | \n",
       "| Sebastian Frey    | 437               | \n",
       "| Edwin van der Sar | 436               | \n",
       "| David De Gea      | 429               | \n",
       "| Paul Robinson     | 426               | \n",
       "\n",
       "\n"
      ],
      "text/plain": [
       "   player_name       gk_rating\n",
       "1  Gianluigi Buffon  449      \n",
       "2  Gregory Coupet    447      \n",
       "3  Petr Cech         443      \n",
       "4  Iker Casillas     442      \n",
       "5  Manuel Neuer      440      \n",
       "6  Julio Cesar       438      \n",
       "7  Sebastian Frey    437      \n",
       "8  Edwin van der Sar 436      \n",
       "9  David De Gea      429      \n",
       "10 Paul Robinson     426      "
      ]
     },
     "metadata": {},
     "output_type": "display_data"
    }
   ],
   "source": [
    "Data <- read.csv(file=\"player.csv\", header=TRUE, sep=\",\")\n",
    "DFrame = as.data.frame(Data)\n",
    "Ans2 = sqldf('SELECT player_name, gk_rating\n",
    "FROM DFrame\n",
    "ORDER BY gk_rating DESC\n",
    "LIMIT 10')\n",
    "Ans2"
   ]
  },
  {
   "cell_type": "markdown",
   "metadata": {},
   "source": [
    "Which are the top 10 players by number of appearances (with any team they played with)?"
   ]
  },
  {
   "cell_type": "code",
   "execution_count": 34,
   "metadata": {
    "collapsed": false
   },
   "outputs": [
    {
     "data": {
      "text/html": [
       "<table>\n",
       "<thead><tr><th scope=col>player_name</th><th scope=col>appearances</th></tr></thead>\n",
       "<tbody>\n",
       "\t<tr><td>Steve Mandanda      </td><td>300                 </td></tr>\n",
       "\t<tr><td>Stephane Ruffier    </td><td>294                 </td></tr>\n",
       "\t<tr><td>Gorka Iraizoz Moreno</td><td>286                 </td></tr>\n",
       "\t<tr><td>Samir Handanovic    </td><td>286                 </td></tr>\n",
       "\t<tr><td>Hugo Lloris         </td><td>282                 </td></tr>\n",
       "\t<tr><td>Tim Howard          </td><td>282                 </td></tr>\n",
       "\t<tr><td>Joe Hart            </td><td>275                 </td></tr>\n",
       "\t<tr><td>Cedric Carrasso     </td><td>268                 </td></tr>\n",
       "\t<tr><td>Daniel Congre       </td><td>262                 </td></tr>\n",
       "\t<tr><td>Moussa Sissoko      </td><td>260                 </td></tr>\n",
       "</tbody>\n",
       "</table>\n"
      ],
      "text/latex": [
       "\\begin{tabular}{r|ll}\n",
       " player\\_name & appearances\\\\\n",
       "\\hline\n",
       "\t Steve Mandanda       & 300                 \\\\\n",
       "\t Stephane Ruffier     & 294                 \\\\\n",
       "\t Gorka Iraizoz Moreno & 286                 \\\\\n",
       "\t Samir Handanovic     & 286                 \\\\\n",
       "\t Hugo Lloris          & 282                 \\\\\n",
       "\t Tim Howard           & 282                 \\\\\n",
       "\t Joe Hart             & 275                 \\\\\n",
       "\t Cedric Carrasso      & 268                 \\\\\n",
       "\t Daniel Congre        & 262                 \\\\\n",
       "\t Moussa Sissoko       & 260                 \\\\\n",
       "\\end{tabular}\n"
      ],
      "text/markdown": [
       "\n",
       "player_name | appearances | \n",
       "|---|---|---|---|---|---|---|---|---|---|\n",
       "| Steve Mandanda       | 300                  | \n",
       "| Stephane Ruffier     | 294                  | \n",
       "| Gorka Iraizoz Moreno | 286                  | \n",
       "| Samir Handanovic     | 286                  | \n",
       "| Hugo Lloris          | 282                  | \n",
       "| Tim Howard           | 282                  | \n",
       "| Joe Hart             | 275                  | \n",
       "| Cedric Carrasso      | 268                  | \n",
       "| Daniel Congre        | 262                  | \n",
       "| Moussa Sissoko       | 260                  | \n",
       "\n",
       "\n"
      ],
      "text/plain": [
       "   player_name          appearances\n",
       "1  Steve Mandanda       300        \n",
       "2  Stephane Ruffier     294        \n",
       "3  Gorka Iraizoz Moreno 286        \n",
       "4  Samir Handanovic     286        \n",
       "5  Hugo Lloris          282        \n",
       "6  Tim Howard           282        \n",
       "7  Joe Hart             275        \n",
       "8  Cedric Carrasso      268        \n",
       "9  Daniel Congre        262        \n",
       "10 Moussa Sissoko       260        "
      ]
     },
     "metadata": {},
     "output_type": "display_data"
    }
   ],
   "source": [
    "Data <- read.csv(file=\"player.csv\", header=TRUE, sep=\",\")\n",
    "DFrame = as.data.frame(Data)\n",
    "Ans3 = sqldf('SELECT player_name, appearances\n",
    "FROM DFrame\n",
    "ORDER BY appearances DESC\n",
    "LIMIT 10')\n",
    "Ans3"
   ]
  },
  {
   "cell_type": "markdown",
   "metadata": {},
   "source": [
    "Which are the top 10 players by number of leagues they played in?"
   ]
  },
  {
   "cell_type": "code",
   "execution_count": 35,
   "metadata": {
    "collapsed": false
   },
   "outputs": [
    {
     "data": {
      "text/html": [
       "<table>\n",
       "<thead><tr><th scope=col>player_name</th><th scope=col>league_no</th></tr></thead>\n",
       "<tbody>\n",
       "\t<tr><td>Gelson Fernandes     </td><td>6                    </td></tr>\n",
       "\t<tr><td>Ricky van Wolfswinkel</td><td>5                    </td></tr>\n",
       "\t<tr><td>Filip Djuricic       </td><td>5                    </td></tr>\n",
       "\t<tr><td>Radamel Falcao       </td><td>4                    </td></tr>\n",
       "\t<tr><td>Jonathan De Guzman   </td><td>4                    </td></tr>\n",
       "\t<tr><td>Almen Abdi           </td><td>4                    </td></tr>\n",
       "\t<tr><td>Ibrahim Afellay      </td><td>4                    </td></tr>\n",
       "\t<tr><td>Edson Braafheid      </td><td>4                    </td></tr>\n",
       "\t<tr><td>Eljero Elia          </td><td>4                    </td></tr>\n",
       "\t<tr><td>Danijel Pranjic      </td><td>4                    </td></tr>\n",
       "</tbody>\n",
       "</table>\n"
      ],
      "text/latex": [
       "\\begin{tabular}{r|ll}\n",
       " player\\_name & league\\_no\\\\\n",
       "\\hline\n",
       "\t Gelson Fernandes      & 6                    \\\\\n",
       "\t Ricky van Wolfswinkel & 5                    \\\\\n",
       "\t Filip Djuricic        & 5                    \\\\\n",
       "\t Radamel Falcao        & 4                    \\\\\n",
       "\t Jonathan De Guzman    & 4                    \\\\\n",
       "\t Almen Abdi            & 4                    \\\\\n",
       "\t Ibrahim Afellay       & 4                    \\\\\n",
       "\t Edson Braafheid       & 4                    \\\\\n",
       "\t Eljero Elia           & 4                    \\\\\n",
       "\t Danijel Pranjic       & 4                    \\\\\n",
       "\\end{tabular}\n"
      ],
      "text/markdown": [
       "\n",
       "player_name | league_no | \n",
       "|---|---|---|---|---|---|---|---|---|---|\n",
       "| Gelson Fernandes      | 6                     | \n",
       "| Ricky van Wolfswinkel | 5                     | \n",
       "| Filip Djuricic        | 5                     | \n",
       "| Radamel Falcao        | 4                     | \n",
       "| Jonathan De Guzman    | 4                     | \n",
       "| Almen Abdi            | 4                     | \n",
       "| Ibrahim Afellay       | 4                     | \n",
       "| Edson Braafheid       | 4                     | \n",
       "| Eljero Elia           | 4                     | \n",
       "| Danijel Pranjic       | 4                     | \n",
       "\n",
       "\n"
      ],
      "text/plain": [
       "   player_name           league_no\n",
       "1  Gelson Fernandes      6        \n",
       "2  Ricky van Wolfswinkel 5        \n",
       "3  Filip Djuricic        5        \n",
       "4  Radamel Falcao        4        \n",
       "5  Jonathan De Guzman    4        \n",
       "6  Almen Abdi            4        \n",
       "7  Ibrahim Afellay       4        \n",
       "8  Edson Braafheid       4        \n",
       "9  Eljero Elia           4        \n",
       "10 Danijel Pranjic       4        "
      ]
     },
     "metadata": {},
     "output_type": "display_data"
    }
   ],
   "source": [
    "Data <- read.csv(file=\"player.csv\", header=TRUE, sep=\",\")\n",
    "DFrame = as.data.frame(Data)\n",
    "Ans4 = sqldf('SELECT player_name, league_no\n",
    "FROM DFrame\n",
    "ORDER BY league_no DESC\n",
    "LIMIT 10')\n",
    "Ans4"
   ]
  },
  {
   "cell_type": "markdown",
   "metadata": {},
   "source": [
    "Which are the top teams by sum of build up play attributes?"
   ]
  },
  {
   "cell_type": "code",
   "execution_count": 36,
   "metadata": {
    "collapsed": false
   },
   "outputs": [
    {
     "data": {
      "text/html": [
       "<table>\n",
       "<thead><tr><th scope=col>team_name</th><th scope=col>build_up_play</th></tr></thead>\n",
       "<tbody>\n",
       "\t<tr><td>GKS Bełchatów       </td><td>175                 </td></tr>\n",
       "\t<tr><td>Sporting Charleroi  </td><td>175                 </td></tr>\n",
       "\t<tr><td>1. FC Kaiserslautern</td><td>147                 </td></tr>\n",
       "\t<tr><td>1. FC Köln          </td><td>147                 </td></tr>\n",
       "\t<tr><td>1. FC Nürnberg      </td><td>147                 </td></tr>\n",
       "\t<tr><td>1. FSV Mainz 05     </td><td>147                 </td></tr>\n",
       "\t<tr><td>AC Ajaccio          </td><td>147                 </td></tr>\n",
       "\t<tr><td>AC Arles-Avignon    </td><td>147                 </td></tr>\n",
       "\t<tr><td>AC Bellinzona       </td><td>147                 </td></tr>\n",
       "\t<tr><td>ADO Den Haag        </td><td>147                 </td></tr>\n",
       "</tbody>\n",
       "</table>\n"
      ],
      "text/latex": [
       "\\begin{tabular}{r|ll}\n",
       " team\\_name & build\\_up\\_play\\\\\n",
       "\\hline\n",
       "\t GKS Bełchatów        & 175                 \\\\\n",
       "\t Sporting Charleroi   & 175                 \\\\\n",
       "\t 1. FC Kaiserslautern & 147                 \\\\\n",
       "\t 1. FC Köln           & 147                 \\\\\n",
       "\t 1. FC Nürnberg       & 147                 \\\\\n",
       "\t 1. FSV Mainz 05      & 147                 \\\\\n",
       "\t AC Ajaccio           & 147                 \\\\\n",
       "\t AC Arles-Avignon     & 147                 \\\\\n",
       "\t AC Bellinzona        & 147                 \\\\\n",
       "\t ADO Den Haag         & 147                 \\\\\n",
       "\\end{tabular}\n"
      ],
      "text/markdown": [
       "\n",
       "team_name | build_up_play | \n",
       "|---|---|---|---|---|---|---|---|---|---|\n",
       "| GKS Bełchatów        | 175                  | \n",
       "| Sporting Charleroi   | 175                  | \n",
       "| 1. FC Kaiserslautern | 147                  | \n",
       "| 1. FC Köln           | 147                  | \n",
       "| 1. FC Nürnberg       | 147                  | \n",
       "| 1. FSV Mainz 05      | 147                  | \n",
       "| AC Ajaccio           | 147                  | \n",
       "| AC Arles-Avignon     | 147                  | \n",
       "| AC Bellinzona        | 147                  | \n",
       "| ADO Den Haag         | 147                  | \n",
       "\n",
       "\n"
      ],
      "text/plain": [
       "   team_name            build_up_play\n",
       "1  GKS Bełchatów        175          \n",
       "2  Sporting Charleroi   175          \n",
       "3  1. FC Kaiserslautern 147          \n",
       "4  1. FC Köln           147          \n",
       "5  1. FC Nürnberg       147          \n",
       "6  1. FSV Mainz 05      147          \n",
       "7  AC Ajaccio           147          \n",
       "8  AC Arles-Avignon     147          \n",
       "9  AC Bellinzona        147          \n",
       "10 ADO Den Haag         147          "
      ]
     },
     "metadata": {},
     "output_type": "display_data"
    }
   ],
   "source": [
    "Data <- read.csv(file=\"team.csv\", header=TRUE, sep=\",\")\n",
    "DFrame = as.data.frame(Data)\n",
    "Ans5 = sqldf('SELECT team_name, build_up_play\n",
    "FROM DFrame\n",
    "ORDER BY build_up_play DESC\n",
    "LIMIT 10')\n",
    "Ans5"
   ]
  },
  {
   "cell_type": "code",
   "execution_count": 37,
   "metadata": {
    "collapsed": false
   },
   "outputs": [
    {
     "data": {
      "text/html": [
       "<table>\n",
       "<thead><tr><th scope=col>team_name</th><th scope=col>chance_creation</th></tr></thead>\n",
       "<tbody>\n",
       "\t<tr><td>KV Oostende          </td><td>200                  </td></tr>\n",
       "\t<tr><td>Zagłębie Lubin       </td><td>200                  </td></tr>\n",
       "\t<tr><td>Korona Kielce        </td><td>184                  </td></tr>\n",
       "\t<tr><td>Waasland-Beveren     </td><td>184                  </td></tr>\n",
       "\t<tr><td>Royal Excel Mouscron </td><td>166                  </td></tr>\n",
       "\t<tr><td>Cracovia             </td><td>165                  </td></tr>\n",
       "\t<tr><td>Oud-Heverlee Leuven  </td><td>165                  </td></tr>\n",
       "\t<tr><td>Jagiellonia Białystok</td><td>163                  </td></tr>\n",
       "\t<tr><td>Lierse SK            </td><td>163                  </td></tr>\n",
       "\t<tr><td>GKS Bełchatów        </td><td>160                  </td></tr>\n",
       "</tbody>\n",
       "</table>\n"
      ],
      "text/latex": [
       "\\begin{tabular}{r|ll}\n",
       " team\\_name & chance\\_creation\\\\\n",
       "\\hline\n",
       "\t KV Oostende           & 200                  \\\\\n",
       "\t Zagłębie Lubin        & 200                  \\\\\n",
       "\t Korona Kielce         & 184                  \\\\\n",
       "\t Waasland-Beveren      & 184                  \\\\\n",
       "\t Royal Excel Mouscron  & 166                  \\\\\n",
       "\t Cracovia              & 165                  \\\\\n",
       "\t Oud-Heverlee Leuven   & 165                  \\\\\n",
       "\t Jagiellonia Białystok & 163                  \\\\\n",
       "\t Lierse SK             & 163                  \\\\\n",
       "\t GKS Bełchatów         & 160                  \\\\\n",
       "\\end{tabular}\n"
      ],
      "text/markdown": [
       "\n",
       "team_name | chance_creation | \n",
       "|---|---|---|---|---|---|---|---|---|---|\n",
       "| KV Oostende           | 200                   | \n",
       "| Zagłębie Lubin        | 200                   | \n",
       "| Korona Kielce         | 184                   | \n",
       "| Waasland-Beveren      | 184                   | \n",
       "| Royal Excel Mouscron  | 166                   | \n",
       "| Cracovia              | 165                   | \n",
       "| Oud-Heverlee Leuven   | 165                   | \n",
       "| Jagiellonia Białystok | 163                   | \n",
       "| Lierse SK             | 163                   | \n",
       "| GKS Bełchatów         | 160                   | \n",
       "\n",
       "\n"
      ],
      "text/plain": [
       "   team_name             chance_creation\n",
       "1  KV Oostende           200            \n",
       "2  Zagłębie Lubin        200            \n",
       "3  Korona Kielce         184            \n",
       "4  Waasland-Beveren      184            \n",
       "5  Royal Excel Mouscron  166            \n",
       "6  Cracovia              165            \n",
       "7  Oud-Heverlee Leuven   165            \n",
       "8  Jagiellonia Białystok 163            \n",
       "9  Lierse SK             163            \n",
       "10 GKS Bełchatów         160            "
      ]
     },
     "metadata": {},
     "output_type": "display_data"
    }
   ],
   "source": [
    "Data <- read.csv(file=\"team.csv\", header=TRUE, sep=\",\")\n",
    "DFrame = as.data.frame(Data)\n",
    "Ans6 = sqldf('SELECT team_name, chance_creation\n",
    "FROM DFrame\n",
    "ORDER BY chance_creation DESC\n",
    "LIMIT 10')\n",
    "Ans6"
   ]
  },
  {
   "cell_type": "markdown",
   "metadata": {},
   "source": [
    "Which are the top 10 teams by sum of defense attributes?"
   ]
  },
  {
   "cell_type": "code",
   "execution_count": 38,
   "metadata": {
    "collapsed": false
   },
   "outputs": [
    {
     "data": {
      "text/html": [
       "<table>\n",
       "<thead><tr><th scope=col>team_name</th><th scope=col>defence</th></tr></thead>\n",
       "<tbody>\n",
       "\t<tr><td>KV Oostende          </td><td>162                  </td></tr>\n",
       "\t<tr><td>Zagłębie Lubin       </td><td>162                  </td></tr>\n",
       "\t<tr><td>Odra Wodzisław       </td><td>160                  </td></tr>\n",
       "\t<tr><td>Jagiellonia Białystok</td><td>158                  </td></tr>\n",
       "\t<tr><td>Lierse SK            </td><td>158                  </td></tr>\n",
       "\t<tr><td>KAS Eupen            </td><td>155                  </td></tr>\n",
       "\t<tr><td>Piast Gliwice        </td><td>155                  </td></tr>\n",
       "\t<tr><td>Widzew Łódź          </td><td>155                  </td></tr>\n",
       "\t<tr><td>Royal Excel Mouscron </td><td>154                  </td></tr>\n",
       "\t<tr><td>Korona Kielce        </td><td>153                  </td></tr>\n",
       "</tbody>\n",
       "</table>\n"
      ],
      "text/latex": [
       "\\begin{tabular}{r|ll}\n",
       " team\\_name & defence\\\\\n",
       "\\hline\n",
       "\t KV Oostende           & 162                  \\\\\n",
       "\t Zagłębie Lubin        & 162                  \\\\\n",
       "\t Odra Wodzisław        & 160                  \\\\\n",
       "\t Jagiellonia Białystok & 158                  \\\\\n",
       "\t Lierse SK             & 158                  \\\\\n",
       "\t KAS Eupen             & 155                  \\\\\n",
       "\t Piast Gliwice         & 155                  \\\\\n",
       "\t Widzew Łódź           & 155                  \\\\\n",
       "\t Royal Excel Mouscron  & 154                  \\\\\n",
       "\t Korona Kielce         & 153                  \\\\\n",
       "\\end{tabular}\n"
      ],
      "text/markdown": [
       "\n",
       "team_name | defence | \n",
       "|---|---|---|---|---|---|---|---|---|---|\n",
       "| KV Oostende           | 162                   | \n",
       "| Zagłębie Lubin        | 162                   | \n",
       "| Odra Wodzisław        | 160                   | \n",
       "| Jagiellonia Białystok | 158                   | \n",
       "| Lierse SK             | 158                   | \n",
       "| KAS Eupen             | 155                   | \n",
       "| Piast Gliwice         | 155                   | \n",
       "| Widzew Łódź           | 155                   | \n",
       "| Royal Excel Mouscron  | 154                   | \n",
       "| Korona Kielce         | 153                   | \n",
       "\n",
       "\n"
      ],
      "text/plain": [
       "   team_name             defence\n",
       "1  KV Oostende           162    \n",
       "2  Zagłębie Lubin        162    \n",
       "3  Odra Wodzisław        160    \n",
       "4  Jagiellonia Białystok 158    \n",
       "5  Lierse SK             158    \n",
       "6  KAS Eupen             155    \n",
       "7  Piast Gliwice         155    \n",
       "8  Widzew Łódź           155    \n",
       "9  Royal Excel Mouscron  154    \n",
       "10 Korona Kielce         153    "
      ]
     },
     "metadata": {},
     "output_type": "display_data"
    }
   ],
   "source": [
    "Data <- read.csv(file=\"team.csv\", header=TRUE, sep=\",\")\n",
    "DFrame = as.data.frame(Data)\n",
    "Ans7 = sqldf('SELECT team_name, defence\n",
    "FROM DFrame\n",
    "ORDER BY defence DESC\n",
    "LIMIT 10')\n",
    "Ans7"
   ]
  },
  {
   "cell_type": "markdown",
   "metadata": {},
   "source": [
    "Which are the top 10 teams by number of scored goals?"
   ]
  },
  {
   "cell_type": "code",
   "execution_count": 39,
   "metadata": {
    "collapsed": false
   },
   "outputs": [
    {
     "data": {
      "text/html": [
       "<table>\n",
       "<thead><tr><th scope=col>team_name</th><th scope=col>total_goals</th></tr></thead>\n",
       "<tbody>\n",
       "\t<tr><td>FC Barcelona     </td><td>849              </td></tr>\n",
       "\t<tr><td>Real Madrid CF   </td><td>843              </td></tr>\n",
       "\t<tr><td>Celtic           </td><td>695              </td></tr>\n",
       "\t<tr><td>FC Bayern Munich </td><td>653              </td></tr>\n",
       "\t<tr><td>PSV              </td><td>652              </td></tr>\n",
       "\t<tr><td>Ajax             </td><td>647              </td></tr>\n",
       "\t<tr><td>FC Basel         </td><td>619              </td></tr>\n",
       "\t<tr><td>Manchester City  </td><td>606              </td></tr>\n",
       "\t<tr><td>Chelsea          </td><td>583              </td></tr>\n",
       "\t<tr><td>Manchester United</td><td>582              </td></tr>\n",
       "</tbody>\n",
       "</table>\n"
      ],
      "text/latex": [
       "\\begin{tabular}{r|ll}\n",
       " team\\_name & total\\_goals\\\\\n",
       "\\hline\n",
       "\t FC Barcelona      & 849              \\\\\n",
       "\t Real Madrid CF    & 843              \\\\\n",
       "\t Celtic            & 695              \\\\\n",
       "\t FC Bayern Munich  & 653              \\\\\n",
       "\t PSV               & 652              \\\\\n",
       "\t Ajax              & 647              \\\\\n",
       "\t FC Basel          & 619              \\\\\n",
       "\t Manchester City   & 606              \\\\\n",
       "\t Chelsea           & 583              \\\\\n",
       "\t Manchester United & 582              \\\\\n",
       "\\end{tabular}\n"
      ],
      "text/markdown": [
       "\n",
       "team_name | total_goals | \n",
       "|---|---|---|---|---|---|---|---|---|---|\n",
       "| FC Barcelona      | 849               | \n",
       "| Real Madrid CF    | 843               | \n",
       "| Celtic            | 695               | \n",
       "| FC Bayern Munich  | 653               | \n",
       "| PSV               | 652               | \n",
       "| Ajax              | 647               | \n",
       "| FC Basel          | 619               | \n",
       "| Manchester City   | 606               | \n",
       "| Chelsea           | 583               | \n",
       "| Manchester United | 582               | \n",
       "\n",
       "\n"
      ],
      "text/plain": [
       "   team_name         total_goals\n",
       "1  FC Barcelona      849        \n",
       "2  Real Madrid CF    843        \n",
       "3  Celtic            695        \n",
       "4  FC Bayern Munich  653        \n",
       "5  PSV               652        \n",
       "6  Ajax              647        \n",
       "7  FC Basel          619        \n",
       "8  Manchester City   606        \n",
       "9  Chelsea           583        \n",
       "10 Manchester United 582        "
      ]
     },
     "metadata": {},
     "output_type": "display_data"
    }
   ],
   "source": [
    "Data <- read.csv(file=\"team.csv\", header=TRUE, sep=\",\")\n",
    "DFrame = as.data.frame(Data)\n",
    "Ans8 = sqldf('SELECT team_name, total_goals\n",
    "FROM DFrame\n",
    "ORDER BY total_goals DESC\n",
    "LIMIT 10')\n",
    "Ans8"
   ]
  }
 ],
 "metadata": {
  "kernelspec": {
   "display_name": "R",
   "language": "R",
   "name": "ir"
  },
  "language_info": {
   "codemirror_mode": "r",
   "file_extension": ".r",
   "mimetype": "text/x-r-source",
   "name": "R",
   "pygments_lexer": "r",
   "version": "3.3.2"
  }
 },
 "nbformat": 4,
 "nbformat_minor": 2
}
